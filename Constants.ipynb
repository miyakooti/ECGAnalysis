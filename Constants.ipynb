{
 "cells": [
  {
   "cell_type": "markdown",
   "id": "da9657c6",
   "metadata": {},
   "source": [
    "https://qiita.com/minidaruma/items/11eafc95855c007335f6"
   ]
  },
  {
   "cell_type": "code",
   "execution_count": 2,
   "id": "9762b395",
   "metadata": {},
   "outputs": [],
   "source": [
    "class Constants:\n",
    "    subject_name_list = [\"kumakura\",\"kim\",\"souma\",\"fujii\",\"tubota\",\"toki\"]\n",
    "    phase_name_list = [\"rest\", \"practice\", \"boredom\", \"flow\", \"ultra\", \"overload\"]"
   ]
  },
  {
   "cell_type": "code",
   "execution_count": null,
   "id": "bec40880",
   "metadata": {},
   "outputs": [],
   "source": []
  }
 ],
 "metadata": {
  "kernelspec": {
   "display_name": "Python 3 (ipykernel)",
   "language": "python",
   "name": "python3"
  },
  "language_info": {
   "codemirror_mode": {
    "name": "ipython",
    "version": 3
   },
   "file_extension": ".py",
   "mimetype": "text/x-python",
   "name": "python",
   "nbconvert_exporter": "python",
   "pygments_lexer": "ipython3",
   "version": "3.9.13"
  }
 },
 "nbformat": 4,
 "nbformat_minor": 5
}
