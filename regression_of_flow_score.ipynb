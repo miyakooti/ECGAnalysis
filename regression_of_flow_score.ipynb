{
 "cells": [
  {
   "cell_type": "code",
   "execution_count": 1,
   "id": "510761f2",
   "metadata": {},
   "outputs": [],
   "source": [
    "import numpy as np\n",
    "import pandas as pd\n",
    "import matplotlib.pyplot as plt\n",
    "%matplotlib inline\n",
    "import glob\n",
    "import re\n",
    "\n",
    "from sklearn.linear_model import LinearRegression\n",
    "import seaborn\n",
    "\n",
    "\n",
    "pd.set_option('display.max_columns', 30)"
   ]
  },
  {
   "cell_type": "markdown",
   "id": "2255aa7f",
   "metadata": {},
   "source": [
    "### ここだけ手動で設定"
   ]
  },
  {
   "cell_type": "code",
   "execution_count": 61,
   "id": "55bcdf3e",
   "metadata": {},
   "outputs": [],
   "source": [
    "subject_name_list = [\"kumakura\",\"kim\",\"souma\",\"fujii\",\"tubota\",\"toki\"]\n",
    "phase_name_list = [\"rest\", \"practice\", \"boredom\", \"flow\", \"ultra\", \"overload\"]\n",
    "target_columns = [\"bpm\", \"ibi\", \"lf\", \"hf\",\"lf/hf\",\"FC3\",\"FC4\",\"FCz\",\"mean_3ch\"]\n",
    "target_phases = [\"boredom\", \"flow\",\"ultra\",\"overload\"]"
   ]
  },
  {
   "cell_type": "markdown",
   "id": "f4f84938",
   "metadata": {},
   "source": [
    "# データセットの整形"
   ]
  },
  {
   "cell_type": "code",
   "execution_count": 3,
   "id": "58e49c55",
   "metadata": {
    "scrolled": false
   },
   "outputs": [
    {
     "data": {
      "text/plain": [
       "['/Users/miyakooti/repositories/arai_MATLAB_program/csv/0_kumakura/HRV_and_PLI.csv',\n",
       " '/Users/miyakooti/repositories/arai_MATLAB_program/csv/1_kim/HRV_and_PLI.csv',\n",
       " '/Users/miyakooti/repositories/arai_MATLAB_program/csv/2_souma/HRV_and_PLI.csv',\n",
       " '/Users/miyakooti/repositories/arai_MATLAB_program/csv/3_fujii/HRV_and_PLI.csv',\n",
       " '/Users/miyakooti/repositories/arai_MATLAB_program/csv/4_tubota/HRV_and_PLI.csv',\n",
       " '/Users/miyakooti/repositories/arai_MATLAB_program/csv/5_toki/HRV_and_PLI.csv']"
      ]
     },
     "execution_count": 3,
     "metadata": {},
     "output_type": "execute_result"
    }
   ],
   "source": [
    "pathes = glob.glob(\"/Users/miyakooti/repositories/arai_MATLAB_program/csv/?_*/HRV_and_PLI.csv\")\n",
    "pathes.sort()\n",
    "pathes"
   ]
  },
  {
   "cell_type": "code",
   "execution_count": 42,
   "id": "53376ff6",
   "metadata": {},
   "outputs": [],
   "source": [
    "import statsmodels.api as sm"
   ]
  },
  {
   "cell_type": "markdown",
   "id": "5d91b286",
   "metadata": {},
   "source": [
    "### フェーズごとの単回帰分析"
   ]
  },
  {
   "cell_type": "code",
   "execution_count": 69,
   "id": "bd3a13ee",
   "metadata": {
    "scrolled": true
   },
   "outputs": [
    {
     "name": "stdout",
     "output_type": "stream",
     "text": [
      "boredom,bpm,0.7223031229033197\n",
      "boredom,ibi,0.6647889890337049\n",
      "boredom,lf,0.7911615965433659\n",
      "boredom,hf,0.4005949245266795\n",
      "boredom,lf/hf,0.3408735096708481\n",
      "boredom,FC3,0.3145220638896371\n",
      "boredom,FC4,0.24662850043006335\n",
      "boredom,FCz,0.6696413964192729\n",
      "boredom,mean_3ch,0.37215403888931264\n",
      "flow,bpm,0.36411118872614373\n",
      "flow,ibi,0.32581179140066985\n",
      "flow,lf,0.02495862354075056\n",
      "flow,hf,0.2580588091866477\n",
      "flow,lf/hf,0.38957750600784385\n",
      "flow,FC3,0.8716448617571669\n",
      "flow,FC4,0.7885557062168299\n",
      "flow,FCz,0.0941040952533568\n",
      "flow,mean_3ch,0.5118807306602561\n",
      "ultra,bpm,0.3430930189351431\n",
      "ultra,ibi,0.3957077433013071\n",
      "ultra,lf,0.3763195493179827\n",
      "ultra,hf,0.4953918399398774\n",
      "ultra,lf/hf,0.43468006769866885\n",
      "ultra,FC3,0.5657737929957846\n",
      "ultra,FC4,0.5732617737257457\n",
      "ultra,FCz,0.4729591098520465\n",
      "ultra,mean_3ch,0.5430365452369303\n",
      "overload,bpm,0.6499573129333664\n",
      "overload,ibi,0.6835739107081864\n",
      "overload,lf,0.5556694743306541\n",
      "overload,hf,0.5762391552644546\n",
      "overload,lf/hf,0.6072371594298216\n",
      "overload,FC3,0.0168782374539907\n",
      "overload,FC4,0.47267100629911274\n",
      "overload,FCz,0.6609255357107261\n",
      "overload,mean_3ch,0.2340824688070372\n"
     ]
    }
   ],
   "source": [
    "for i,target_phase in enumerate(target_phases):\n",
    "    \n",
    "    for j,path in enumerate(pathes):\n",
    "        if \"kim\" in path:\n",
    "            continue\n",
    "        df = pd.read_csv(path,index_col=0).fillna(0)\n",
    "        # column\n",
    "        # row\n",
    "        df = df.loc[[target_phase]] # seriesとして取り出したいときはこっち\n",
    "        if j == 0:\n",
    "            flow_dataset = df\n",
    "        else:\n",
    "            flow_dataset = pd.concat([flow_dataset, df], axis=0)\n",
    "\n",
    "\n",
    "    for target_column in target_columns:\n",
    "\n",
    "\n",
    "        x = flow_dataset[target_column]\n",
    "        y = flow_dataset[[\"questionnaire_average\"]]\n",
    "\n",
    "        X = sm.add_constant(x)\n",
    "\n",
    "        model = sm.OLS(y, X)\n",
    "        results = model.fit()\n",
    "        print(f\"{target_phase},{target_column},{results.pvalues[target_column]}\")\n",
    "        "
   ]
  },
  {
   "cell_type": "markdown",
   "id": "aaecd419",
   "metadata": {},
   "source": [
    "# 線形重回帰分析（マルチこに気をつけよう）"
   ]
  },
  {
   "cell_type": "code",
   "execution_count": 12,
   "id": "752e89cf",
   "metadata": {
    "scrolled": true
   },
   "outputs": [
    {
     "name": "stdout",
     "output_type": "stream",
     "text": [
      "                              OLS Regression Results                             \n",
      "=================================================================================\n",
      "Dep. Variable:     questionnaire_average   R-squared:                       0.977\n",
      "Model:                               OLS   Adj. R-squared:                  0.942\n",
      "Method:                    Least Squares   F-statistic:                     28.05\n",
      "Date:                   Thu, 12 Jan 2023   Prob (F-statistic):             0.0346\n",
      "Time:                           23:00:04   Log-Likelihood:                 6.7720\n",
      "No. Observations:                      6   AIC:                            -5.544\n",
      "Df Residuals:                          2   BIC:                            -6.377\n",
      "Df Model:                              3                                         \n",
      "Covariance Type:               nonrobust                                         \n",
      "==============================================================================\n",
      "                 coef    std err          t      P>|t|      [0.025      0.975]\n",
      "------------------------------------------------------------------------------\n",
      "const        112.4892     16.570      6.789      0.021      41.194     183.785\n",
      "bpm           -0.6608      0.107     -6.148      0.025      -1.123      -0.198\n",
      "ibi           -0.0684      0.010     -6.525      0.023      -0.113      -0.023\n",
      "mean_3ch      -3.1859      0.571     -5.581      0.031      -5.642      -0.730\n",
      "==============================================================================\n",
      "Omnibus:                          nan   Durbin-Watson:                   2.116\n",
      "Prob(Omnibus):                    nan   Jarque-Bera (JB):                1.442\n",
      "Skew:                           1.196   Prob(JB):                        0.486\n",
      "Kurtosis:                       3.224   Cond. No.                     2.40e+05\n",
      "==============================================================================\n",
      "\n",
      "Notes:\n",
      "[1] Standard Errors assume that the covariance matrix of the errors is correctly specified.\n",
      "[2] The condition number is large, 2.4e+05. This might indicate that there are\n",
      "strong multicollinearity or other numerical problems.\n"
     ]
    },
    {
     "name": "stderr",
     "output_type": "stream",
     "text": [
      "/Users/miyakooti/opt/anaconda3/lib/python3.9/site-packages/statsmodels/stats/stattools.py:74: ValueWarning: omni_normtest is not valid with less than 8 observations; 6 samples were given.\n",
      "  warn(\"omni_normtest is not valid with less than 8 observations; %i \"\n"
     ]
    }
   ],
   "source": [
    "x = flow_dataset[[\"bpm\", \"ibi\",\"mean_3ch\"]]\n",
    "y = flow_dataset[[\"questionnaire_average\"]]\n",
    "\n",
    "#全要素が1の列を説明変数の先頭に追加,切片をつけるために必ず必要\n",
    "X = sm.add_constant(x)\n",
    " \n",
    "#モデルの設定\n",
    "model = sm.OLS(y, X)\n",
    " \n",
    "#回帰分析の実行\n",
    "results = model.fit()\n",
    " \n",
    "#結果の詳細を表示\n",
    "print(results.summary())\n",
    "\n",
    "## いい結果のように思えるが、多重共線性により偽の有意性が出てしまっている"
   ]
  },
  {
   "cell_type": "markdown",
   "id": "a4ab0254",
   "metadata": {},
   "source": [
    "# 非線形（２次）単回帰分析"
   ]
  },
  {
   "cell_type": "code",
   "execution_count": 70,
   "id": "491c5d5f",
   "metadata": {},
   "outputs": [],
   "source": [
    "import statsmodels.formula.api as smf"
   ]
  },
  {
   "cell_type": "code",
   "execution_count": 94,
   "id": "2b78d46a",
   "metadata": {
    "scrolled": false
   },
   "outputs": [
    {
     "name": "stdout",
     "output_type": "stream",
     "text": [
      "                              OLS Regression Results                             \n",
      "=================================================================================\n",
      "Dep. Variable:     questionnaire_average   R-squared:                       0.248\n",
      "Model:                               OLS   Adj. R-squared:                  0.060\n",
      "Method:                    Least Squares   F-statistic:                     1.318\n",
      "Date:                   Fri, 13 Jan 2023   Prob (F-statistic):              0.315\n",
      "Time:                           21:13:35   Log-Likelihood:                -3.6624\n",
      "No. Observations:                      6   AIC:                             11.32\n",
      "Df Residuals:                          4   BIC:                             10.91\n",
      "Df Model:                              1                                         \n",
      "Covariance Type:               nonrobust                                         \n",
      "==============================================================================\n",
      "                 coef    std err          t      P>|t|      [0.025      0.975]\n",
      "------------------------------------------------------------------------------\n",
      "const          7.2259      0.809      8.936      0.001       4.981       9.471\n",
      "mean_3ch      -1.2279      1.069     -1.148      0.315      -4.197       1.741\n",
      "==============================================================================\n",
      "Omnibus:                          nan   Durbin-Watson:                   2.095\n",
      "Prob(Omnibus):                    nan   Jarque-Bera (JB):                0.481\n",
      "Skew:                          -0.654   Prob(JB):                        0.786\n",
      "Kurtosis:                       2.541   Cond. No.                         7.41\n",
      "==============================================================================\n",
      "\n",
      "Notes:\n",
      "[1] Standard Errors assume that the covariance matrix of the errors is correctly specified.\n"
     ]
    },
    {
     "name": "stderr",
     "output_type": "stream",
     "text": [
      "/Users/miyakooti/opt/anaconda3/lib/python3.9/site-packages/statsmodels/stats/stattools.py:74: ValueWarning: omni_normtest is not valid with less than 8 observations; 6 samples were given.\n",
      "  warn(\"omni_normtest is not valid with less than 8 observations; %i \"\n"
     ]
    }
   ],
   "source": [
    "x = flow_dataset[[\"mean_3ch\"]]\n",
    "y = flow_dataset[[\"questionnaire_average\"]]\n",
    "\n",
    "# X = np.column_stack((x, x**2))\n",
    "x = x+x**2\n",
    "\n",
    "#全要素が1の列を説明変数の先頭に追加（絶対必要！！）\n",
    "X = sm.add_constant(x)\n",
    " \n",
    "#モデルの設定\n",
    "model = sm.OLS(y, X)\n",
    " \n",
    "#回帰分析の実行\n",
    "results = model.fit()\n",
    " \n",
    "#結果の詳細を表示\n",
    "print(results.summary())"
   ]
  },
  {
   "cell_type": "code",
   "execution_count": 51,
   "id": "60f953e2",
   "metadata": {
    "scrolled": true
   },
   "outputs": [
    {
     "data": {
      "text/html": [
       "<div>\n",
       "<style scoped>\n",
       "    .dataframe tbody tr th:only-of-type {\n",
       "        vertical-align: middle;\n",
       "    }\n",
       "\n",
       "    .dataframe tbody tr th {\n",
       "        vertical-align: top;\n",
       "    }\n",
       "\n",
       "    .dataframe thead th {\n",
       "        text-align: right;\n",
       "    }\n",
       "</style>\n",
       "<table border=\"1\" class=\"dataframe\">\n",
       "  <thead>\n",
       "    <tr style=\"text-align: right;\">\n",
       "      <th></th>\n",
       "      <th>const</th>\n",
       "      <th>lf</th>\n",
       "    </tr>\n",
       "  </thead>\n",
       "  <tbody>\n",
       "    <tr>\n",
       "      <th>flow</th>\n",
       "      <td>1.0</td>\n",
       "      <td>227.008970</td>\n",
       "    </tr>\n",
       "    <tr>\n",
       "      <th>flow</th>\n",
       "      <td>1.0</td>\n",
       "      <td>227.008970</td>\n",
       "    </tr>\n",
       "    <tr>\n",
       "      <th>flow</th>\n",
       "      <td>1.0</td>\n",
       "      <td>479.902818</td>\n",
       "    </tr>\n",
       "    <tr>\n",
       "      <th>flow</th>\n",
       "      <td>1.0</td>\n",
       "      <td>445.662097</td>\n",
       "    </tr>\n",
       "    <tr>\n",
       "      <th>flow</th>\n",
       "      <td>1.0</td>\n",
       "      <td>428.892008</td>\n",
       "    </tr>\n",
       "    <tr>\n",
       "      <th>flow</th>\n",
       "      <td>1.0</td>\n",
       "      <td>449.168624</td>\n",
       "    </tr>\n",
       "  </tbody>\n",
       "</table>\n",
       "</div>"
      ],
      "text/plain": [
       "      const          lf\n",
       "flow    1.0  227.008970\n",
       "flow    1.0  227.008970\n",
       "flow    1.0  479.902818\n",
       "flow    1.0  445.662097\n",
       "flow    1.0  428.892008\n",
       "flow    1.0  449.168624"
      ]
     },
     "execution_count": 51,
     "metadata": {},
     "output_type": "execute_result"
    }
   ],
   "source": [
    "X"
   ]
  },
  {
   "cell_type": "markdown",
   "id": "89e8a89e",
   "metadata": {},
   "source": [
    "### 参考\n",
    "- https://takacity.blog.fc2.com/blog-entry-305.html\n",
    "- https://self-development.info/%E3%80%90%E5%88%9D%E5%BF%83%E8%80%85%E8%84%B1%E5%87%BA%E3%80%91statsmodels%E3%81%AB%E3%82%88%E3%82%8B%E9%87%8D%E5%9B%9E%E5%B8%B0%E5%88%86%E6%9E%90%E7%B5%90%E6%9E%9C%E3%81%AE%E8%A6%8B%E6%96%B9/\n",
    "- https://teratail.com/questions/256310"
   ]
  },
  {
   "cell_type": "code",
   "execution_count": 59,
   "id": "cb41578a",
   "metadata": {},
   "outputs": [],
   "source": [
    "# 決定係数\n",
    "# 0.9以上\t非常によい\n",
    "# 0.7以上0.9未満\tよい\n",
    "# 0.5以上0.7未満\tあまりよくない\n",
    "# 0.5未満\t悪い\n",
    "\n",
    "# Dep. Variable:     questionnaire_average   R-squared:                       0.915（決定係数。説明変数が目的変数をどれくらい説明できるか）\n",
    "# Model:                               OLS   Adj. R-squared:                  0.893（自由度調整済み決定係数）\n",
    "# Method:                    Least Squares   F-statistic:                     42.82（F値）\n",
    "# Date:                   Fri, 13 Jan 2023   Prob (F-statistic):            0.00282（F値の現れる確率）\n",
    "# Time:                           12:17:03   Log-Likelihood:                 2.8630\n",
    "# No. Observations:           データの行数   AIC:                            -1.726\n",
    "# Df Residuals:               残差の自由度   BIC:                            -2.142\n",
    "# Df Model:                   要因の自由度                                        \n",
    "# Covariance Type:  nonrobust（変数間の相関関係）\n",
    "\n",
    "\n",
    "#                  coef（回帰係数。傾き）    std err（標準誤差）          t      P>|t|      [0.025      0.975]\n",
    "# ------------------------------------------------------------------------------\n",
    "# const          7.3625      0.174     42.246      0.000       6.879       7.846\n",
    "# lf         -6.729e-06   1.03e-06     -6.544      0.003   -9.58e-06   -3.87e-06\n",
    "# ==============================================================================\n",
    "# Omnibus:                          nan   Durbin-Watson:                   1.765\n",
    "# Prob(Omnibus):                    nan   Jarque-Bera (JB):                0.156\n",
    "# Skew:                          -0.179   Prob(JB):                        0.925\n",
    "# Kurtosis:                       2.296   Cond. No.                     3.93e+05\n",
    "# =============================================================================="
   ]
  },
  {
   "cell_type": "code",
   "execution_count": 60,
   "id": "6dcf1954",
   "metadata": {},
   "outputs": [
    {
     "data": {
      "text/plain": [
       "['HC0_se',\n",
       " 'HC1_se',\n",
       " 'HC2_se',\n",
       " 'HC3_se',\n",
       " '_HCCM',\n",
       " '__class__',\n",
       " '__delattr__',\n",
       " '__dict__',\n",
       " '__dir__',\n",
       " '__doc__',\n",
       " '__eq__',\n",
       " '__format__',\n",
       " '__ge__',\n",
       " '__getattribute__',\n",
       " '__gt__',\n",
       " '__hash__',\n",
       " '__init__',\n",
       " '__init_subclass__',\n",
       " '__le__',\n",
       " '__lt__',\n",
       " '__module__',\n",
       " '__ne__',\n",
       " '__new__',\n",
       " '__reduce__',\n",
       " '__reduce_ex__',\n",
       " '__repr__',\n",
       " '__setattr__',\n",
       " '__sizeof__',\n",
       " '__str__',\n",
       " '__subclasshook__',\n",
       " '__weakref__',\n",
       " '_abat_diagonal',\n",
       " '_cache',\n",
       " '_data_attr',\n",
       " '_data_in_cache',\n",
       " '_get_robustcov_results',\n",
       " '_is_nested',\n",
       " '_use_t',\n",
       " '_wexog_singular_values',\n",
       " 'aic',\n",
       " 'bic',\n",
       " 'bse',\n",
       " 'centered_tss',\n",
       " 'compare_f_test',\n",
       " 'compare_lm_test',\n",
       " 'compare_lr_test',\n",
       " 'condition_number',\n",
       " 'conf_int',\n",
       " 'conf_int_el',\n",
       " 'cov_HC0',\n",
       " 'cov_HC1',\n",
       " 'cov_HC2',\n",
       " 'cov_HC3',\n",
       " 'cov_kwds',\n",
       " 'cov_params',\n",
       " 'cov_type',\n",
       " 'df_model',\n",
       " 'df_resid',\n",
       " 'eigenvals',\n",
       " 'el_test',\n",
       " 'ess',\n",
       " 'f_pvalue',\n",
       " 'f_test',\n",
       " 'fittedvalues',\n",
       " 'fvalue',\n",
       " 'get_influence',\n",
       " 'get_prediction',\n",
       " 'get_robustcov_results',\n",
       " 'info_criteria',\n",
       " 'initialize',\n",
       " 'k_constant',\n",
       " 'llf',\n",
       " 'load',\n",
       " 'model',\n",
       " 'mse_model',\n",
       " 'mse_resid',\n",
       " 'mse_total',\n",
       " 'nobs',\n",
       " 'normalized_cov_params',\n",
       " 'outlier_test',\n",
       " 'params',\n",
       " 'predict',\n",
       " 'pvalues',\n",
       " 'remove_data',\n",
       " 'resid',\n",
       " 'resid_pearson',\n",
       " 'rsquared',\n",
       " 'rsquared_adj',\n",
       " 'save',\n",
       " 'scale',\n",
       " 'ssr',\n",
       " 'summary',\n",
       " 'summary2',\n",
       " 't_test',\n",
       " 't_test_pairwise',\n",
       " 'tvalues',\n",
       " 'uncentered_tss',\n",
       " 'use_t',\n",
       " 'wald_test',\n",
       " 'wald_test_terms',\n",
       " 'wresid']"
      ]
     },
     "execution_count": 60,
     "metadata": {},
     "output_type": "execute_result"
    }
   ],
   "source": [
    "dir(results)"
   ]
  },
  {
   "cell_type": "code",
   "execution_count": null,
   "id": "01282329",
   "metadata": {},
   "outputs": [],
   "source": []
  }
 ],
 "metadata": {
  "kernelspec": {
   "display_name": "Python 3 (ipykernel)",
   "language": "python",
   "name": "python3"
  },
  "language_info": {
   "codemirror_mode": {
    "name": "ipython",
    "version": 3
   },
   "file_extension": ".py",
   "mimetype": "text/x-python",
   "name": "python",
   "nbconvert_exporter": "python",
   "pygments_lexer": "ipython3",
   "version": "3.9.13"
  }
 },
 "nbformat": 4,
 "nbformat_minor": 5
}
