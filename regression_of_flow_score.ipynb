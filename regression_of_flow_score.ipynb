{
 "cells": [
  {
   "cell_type": "code",
   "execution_count": 1,
   "id": "510761f2",
   "metadata": {},
   "outputs": [],
   "source": [
    "import numpy as np\n",
    "import pandas as pd\n",
    "import matplotlib.pyplot as plt\n",
    "%matplotlib inline\n",
    "import glob\n",
    "import re"
   ]
  },
  {
   "cell_type": "markdown",
   "id": "2255aa7f",
   "metadata": {},
   "source": [
    "### ここだけ手動で設定"
   ]
  },
  {
   "cell_type": "code",
   "execution_count": 2,
   "id": "55bcdf3e",
   "metadata": {},
   "outputs": [],
   "source": [
    "subject_name_list = [\"kumakura\",\"kim\",\"souma\",\"fujii\",\"tubota\",\"toki\"]"
   ]
  },
  {
   "cell_type": "code",
   "execution_count": 4,
   "id": "58e49c55",
   "metadata": {
    "scrolled": true
   },
   "outputs": [
    {
     "data": {
      "text/plain": [
       "['/Users/miyakooti/repositories/arai_MATLAB_program/csv/0_kumakura/HRV_and_PLI.csv',\n",
       " '/Users/miyakooti/repositories/arai_MATLAB_program/csv/1_kim/HRV_and_PLI.csv',\n",
       " '/Users/miyakooti/repositories/arai_MATLAB_program/csv/2_souma/HRV_and_PLI.csv',\n",
       " '/Users/miyakooti/repositories/arai_MATLAB_program/csv/3_fujii/HRV_and_PLI.csv',\n",
       " '/Users/miyakooti/repositories/arai_MATLAB_program/csv/4_tubota/HRV_and_PLI.csv',\n",
       " '/Users/miyakooti/repositories/arai_MATLAB_program/csv/5_toki/HRV_and_PLI.csv']"
      ]
     },
     "execution_count": 4,
     "metadata": {},
     "output_type": "execute_result"
    }
   ],
   "source": [
    "pathes = glob.glob(\"/Users/miyakooti/repositories/arai_MATLAB_program/csv/?_*/HRV_and_PLI.csv\")\n",
    "pathes.sort()\n",
    "pathes"
   ]
  },
  {
   "cell_type": "code",
   "execution_count": 5,
   "id": "f2b72ed3",
   "metadata": {},
   "outputs": [
    {
     "data": {
      "text/html": [
       "<div>\n",
       "<style scoped>\n",
       "    .dataframe tbody tr th:only-of-type {\n",
       "        vertical-align: middle;\n",
       "    }\n",
       "\n",
       "    .dataframe tbody tr th {\n",
       "        vertical-align: top;\n",
       "    }\n",
       "\n",
       "    .dataframe thead th {\n",
       "        text-align: right;\n",
       "    }\n",
       "</style>\n",
       "<table border=\"1\" class=\"dataframe\">\n",
       "  <thead>\n",
       "    <tr style=\"text-align: right;\">\n",
       "      <th></th>\n",
       "      <th>Unnamed: 0</th>\n",
       "      <th>bpm</th>\n",
       "      <th>ibi</th>\n",
       "      <th>sdnn</th>\n",
       "      <th>sdsd</th>\n",
       "      <th>rmssd</th>\n",
       "      <th>pnn20</th>\n",
       "      <th>pnn50</th>\n",
       "      <th>hr_mad</th>\n",
       "      <th>sd1</th>\n",
       "      <th>...</th>\n",
       "      <th>vlf</th>\n",
       "      <th>lf</th>\n",
       "      <th>hf</th>\n",
       "      <th>lf/hf</th>\n",
       "      <th>p_total</th>\n",
       "      <th>vlf_perc</th>\n",
       "      <th>lf_perc</th>\n",
       "      <th>hf_perc</th>\n",
       "      <th>lf_nu</th>\n",
       "      <th>hf_nu</th>\n",
       "    </tr>\n",
       "  </thead>\n",
       "  <tbody>\n",
       "    <tr>\n",
       "      <th>0</th>\n",
       "      <td>rest</td>\n",
       "      <td>73.678878</td>\n",
       "      <td>814.344647</td>\n",
       "      <td>40.280560</td>\n",
       "      <td>20.440067</td>\n",
       "      <td>36.813667</td>\n",
       "      <td>0.617801</td>\n",
       "      <td>0.196335</td>\n",
       "      <td>30</td>\n",
       "      <td>26.031042</td>\n",
       "      <td>...</td>\n",
       "      <td>363.483291</td>\n",
       "      <td>206.384215</td>\n",
       "      <td>482.573993</td>\n",
       "      <td>0.427674</td>\n",
       "      <td>1052.441499</td>\n",
       "      <td>34.537149</td>\n",
       "      <td>19.610042</td>\n",
       "      <td>45.852809</td>\n",
       "      <td>29.955985</td>\n",
       "      <td>70.044015</td>\n",
       "    </tr>\n",
       "    <tr>\n",
       "      <th>1</th>\n",
       "      <td>practice</td>\n",
       "      <td>75.523947</td>\n",
       "      <td>794.450000</td>\n",
       "      <td>31.370784</td>\n",
       "      <td>17.631999</td>\n",
       "      <td>31.337680</td>\n",
       "      <td>0.534050</td>\n",
       "      <td>0.082437</td>\n",
       "      <td>22</td>\n",
       "      <td>22.158335</td>\n",
       "      <td>...</td>\n",
       "      <td>649.675157</td>\n",
       "      <td>351.846586</td>\n",
       "      <td>207.483280</td>\n",
       "      <td>1.695783</td>\n",
       "      <td>1209.005023</td>\n",
       "      <td>53.736349</td>\n",
       "      <td>29.102161</td>\n",
       "      <td>17.161490</td>\n",
       "      <td>62.905024</td>\n",
       "      <td>37.094976</td>\n",
       "    </tr>\n",
       "    <tr>\n",
       "      <th>2</th>\n",
       "      <td>boredom</td>\n",
       "      <td>75.368816</td>\n",
       "      <td>796.085213</td>\n",
       "      <td>41.400093</td>\n",
       "      <td>17.968812</td>\n",
       "      <td>33.557870</td>\n",
       "      <td>0.610553</td>\n",
       "      <td>0.130653</td>\n",
       "      <td>24</td>\n",
       "      <td>23.728891</td>\n",
       "      <td>...</td>\n",
       "      <td>232.041729</td>\n",
       "      <td>290.761023</td>\n",
       "      <td>334.102552</td>\n",
       "      <td>0.870275</td>\n",
       "      <td>856.905303</td>\n",
       "      <td>27.079040</td>\n",
       "      <td>33.931523</td>\n",
       "      <td>38.989437</td>\n",
       "      <td>46.531921</td>\n",
       "      <td>53.468079</td>\n",
       "    </tr>\n",
       "    <tr>\n",
       "      <th>3</th>\n",
       "      <td>flow</td>\n",
       "      <td>79.462990</td>\n",
       "      <td>755.068493</td>\n",
       "      <td>45.496886</td>\n",
       "      <td>17.074905</td>\n",
       "      <td>30.303453</td>\n",
       "      <td>0.552369</td>\n",
       "      <td>0.093516</td>\n",
       "      <td>30</td>\n",
       "      <td>21.427739</td>\n",
       "      <td>...</td>\n",
       "      <td>744.117782</td>\n",
       "      <td>227.008970</td>\n",
       "      <td>72.257397</td>\n",
       "      <td>3.141671</td>\n",
       "      <td>1043.384149</td>\n",
       "      <td>71.317720</td>\n",
       "      <td>21.756989</td>\n",
       "      <td>6.925292</td>\n",
       "      <td>75.855156</td>\n",
       "      <td>24.144844</td>\n",
       "    </tr>\n",
       "    <tr>\n",
       "      <th>4</th>\n",
       "      <td>ultra</td>\n",
       "      <td>80.444654</td>\n",
       "      <td>745.854406</td>\n",
       "      <td>64.168076</td>\n",
       "      <td>19.123863</td>\n",
       "      <td>31.929731</td>\n",
       "      <td>0.526923</td>\n",
       "      <td>0.130769</td>\n",
       "      <td>56</td>\n",
       "      <td>22.573323</td>\n",
       "      <td>...</td>\n",
       "      <td>1666.610672</td>\n",
       "      <td>311.682250</td>\n",
       "      <td>119.862745</td>\n",
       "      <td>2.600326</td>\n",
       "      <td>2098.155668</td>\n",
       "      <td>79.432175</td>\n",
       "      <td>14.855058</td>\n",
       "      <td>5.712767</td>\n",
       "      <td>72.224740</td>\n",
       "      <td>27.775260</td>\n",
       "    </tr>\n",
       "    <tr>\n",
       "      <th>5</th>\n",
       "      <td>overload</td>\n",
       "      <td>75.991495</td>\n",
       "      <td>789.562044</td>\n",
       "      <td>39.822757</td>\n",
       "      <td>19.241337</td>\n",
       "      <td>33.166542</td>\n",
       "      <td>0.551220</td>\n",
       "      <td>0.124390</td>\n",
       "      <td>30</td>\n",
       "      <td>23.452286</td>\n",
       "      <td>...</td>\n",
       "      <td>682.892676</td>\n",
       "      <td>308.792854</td>\n",
       "      <td>115.237706</td>\n",
       "      <td>2.679616</td>\n",
       "      <td>1106.923235</td>\n",
       "      <td>61.692867</td>\n",
       "      <td>27.896501</td>\n",
       "      <td>10.410632</td>\n",
       "      <td>72.823255</td>\n",
       "      <td>27.176745</td>\n",
       "    </tr>\n",
       "  </tbody>\n",
       "</table>\n",
       "<p>6 rows × 24 columns</p>\n",
       "</div>"
      ],
      "text/plain": [
       "  Unnamed: 0        bpm         ibi       sdnn       sdsd      rmssd  \\\n",
       "0       rest  73.678878  814.344647  40.280560  20.440067  36.813667   \n",
       "1   practice  75.523947  794.450000  31.370784  17.631999  31.337680   \n",
       "2    boredom  75.368816  796.085213  41.400093  17.968812  33.557870   \n",
       "3       flow  79.462990  755.068493  45.496886  17.074905  30.303453   \n",
       "4      ultra  80.444654  745.854406  64.168076  19.123863  31.929731   \n",
       "5   overload  75.991495  789.562044  39.822757  19.241337  33.166542   \n",
       "\n",
       "      pnn20     pnn50  hr_mad        sd1  ...          vlf          lf  \\\n",
       "0  0.617801  0.196335      30  26.031042  ...   363.483291  206.384215   \n",
       "1  0.534050  0.082437      22  22.158335  ...   649.675157  351.846586   \n",
       "2  0.610553  0.130653      24  23.728891  ...   232.041729  290.761023   \n",
       "3  0.552369  0.093516      30  21.427739  ...   744.117782  227.008970   \n",
       "4  0.526923  0.130769      56  22.573323  ...  1666.610672  311.682250   \n",
       "5  0.551220  0.124390      30  23.452286  ...   682.892676  308.792854   \n",
       "\n",
       "           hf     lf/hf      p_total   vlf_perc    lf_perc    hf_perc  \\\n",
       "0  482.573993  0.427674  1052.441499  34.537149  19.610042  45.852809   \n",
       "1  207.483280  1.695783  1209.005023  53.736349  29.102161  17.161490   \n",
       "2  334.102552  0.870275   856.905303  27.079040  33.931523  38.989437   \n",
       "3   72.257397  3.141671  1043.384149  71.317720  21.756989   6.925292   \n",
       "4  119.862745  2.600326  2098.155668  79.432175  14.855058   5.712767   \n",
       "5  115.237706  2.679616  1106.923235  61.692867  27.896501  10.410632   \n",
       "\n",
       "       lf_nu      hf_nu  \n",
       "0  29.955985  70.044015  \n",
       "1  62.905024  37.094976  \n",
       "2  46.531921  53.468079  \n",
       "3  75.855156  24.144844  \n",
       "4  72.224740  27.775260  \n",
       "5  72.823255  27.176745  \n",
       "\n",
       "[6 rows x 24 columns]"
      ]
     },
     "execution_count": 5,
     "metadata": {},
     "output_type": "execute_result"
    }
   ],
   "source": [
    "hrv_df = pd.read_csv(f\"{HRV_pathes[0]}\")\n",
    "hrv_df"
   ]
  },
  {
   "cell_type": "code",
   "execution_count": 7,
   "id": "19bd0837",
   "metadata": {},
   "outputs": [],
   "source": [
    "for i in range(0, int(len(HRV_pathes))):\n",
    "\n",
    "    pli_path = PLI_pathes[i]\n",
    "    pli_df = pd.read_csv(f\"{pli_path}\",index_col=0)\n",
    "    \n",
    "    hrv_path = HRV_pathes[i]\n",
    "    hrv_df = pd.read_csv(f\"{hrv_path}\",index_col=0)\n",
    "    \n",
    "    df_concatted = pd.concat([hrv_df,pli_df], axis=1) # 横（axis=1）連結(concat)    \n",
    "    df_concatted.to_csv(f\"/Users/miyakooti/repositories/arai_MATLAB_program/csv/{i}_{subject_name_list[i]}/HRV_and_PLI.csv\")"
   ]
  },
  {
   "cell_type": "markdown",
   "id": "31746b21",
   "metadata": {},
   "source": [
    "# ↓ sandbox\n",
    "esc, enterで青と緑の切り替え\n",
    "青状態のときにMでマークダウン"
   ]
  },
  {
   "cell_type": "markdown",
   "id": "b4fb3be2",
   "metadata": {},
   "source": [
    "# [pandas参考文献](https://qiita.com/ysdyt/items/9ccca82fc5b504e7913a)"
   ]
  },
  {
   "cell_type": "code",
   "execution_count": 8,
   "id": "fbaedd5c",
   "metadata": {},
   "outputs": [
    {
     "data": {
      "text/html": [
       "<div>\n",
       "<style scoped>\n",
       "    .dataframe tbody tr th:only-of-type {\n",
       "        vertical-align: middle;\n",
       "    }\n",
       "\n",
       "    .dataframe tbody tr th {\n",
       "        vertical-align: top;\n",
       "    }\n",
       "\n",
       "    .dataframe thead th {\n",
       "        text-align: right;\n",
       "    }\n",
       "</style>\n",
       "<table border=\"1\" class=\"dataframe\">\n",
       "  <thead>\n",
       "    <tr style=\"text-align: right;\">\n",
       "      <th></th>\n",
       "      <th>lf</th>\n",
       "      <th>hf</th>\n",
       "      <th>lf/hf</th>\n",
       "    </tr>\n",
       "  </thead>\n",
       "  <tbody>\n",
       "    <tr>\n",
       "      <th>rest</th>\n",
       "      <td>914.647545</td>\n",
       "      <td>135.422929</td>\n",
       "      <td>6.754008</td>\n",
       "    </tr>\n",
       "    <tr>\n",
       "      <th>practice</th>\n",
       "      <td>475.521521</td>\n",
       "      <td>87.387850</td>\n",
       "      <td>5.441506</td>\n",
       "    </tr>\n",
       "    <tr>\n",
       "      <th>boredom</th>\n",
       "      <td>1266.514349</td>\n",
       "      <td>184.554081</td>\n",
       "      <td>6.862565</td>\n",
       "    </tr>\n",
       "    <tr>\n",
       "      <th>flow</th>\n",
       "      <td>449.168624</td>\n",
       "      <td>160.526534</td>\n",
       "      <td>2.798096</td>\n",
       "    </tr>\n",
       "    <tr>\n",
       "      <th>ultra</th>\n",
       "      <td>203.494821</td>\n",
       "      <td>55.070206</td>\n",
       "      <td>3.695189</td>\n",
       "    </tr>\n",
       "    <tr>\n",
       "      <th>overload</th>\n",
       "      <td>299.521833</td>\n",
       "      <td>85.483935</td>\n",
       "      <td>3.503838</td>\n",
       "    </tr>\n",
       "  </tbody>\n",
       "</table>\n",
       "</div>"
      ],
      "text/plain": [
       "                   lf          hf     lf/hf\n",
       "rest       914.647545  135.422929  6.754008\n",
       "practice   475.521521   87.387850  5.441506\n",
       "boredom   1266.514349  184.554081  6.862565\n",
       "flow       449.168624  160.526534  2.798096\n",
       "ultra      203.494821   55.070206  3.695189\n",
       "overload   299.521833   85.483935  3.503838"
      ]
     },
     "execution_count": 8,
     "metadata": {},
     "output_type": "execute_result"
    }
   ],
   "source": [
    "hrv_df[[\"lf\",\"hf\",\"lf/hf\"]]"
   ]
  },
  {
   "cell_type": "code",
   "execution_count": 9,
   "id": "f596e51a",
   "metadata": {
    "scrolled": true
   },
   "outputs": [
    {
     "ename": "KeyError",
     "evalue": "0",
     "output_type": "error",
     "traceback": [
      "\u001b[0;31m---------------------------------------------------------------------------\u001b[0m",
      "\u001b[0;31mKeyError\u001b[0m                                  Traceback (most recent call last)",
      "\u001b[0;32m~/opt/anaconda3/lib/python3.9/site-packages/pandas/core/indexes/base.py\u001b[0m in \u001b[0;36mget_loc\u001b[0;34m(self, key, method, tolerance)\u001b[0m\n\u001b[1;32m   3628\u001b[0m             \u001b[0;32mtry\u001b[0m\u001b[0;34m:\u001b[0m\u001b[0;34m\u001b[0m\u001b[0;34m\u001b[0m\u001b[0m\n\u001b[0;32m-> 3629\u001b[0;31m                 \u001b[0;32mreturn\u001b[0m \u001b[0mself\u001b[0m\u001b[0;34m.\u001b[0m\u001b[0m_engine\u001b[0m\u001b[0;34m.\u001b[0m\u001b[0mget_loc\u001b[0m\u001b[0;34m(\u001b[0m\u001b[0mcasted_key\u001b[0m\u001b[0;34m)\u001b[0m\u001b[0;34m\u001b[0m\u001b[0;34m\u001b[0m\u001b[0m\n\u001b[0m\u001b[1;32m   3630\u001b[0m             \u001b[0;32mexcept\u001b[0m \u001b[0mKeyError\u001b[0m \u001b[0;32mas\u001b[0m \u001b[0merr\u001b[0m\u001b[0;34m:\u001b[0m\u001b[0;34m\u001b[0m\u001b[0;34m\u001b[0m\u001b[0m\n",
      "\u001b[0;32m~/opt/anaconda3/lib/python3.9/site-packages/pandas/_libs/index.pyx\u001b[0m in \u001b[0;36mpandas._libs.index.IndexEngine.get_loc\u001b[0;34m()\u001b[0m\n",
      "\u001b[0;32m~/opt/anaconda3/lib/python3.9/site-packages/pandas/_libs/index.pyx\u001b[0m in \u001b[0;36mpandas._libs.index.IndexEngine.get_loc\u001b[0;34m()\u001b[0m\n",
      "\u001b[0;32mpandas/_libs/hashtable_class_helper.pxi\u001b[0m in \u001b[0;36mpandas._libs.hashtable.PyObjectHashTable.get_item\u001b[0;34m()\u001b[0m\n",
      "\u001b[0;32mpandas/_libs/hashtable_class_helper.pxi\u001b[0m in \u001b[0;36mpandas._libs.hashtable.PyObjectHashTable.get_item\u001b[0;34m()\u001b[0m\n",
      "\u001b[0;31mKeyError\u001b[0m: 0",
      "\nThe above exception was the direct cause of the following exception:\n",
      "\u001b[0;31mKeyError\u001b[0m                                  Traceback (most recent call last)",
      "\u001b[0;32m/var/folders/4_/zl9w1kqn3wj4cv0147kh6bc40000gn/T/ipykernel_19531/1207697497.py\u001b[0m in \u001b[0;36m<module>\u001b[0;34m\u001b[0m\n\u001b[0;32m----> 1\u001b[0;31m \u001b[0mhrv_df\u001b[0m\u001b[0;34m.\u001b[0m\u001b[0mloc\u001b[0m\u001b[0;34m[\u001b[0m\u001b[0;36m0\u001b[0m\u001b[0;34m]\u001b[0m\u001b[0;34m\u001b[0m\u001b[0;34m\u001b[0m\u001b[0m\n\u001b[0m",
      "\u001b[0;32m~/opt/anaconda3/lib/python3.9/site-packages/pandas/core/indexing.py\u001b[0m in \u001b[0;36m__getitem__\u001b[0;34m(self, key)\u001b[0m\n\u001b[1;32m    965\u001b[0m \u001b[0;34m\u001b[0m\u001b[0m\n\u001b[1;32m    966\u001b[0m             \u001b[0mmaybe_callable\u001b[0m \u001b[0;34m=\u001b[0m \u001b[0mcom\u001b[0m\u001b[0;34m.\u001b[0m\u001b[0mapply_if_callable\u001b[0m\u001b[0;34m(\u001b[0m\u001b[0mkey\u001b[0m\u001b[0;34m,\u001b[0m \u001b[0mself\u001b[0m\u001b[0;34m.\u001b[0m\u001b[0mobj\u001b[0m\u001b[0;34m)\u001b[0m\u001b[0;34m\u001b[0m\u001b[0;34m\u001b[0m\u001b[0m\n\u001b[0;32m--> 967\u001b[0;31m             \u001b[0;32mreturn\u001b[0m \u001b[0mself\u001b[0m\u001b[0;34m.\u001b[0m\u001b[0m_getitem_axis\u001b[0m\u001b[0;34m(\u001b[0m\u001b[0mmaybe_callable\u001b[0m\u001b[0;34m,\u001b[0m \u001b[0maxis\u001b[0m\u001b[0;34m=\u001b[0m\u001b[0maxis\u001b[0m\u001b[0;34m)\u001b[0m\u001b[0;34m\u001b[0m\u001b[0;34m\u001b[0m\u001b[0m\n\u001b[0m\u001b[1;32m    968\u001b[0m \u001b[0;34m\u001b[0m\u001b[0m\n\u001b[1;32m    969\u001b[0m     \u001b[0;32mdef\u001b[0m \u001b[0m_is_scalar_access\u001b[0m\u001b[0;34m(\u001b[0m\u001b[0mself\u001b[0m\u001b[0;34m,\u001b[0m \u001b[0mkey\u001b[0m\u001b[0;34m:\u001b[0m \u001b[0mtuple\u001b[0m\u001b[0;34m)\u001b[0m\u001b[0;34m:\u001b[0m\u001b[0;34m\u001b[0m\u001b[0;34m\u001b[0m\u001b[0m\n",
      "\u001b[0;32m~/opt/anaconda3/lib/python3.9/site-packages/pandas/core/indexing.py\u001b[0m in \u001b[0;36m_getitem_axis\u001b[0;34m(self, key, axis)\u001b[0m\n\u001b[1;32m   1203\u001b[0m         \u001b[0;31m# fall thru to straight lookup\u001b[0m\u001b[0;34m\u001b[0m\u001b[0;34m\u001b[0m\u001b[0m\n\u001b[1;32m   1204\u001b[0m         \u001b[0mself\u001b[0m\u001b[0;34m.\u001b[0m\u001b[0m_validate_key\u001b[0m\u001b[0;34m(\u001b[0m\u001b[0mkey\u001b[0m\u001b[0;34m,\u001b[0m \u001b[0maxis\u001b[0m\u001b[0;34m)\u001b[0m\u001b[0;34m\u001b[0m\u001b[0;34m\u001b[0m\u001b[0m\n\u001b[0;32m-> 1205\u001b[0;31m         \u001b[0;32mreturn\u001b[0m \u001b[0mself\u001b[0m\u001b[0;34m.\u001b[0m\u001b[0m_get_label\u001b[0m\u001b[0;34m(\u001b[0m\u001b[0mkey\u001b[0m\u001b[0;34m,\u001b[0m \u001b[0maxis\u001b[0m\u001b[0;34m=\u001b[0m\u001b[0maxis\u001b[0m\u001b[0;34m)\u001b[0m\u001b[0;34m\u001b[0m\u001b[0;34m\u001b[0m\u001b[0m\n\u001b[0m\u001b[1;32m   1206\u001b[0m \u001b[0;34m\u001b[0m\u001b[0m\n\u001b[1;32m   1207\u001b[0m     \u001b[0;32mdef\u001b[0m \u001b[0m_get_slice_axis\u001b[0m\u001b[0;34m(\u001b[0m\u001b[0mself\u001b[0m\u001b[0;34m,\u001b[0m \u001b[0mslice_obj\u001b[0m\u001b[0;34m:\u001b[0m \u001b[0mslice\u001b[0m\u001b[0;34m,\u001b[0m \u001b[0maxis\u001b[0m\u001b[0;34m:\u001b[0m \u001b[0mint\u001b[0m\u001b[0;34m)\u001b[0m\u001b[0;34m:\u001b[0m\u001b[0;34m\u001b[0m\u001b[0;34m\u001b[0m\u001b[0m\n",
      "\u001b[0;32m~/opt/anaconda3/lib/python3.9/site-packages/pandas/core/indexing.py\u001b[0m in \u001b[0;36m_get_label\u001b[0;34m(self, label, axis)\u001b[0m\n\u001b[1;32m   1151\u001b[0m     \u001b[0;32mdef\u001b[0m \u001b[0m_get_label\u001b[0m\u001b[0;34m(\u001b[0m\u001b[0mself\u001b[0m\u001b[0;34m,\u001b[0m \u001b[0mlabel\u001b[0m\u001b[0;34m,\u001b[0m \u001b[0maxis\u001b[0m\u001b[0;34m:\u001b[0m \u001b[0mint\u001b[0m\u001b[0;34m)\u001b[0m\u001b[0;34m:\u001b[0m\u001b[0;34m\u001b[0m\u001b[0;34m\u001b[0m\u001b[0m\n\u001b[1;32m   1152\u001b[0m         \u001b[0;31m# GH#5667 this will fail if the label is not present in the axis.\u001b[0m\u001b[0;34m\u001b[0m\u001b[0;34m\u001b[0m\u001b[0m\n\u001b[0;32m-> 1153\u001b[0;31m         \u001b[0;32mreturn\u001b[0m \u001b[0mself\u001b[0m\u001b[0;34m.\u001b[0m\u001b[0mobj\u001b[0m\u001b[0;34m.\u001b[0m\u001b[0mxs\u001b[0m\u001b[0;34m(\u001b[0m\u001b[0mlabel\u001b[0m\u001b[0;34m,\u001b[0m \u001b[0maxis\u001b[0m\u001b[0;34m=\u001b[0m\u001b[0maxis\u001b[0m\u001b[0;34m)\u001b[0m\u001b[0;34m\u001b[0m\u001b[0;34m\u001b[0m\u001b[0m\n\u001b[0m\u001b[1;32m   1154\u001b[0m \u001b[0;34m\u001b[0m\u001b[0m\n\u001b[1;32m   1155\u001b[0m     \u001b[0;32mdef\u001b[0m \u001b[0m_handle_lowerdim_multi_index_axis0\u001b[0m\u001b[0;34m(\u001b[0m\u001b[0mself\u001b[0m\u001b[0;34m,\u001b[0m \u001b[0mtup\u001b[0m\u001b[0;34m:\u001b[0m \u001b[0mtuple\u001b[0m\u001b[0;34m)\u001b[0m\u001b[0;34m:\u001b[0m\u001b[0;34m\u001b[0m\u001b[0;34m\u001b[0m\u001b[0m\n",
      "\u001b[0;32m~/opt/anaconda3/lib/python3.9/site-packages/pandas/core/generic.py\u001b[0m in \u001b[0;36mxs\u001b[0;34m(self, key, axis, level, drop_level)\u001b[0m\n\u001b[1;32m   3862\u001b[0m                     \u001b[0mnew_index\u001b[0m \u001b[0;34m=\u001b[0m \u001b[0mindex\u001b[0m\u001b[0;34m[\u001b[0m\u001b[0mloc\u001b[0m\u001b[0;34m]\u001b[0m\u001b[0;34m\u001b[0m\u001b[0;34m\u001b[0m\u001b[0m\n\u001b[1;32m   3863\u001b[0m         \u001b[0;32melse\u001b[0m\u001b[0;34m:\u001b[0m\u001b[0;34m\u001b[0m\u001b[0;34m\u001b[0m\u001b[0m\n\u001b[0;32m-> 3864\u001b[0;31m             \u001b[0mloc\u001b[0m \u001b[0;34m=\u001b[0m \u001b[0mindex\u001b[0m\u001b[0;34m.\u001b[0m\u001b[0mget_loc\u001b[0m\u001b[0;34m(\u001b[0m\u001b[0mkey\u001b[0m\u001b[0;34m)\u001b[0m\u001b[0;34m\u001b[0m\u001b[0;34m\u001b[0m\u001b[0m\n\u001b[0m\u001b[1;32m   3865\u001b[0m \u001b[0;34m\u001b[0m\u001b[0m\n\u001b[1;32m   3866\u001b[0m             \u001b[0;32mif\u001b[0m \u001b[0misinstance\u001b[0m\u001b[0;34m(\u001b[0m\u001b[0mloc\u001b[0m\u001b[0;34m,\u001b[0m \u001b[0mnp\u001b[0m\u001b[0;34m.\u001b[0m\u001b[0mndarray\u001b[0m\u001b[0;34m)\u001b[0m\u001b[0;34m:\u001b[0m\u001b[0;34m\u001b[0m\u001b[0;34m\u001b[0m\u001b[0m\n",
      "\u001b[0;32m~/opt/anaconda3/lib/python3.9/site-packages/pandas/core/indexes/base.py\u001b[0m in \u001b[0;36mget_loc\u001b[0;34m(self, key, method, tolerance)\u001b[0m\n\u001b[1;32m   3629\u001b[0m                 \u001b[0;32mreturn\u001b[0m \u001b[0mself\u001b[0m\u001b[0;34m.\u001b[0m\u001b[0m_engine\u001b[0m\u001b[0;34m.\u001b[0m\u001b[0mget_loc\u001b[0m\u001b[0;34m(\u001b[0m\u001b[0mcasted_key\u001b[0m\u001b[0;34m)\u001b[0m\u001b[0;34m\u001b[0m\u001b[0;34m\u001b[0m\u001b[0m\n\u001b[1;32m   3630\u001b[0m             \u001b[0;32mexcept\u001b[0m \u001b[0mKeyError\u001b[0m \u001b[0;32mas\u001b[0m \u001b[0merr\u001b[0m\u001b[0;34m:\u001b[0m\u001b[0;34m\u001b[0m\u001b[0;34m\u001b[0m\u001b[0m\n\u001b[0;32m-> 3631\u001b[0;31m                 \u001b[0;32mraise\u001b[0m \u001b[0mKeyError\u001b[0m\u001b[0;34m(\u001b[0m\u001b[0mkey\u001b[0m\u001b[0;34m)\u001b[0m \u001b[0;32mfrom\u001b[0m \u001b[0merr\u001b[0m\u001b[0;34m\u001b[0m\u001b[0;34m\u001b[0m\u001b[0m\n\u001b[0m\u001b[1;32m   3632\u001b[0m             \u001b[0;32mexcept\u001b[0m \u001b[0mTypeError\u001b[0m\u001b[0;34m:\u001b[0m\u001b[0;34m\u001b[0m\u001b[0;34m\u001b[0m\u001b[0m\n\u001b[1;32m   3633\u001b[0m                 \u001b[0;31m# If we have a listlike key, _check_indexing_error will raise\u001b[0m\u001b[0;34m\u001b[0m\u001b[0;34m\u001b[0m\u001b[0m\n",
      "\u001b[0;31mKeyError\u001b[0m: 0"
     ]
    }
   ],
   "source": [
    "hrv_df.loc[0]"
   ]
  },
  {
   "cell_type": "markdown",
   "id": "1f7bbce4",
   "metadata": {},
   "source": [
    "### 左のヘッダーはインデックスというらしい\n",
    "https://note.nkmk.me/python-pandas-read-csv-tsv/"
   ]
  },
  {
   "cell_type": "code",
   "execution_count": null,
   "id": "940a163c",
   "metadata": {},
   "outputs": [],
   "source": [
    "hrv_df = pd.read_csv(f\"{HRV_pathes[0]}\", index_col=0)\n",
    "hrv_df"
   ]
  },
  {
   "cell_type": "code",
   "execution_count": null,
   "id": "a36a448e",
   "metadata": {
    "scrolled": true
   },
   "outputs": [],
   "source": [
    "pli_df = pd.read_csv(f\"{PLI_pathes[0]}\", index_col=0)\n",
    "pli_df"
   ]
  },
  {
   "cell_type": "code",
   "execution_count": null,
   "id": "176411bc",
   "metadata": {
    "scrolled": true
   },
   "outputs": [],
   "source": [
    "df_concatted = pd.concat([hrv_df,pli_df], axis=1)\n",
    "df_concatted"
   ]
  },
  {
   "cell_type": "code",
   "execution_count": null,
   "id": "1127a635",
   "metadata": {},
   "outputs": [],
   "source": [
    "# df_concatted.o_csv(\"/Users/miyakooti/repositories/arai_MATLAB_program/csv/0_kumakura/HRV_and_PLI.csv\")"
   ]
  },
  {
   "cell_type": "markdown",
   "id": "21f23d16",
   "metadata": {},
   "source": [
    "### [右結合とか左結合とかがわかるリンク](https://ai-inter1.com/pandas-dataframe_join/#st-toc-h-1)\n",
    "- 連結はconcat\n",
    "    - ただただガッちゃんこする\n",
    "- 結合はmerge\n",
    "    - 共通キーを指定して結合する"
   ]
  },
  {
   "cell_type": "code",
   "execution_count": null,
   "id": "af5ae881",
   "metadata": {},
   "outputs": [],
   "source": []
  },
  {
   "cell_type": "code",
   "execution_count": null,
   "id": "a98cfc03",
   "metadata": {},
   "outputs": [],
   "source": []
  }
 ],
 "metadata": {
  "kernelspec": {
   "display_name": "Python 3 (ipykernel)",
   "language": "python",
   "name": "python3"
  },
  "language_info": {
   "codemirror_mode": {
    "name": "ipython",
    "version": 3
   },
   "file_extension": ".py",
   "mimetype": "text/x-python",
   "name": "python",
   "nbconvert_exporter": "python",
   "pygments_lexer": "ipython3",
   "version": "3.9.13"
  }
 },
 "nbformat": 4,
 "nbformat_minor": 5
}
