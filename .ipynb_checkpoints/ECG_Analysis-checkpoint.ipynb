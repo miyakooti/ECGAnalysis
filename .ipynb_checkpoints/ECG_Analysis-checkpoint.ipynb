{
 "cells": [
  {
   "cell_type": "code",
   "execution_count": 1,
   "id": "70118e11",
   "metadata": {},
   "outputs": [],
   "source": [
    "import heartpy as hp\n",
    "\n",
    "# option command v でフルパスをコピー\n",
    "# hrdata = hp.get_data('/Users/miyakooti/repositories/arai_MATLAB_program/data/20221220_kumakura/SSSEP_20221220T152825_kumakura_rest_good.mat')\n",
    "hrdata = hp.get_data(\"data/ECG_kumakura_rest.csv\", delim = \",\", column_name = \"ECG\") # numpy.ndarray\n",
    "fs = 500.0"
   ]
  },
  {
   "cell_type": "code",
   "execution_count": 2,
   "id": "b1f80ffe",
   "metadata": {},
   "outputs": [
    {
     "data": {
      "text/plain": [
       "156358"
      ]
     },
     "execution_count": 2,
     "metadata": {},
     "output_type": "execute_result"
    }
   ],
   "source": [
    "len(hrdata)"
   ]
  },
  {
   "cell_type": "code",
   "execution_count": 3,
   "id": "1b2adbff",
   "metadata": {
    "scrolled": true
   },
   "outputs": [
    {
     "name": "stdout",
     "output_type": "stream",
     "text": [
      "計測時間は312.716秒です\n"
     ]
    }
   ],
   "source": [
    "sec = len(hrdata)/500\n",
    "print(f\"計測時間は{sec}秒です\")"
   ]
  },
  {
   "cell_type": "code",
   "execution_count": null,
   "id": "420cfd0b",
   "metadata": {},
   "outputs": [],
   "source": [
    "# スライスする場合はコメントアウトを外す\n",
    "hrdata = hrdata[0:int(120*fs)]"
   ]
  },
  {
   "cell_type": "markdown",
   "id": "6e7bd3d8",
   "metadata": {},
   "source": [
    "### ここで取得されたのは numpy.ndarray型"
   ]
  },
  {
   "cell_type": "code",
   "execution_count": null,
   "id": "f9204680",
   "metadata": {
    "scrolled": false
   },
   "outputs": [],
   "source": [
    "working_data, measures = hp.process(hrdata, fs, report_time=True, calc_freq=True)"
   ]
  },
  {
   "cell_type": "markdown",
   "id": "0c618c44",
   "metadata": {},
   "source": [
    "### データ数多すぎるので、論文とかで画像載っけるときは生データをスライスしてもイイかも"
   ]
  },
  {
   "cell_type": "markdown",
   "id": "7f5d2e58",
   "metadata": {},
   "source": [
    "[参考文献](https://note.nkmk.me/python-numpy-ndarray-slice/)"
   ]
  },
  {
   "cell_type": "markdown",
   "id": "26da9b67",
   "metadata": {},
   "source": [
    "### plot"
   ]
  },
  {
   "cell_type": "code",
   "execution_count": null,
   "id": "d4efe73c",
   "metadata": {
    "scrolled": true
   },
   "outputs": [],
   "source": [
    "hp.plotter(working_data, measures)"
   ]
  },
  {
   "cell_type": "code",
   "execution_count": null,
   "id": "72a72080",
   "metadata": {},
   "outputs": [],
   "source": []
  },
  {
   "cell_type": "code",
   "execution_count": null,
   "id": "b197d700",
   "metadata": {},
   "outputs": [],
   "source": [
    "print(\"LF：\", measures[\"lf\"])\n",
    "print(\"HF：\", measures[\"hf\"])\n",
    "print(\"LF/HF：\", measures[\"lf/hf\"])"
   ]
  },
  {
   "cell_type": "code",
   "execution_count": null,
   "id": "5e3f3078",
   "metadata": {
    "scrolled": true
   },
   "outputs": [],
   "source": [
    "print(measures)"
   ]
  },
  {
   "cell_type": "code",
   "execution_count": null,
   "id": "508e8b3b",
   "metadata": {},
   "outputs": [],
   "source": [
    "working_data"
   ]
  },
  {
   "cell_type": "code",
   "execution_count": null,
   "id": "56a81d3c",
   "metadata": {},
   "outputs": [],
   "source": [
    "measures"
   ]
  },
  {
   "cell_type": "code",
   "execution_count": null,
   "id": "1dbbf785",
   "metadata": {},
   "outputs": [],
   "source": []
  }
 ],
 "metadata": {
  "kernelspec": {
   "display_name": "Python 3 (ipykernel)",
   "language": "python",
   "name": "python3"
  },
  "language_info": {
   "codemirror_mode": {
    "name": "ipython",
    "version": 3
   },
   "file_extension": ".py",
   "mimetype": "text/x-python",
   "name": "python",
   "nbconvert_exporter": "python",
   "pygments_lexer": "ipython3",
   "version": "3.7.15"
  }
 },
 "nbformat": 4,
 "nbformat_minor": 5
}
