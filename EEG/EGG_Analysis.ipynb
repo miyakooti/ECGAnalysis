{
 "cells": [
  {
   "cell_type": "code",
   "execution_count": 7,
   "id": "5f9ceab9",
   "metadata": {},
   "outputs": [],
   "source": [
    "import numpy as np\n",
    "import pandas as pd\n",
    "import matplotlib.pyplot as plt\n",
    "%matplotlib inline\n",
    "import glob\n",
    "import re\n",
    "import heartpy as hp\n",
    "from scipy import signal\n"
   ]
  },
  {
   "cell_type": "code",
   "execution_count": 30,
   "id": "afb62435",
   "metadata": {},
   "outputs": [
    {
     "data": {
      "text/plain": [
       "['/Users/miyakooti/repositories/arai_MATLAB_program/csv/0_kumakura/EEG/filtered_data_0_kumakura_rest.csv',\n",
       " '/Users/miyakooti/repositories/arai_MATLAB_program/csv/0_kumakura/EEG/filtered_data_1_kumakura_practice.csv',\n",
       " '/Users/miyakooti/repositories/arai_MATLAB_program/csv/0_kumakura/EEG/filtered_data_2_kumakura_boredom.csv',\n",
       " '/Users/miyakooti/repositories/arai_MATLAB_program/csv/0_kumakura/EEG/filtered_data_3_kumakura_flow.csv',\n",
       " '/Users/miyakooti/repositories/arai_MATLAB_program/csv/0_kumakura/EEG/filtered_data_4_kumakura_flow_ultra.csv',\n",
       " '/Users/miyakooti/repositories/arai_MATLAB_program/csv/0_kumakura/EEG/filtered_data_5_kumakura_overload.csv',\n",
       " '/Users/miyakooti/repositories/arai_MATLAB_program/csv/1_kim/EEG/filtered_data_0_kim_rest.csv',\n",
       " '/Users/miyakooti/repositories/arai_MATLAB_program/csv/1_kim/EEG/filtered_data_1_kim_practice.csv',\n",
       " '/Users/miyakooti/repositories/arai_MATLAB_program/csv/1_kim/EEG/filtered_data_2_kim_boredom.csv',\n",
       " '/Users/miyakooti/repositories/arai_MATLAB_program/csv/1_kim/EEG/filtered_data_3_kim_flow_restart.csv',\n",
       " '/Users/miyakooti/repositories/arai_MATLAB_program/csv/1_kim/EEG/filtered_data_4_kim_ultra.csv',\n",
       " '/Users/miyakooti/repositories/arai_MATLAB_program/csv/1_kim/EEG/filtered_data_5_kim_overload.csv',\n",
       " '/Users/miyakooti/repositories/arai_MATLAB_program/csv/2_souma/EEG/filtered_data_0_souma_rest.csv',\n",
       " '/Users/miyakooti/repositories/arai_MATLAB_program/csv/2_souma/EEG/filtered_data_1_souma_practice.csv',\n",
       " '/Users/miyakooti/repositories/arai_MATLAB_program/csv/2_souma/EEG/filtered_data_2_souma_boredom.csv',\n",
       " '/Users/miyakooti/repositories/arai_MATLAB_program/csv/2_souma/EEG/filtered_data_3_souma_flow.csv',\n",
       " '/Users/miyakooti/repositories/arai_MATLAB_program/csv/2_souma/EEG/filtered_data_4_souma_ultra.csv',\n",
       " '/Users/miyakooti/repositories/arai_MATLAB_program/csv/2_souma/EEG/filtered_data_5_souma_overload.csv',\n",
       " '/Users/miyakooti/repositories/arai_MATLAB_program/csv/3_fujii/EEG/filtered_data_0_fujii_rest.csv',\n",
       " '/Users/miyakooti/repositories/arai_MATLAB_program/csv/3_fujii/EEG/filtered_data_1_fujii_practice.csv',\n",
       " '/Users/miyakooti/repositories/arai_MATLAB_program/csv/3_fujii/EEG/filtered_data_2_fujii_boredom.csv',\n",
       " '/Users/miyakooti/repositories/arai_MATLAB_program/csv/3_fujii/EEG/filtered_data_3_fujii_flow.csv',\n",
       " '/Users/miyakooti/repositories/arai_MATLAB_program/csv/3_fujii/EEG/filtered_data_4_fujii_ultra.csv',\n",
       " '/Users/miyakooti/repositories/arai_MATLAB_program/csv/3_fujii/EEG/filtered_data_5_fujii_overload.csv',\n",
       " '/Users/miyakooti/repositories/arai_MATLAB_program/csv/4_tubota/EEG/filtered_data_0_tubota_rest.csv',\n",
       " '/Users/miyakooti/repositories/arai_MATLAB_program/csv/4_tubota/EEG/filtered_data_1_tubota_practice.csv',\n",
       " '/Users/miyakooti/repositories/arai_MATLAB_program/csv/4_tubota/EEG/filtered_data_2_tubota_boredom_restart_impedance.csv',\n",
       " '/Users/miyakooti/repositories/arai_MATLAB_program/csv/4_tubota/EEG/filtered_data_3_tubota_flow.csv',\n",
       " '/Users/miyakooti/repositories/arai_MATLAB_program/csv/4_tubota/EEG/filtered_data_4_tubota_ultra.csv',\n",
       " '/Users/miyakooti/repositories/arai_MATLAB_program/csv/4_tubota/EEG/filtered_data_5_tubota_overload.csv',\n",
       " '/Users/miyakooti/repositories/arai_MATLAB_program/csv/5_toki/EEG/filtered_data_0_toki_rest.csv',\n",
       " '/Users/miyakooti/repositories/arai_MATLAB_program/csv/5_toki/EEG/filtered_data_1_toki_practice.csv',\n",
       " '/Users/miyakooti/repositories/arai_MATLAB_program/csv/5_toki/EEG/filtered_data_2_toki_boredom.csv',\n",
       " '/Users/miyakooti/repositories/arai_MATLAB_program/csv/5_toki/EEG/filtered_data_3_toki_flow.csv',\n",
       " '/Users/miyakooti/repositories/arai_MATLAB_program/csv/5_toki/EEG/filtered_data_4_toki_ultra.csv',\n",
       " '/Users/miyakooti/repositories/arai_MATLAB_program/csv/5_toki/EEG/filtered_data_5_toki_overload.csv']"
      ]
     },
     "execution_count": 30,
     "metadata": {},
     "output_type": "execute_result"
    }
   ],
   "source": [
    "eeg_data_pathes = glob.glob(\"/Users/miyakooti/repositories/arai_MATLAB_program/csv/?_*/EEG/filtered_data_?_*.csv\")\n",
    "eeg_data_pathes.sort()\n",
    "eeg_data_pathes"
   ]
  },
  {
   "cell_type": "code",
   "execution_count": 31,
   "id": "30a9b0d6",
   "metadata": {},
   "outputs": [],
   "source": [
    "def bandpass(wave, fs, fe1, fe2, n):\n",
    "    nyq = fs / 2.0\n",
    "    b, a = signal.butter(1, [fe1/nyq, fe2/nyq], btype='band')\n",
    "    for i in range(0, n):\n",
    "        wave = signal.filtfilt(b, a, wave)\n",
    "    return wave"
   ]
  },
  {
   "cell_type": "code",
   "execution_count": 32,
   "id": "353fcdf6",
   "metadata": {
    "scrolled": false
   },
   "outputs": [
    {
     "data": {
      "text/html": [
       "<div>\n",
       "<style scoped>\n",
       "    .dataframe tbody tr th:only-of-type {\n",
       "        vertical-align: middle;\n",
       "    }\n",
       "\n",
       "    .dataframe tbody tr th {\n",
       "        vertical-align: top;\n",
       "    }\n",
       "\n",
       "    .dataframe thead th {\n",
       "        text-align: right;\n",
       "    }\n",
       "</style>\n",
       "<table border=\"1\" class=\"dataframe\">\n",
       "  <thead>\n",
       "    <tr style=\"text-align: right;\">\n",
       "      <th></th>\n",
       "      <th>FpZ</th>\n",
       "      <th>FC3</th>\n",
       "      <th>FC4</th>\n",
       "      <th>FcZ</th>\n",
       "      <th>O1</th>\n",
       "      <th>O2</th>\n",
       "      <th>Fp2</th>\n",
       "      <th>V6</th>\n",
       "    </tr>\n",
       "  </thead>\n",
       "  <tbody>\n",
       "    <tr>\n",
       "      <th>0</th>\n",
       "      <td>0.017936</td>\n",
       "      <td>-0.000747</td>\n",
       "      <td>0.009715</td>\n",
       "      <td>-0.007473</td>\n",
       "      <td>0.010463</td>\n",
       "      <td>0.006726</td>\n",
       "      <td>0.008968</td>\n",
       "      <td>-0.035125</td>\n",
       "    </tr>\n",
       "    <tr>\n",
       "      <th>1</th>\n",
       "      <td>0.161625</td>\n",
       "      <td>-0.007482</td>\n",
       "      <td>0.083810</td>\n",
       "      <td>-0.068091</td>\n",
       "      <td>0.095029</td>\n",
       "      <td>0.062104</td>\n",
       "      <td>0.080813</td>\n",
       "      <td>-0.311285</td>\n",
       "    </tr>\n",
       "    <tr>\n",
       "      <th>2</th>\n",
       "      <td>0.701763</td>\n",
       "      <td>-0.033733</td>\n",
       "      <td>0.346450</td>\n",
       "      <td>-0.297641</td>\n",
       "      <td>0.418338</td>\n",
       "      <td>0.277377</td>\n",
       "      <td>0.348640</td>\n",
       "      <td>-1.324904</td>\n",
       "    </tr>\n",
       "    <tr>\n",
       "      <th>3</th>\n",
       "      <td>1.980105</td>\n",
       "      <td>-0.093846</td>\n",
       "      <td>0.928661</td>\n",
       "      <td>-0.842185</td>\n",
       "      <td>1.204629</td>\n",
       "      <td>0.807567</td>\n",
       "      <td>0.968355</td>\n",
       "      <td>-3.658739</td>\n",
       "    </tr>\n",
       "    <tr>\n",
       "      <th>4</th>\n",
       "      <td>4.127889</td>\n",
       "      <td>-0.185395</td>\n",
       "      <td>1.848760</td>\n",
       "      <td>-1.758193</td>\n",
       "      <td>2.579781</td>\n",
       "      <td>1.739434</td>\n",
       "      <td>1.962382</td>\n",
       "      <td>-7.471378</td>\n",
       "    </tr>\n",
       "  </tbody>\n",
       "</table>\n",
       "</div>"
      ],
      "text/plain": [
       "        FpZ       FC3       FC4       FcZ        O1        O2       Fp2  \\\n",
       "0  0.017936 -0.000747  0.009715 -0.007473  0.010463  0.006726  0.008968   \n",
       "1  0.161625 -0.007482  0.083810 -0.068091  0.095029  0.062104  0.080813   \n",
       "2  0.701763 -0.033733  0.346450 -0.297641  0.418338  0.277377  0.348640   \n",
       "3  1.980105 -0.093846  0.928661 -0.842185  1.204629  0.807567  0.968355   \n",
       "4  4.127889 -0.185395  1.848760 -1.758193  2.579781  1.739434  1.962382   \n",
       "\n",
       "         V6  \n",
       "0 -0.035125  \n",
       "1 -0.311285  \n",
       "2 -1.324904  \n",
       "3 -3.658739  \n",
       "4 -7.471378  "
      ]
     },
     "execution_count": 32,
     "metadata": {},
     "output_type": "execute_result"
    }
   ],
   "source": [
    "df = pd.read_csv(eeg_data_pathes[0])\n",
    "df.head()"
   ]
  },
  {
   "cell_type": "code",
   "execution_count": 33,
   "id": "744818b8",
   "metadata": {
    "scrolled": true
   },
   "outputs": [
    {
     "data": {
      "text/plain": [
       "156358"
      ]
     },
     "execution_count": 33,
     "metadata": {},
     "output_type": "execute_result"
    }
   ],
   "source": [
    "len(df[[\"FC3\"]])"
   ]
  },
  {
   "cell_type": "code",
   "execution_count": 34,
   "id": "81738cdf",
   "metadata": {
    "scrolled": true
   },
   "outputs": [
    {
     "ename": "ValueError",
     "evalue": "The length of the input vector x must be greater than padlen, which is 9.",
     "output_type": "error",
     "traceback": [
      "\u001b[0;31m---------------------------------------------------------------------------\u001b[0m",
      "\u001b[0;31mValueError\u001b[0m                                Traceback (most recent call last)",
      "\u001b[0;32m/var/folders/4_/zl9w1kqn3wj4cv0147kh6bc40000gn/T/ipykernel_48023/35253239.py\u001b[0m in \u001b[0;36m<module>\u001b[0;34m\u001b[0m\n\u001b[0;32m----> 1\u001b[0;31m \u001b[0mtestdf_filterd\u001b[0m \u001b[0;34m=\u001b[0m \u001b[0mbandpass\u001b[0m\u001b[0;34m(\u001b[0m\u001b[0mtestdf\u001b[0m\u001b[0;34m[\u001b[0m\u001b[0;34m[\u001b[0m\u001b[0;34m\"FC3\"\u001b[0m\u001b[0;34m]\u001b[0m\u001b[0;34m]\u001b[0m\u001b[0;34m,\u001b[0m \u001b[0;36m500\u001b[0m\u001b[0;34m,\u001b[0m \u001b[0;36m1\u001b[0m\u001b[0;34m,\u001b[0m \u001b[0;36m49\u001b[0m\u001b[0;34m,\u001b[0m \u001b[0;36m3\u001b[0m\u001b[0;34m)\u001b[0m\u001b[0;34m\u001b[0m\u001b[0;34m\u001b[0m\u001b[0m\n\u001b[0m",
      "\u001b[0;32m/var/folders/4_/zl9w1kqn3wj4cv0147kh6bc40000gn/T/ipykernel_48023/2871632340.py\u001b[0m in \u001b[0;36mbandpass\u001b[0;34m(wave, fs, fe1, fe2, n)\u001b[0m\n\u001b[1;32m      3\u001b[0m     \u001b[0mb\u001b[0m\u001b[0;34m,\u001b[0m \u001b[0ma\u001b[0m \u001b[0;34m=\u001b[0m \u001b[0msignal\u001b[0m\u001b[0;34m.\u001b[0m\u001b[0mbutter\u001b[0m\u001b[0;34m(\u001b[0m\u001b[0;36m1\u001b[0m\u001b[0;34m,\u001b[0m \u001b[0;34m[\u001b[0m\u001b[0mfe1\u001b[0m\u001b[0;34m/\u001b[0m\u001b[0mnyq\u001b[0m\u001b[0;34m,\u001b[0m \u001b[0mfe2\u001b[0m\u001b[0;34m/\u001b[0m\u001b[0mnyq\u001b[0m\u001b[0;34m]\u001b[0m\u001b[0;34m,\u001b[0m \u001b[0mbtype\u001b[0m\u001b[0;34m=\u001b[0m\u001b[0;34m'band'\u001b[0m\u001b[0;34m)\u001b[0m\u001b[0;34m\u001b[0m\u001b[0;34m\u001b[0m\u001b[0m\n\u001b[1;32m      4\u001b[0m     \u001b[0;32mfor\u001b[0m \u001b[0mi\u001b[0m \u001b[0;32min\u001b[0m \u001b[0mrange\u001b[0m\u001b[0;34m(\u001b[0m\u001b[0;36m0\u001b[0m\u001b[0;34m,\u001b[0m \u001b[0mn\u001b[0m\u001b[0;34m)\u001b[0m\u001b[0;34m:\u001b[0m\u001b[0;34m\u001b[0m\u001b[0;34m\u001b[0m\u001b[0m\n\u001b[0;32m----> 5\u001b[0;31m         \u001b[0mwave\u001b[0m \u001b[0;34m=\u001b[0m \u001b[0msignal\u001b[0m\u001b[0;34m.\u001b[0m\u001b[0mfiltfilt\u001b[0m\u001b[0;34m(\u001b[0m\u001b[0mb\u001b[0m\u001b[0;34m,\u001b[0m \u001b[0ma\u001b[0m\u001b[0;34m,\u001b[0m \u001b[0mwave\u001b[0m\u001b[0;34m)\u001b[0m\u001b[0;34m\u001b[0m\u001b[0;34m\u001b[0m\u001b[0m\n\u001b[0m\u001b[1;32m      6\u001b[0m     \u001b[0;32mreturn\u001b[0m \u001b[0mwave\u001b[0m\u001b[0;34m\u001b[0m\u001b[0;34m\u001b[0m\u001b[0m\n",
      "\u001b[0;32m~/opt/anaconda3/lib/python3.9/site-packages/scipy/signal/_signaltools.py\u001b[0m in \u001b[0;36mfiltfilt\u001b[0;34m(b, a, x, axis, padtype, padlen, method, irlen)\u001b[0m\n\u001b[1;32m   4071\u001b[0m \u001b[0;34m\u001b[0m\u001b[0m\n\u001b[1;32m   4072\u001b[0m     \u001b[0;31m# method == \"pad\"\u001b[0m\u001b[0;34m\u001b[0m\u001b[0;34m\u001b[0m\u001b[0m\n\u001b[0;32m-> 4073\u001b[0;31m     edge, ext = _validate_pad(padtype, padlen, x, axis,\n\u001b[0m\u001b[1;32m   4074\u001b[0m                               ntaps=max(len(a), len(b)))\n\u001b[1;32m   4075\u001b[0m \u001b[0;34m\u001b[0m\u001b[0m\n",
      "\u001b[0;32m~/opt/anaconda3/lib/python3.9/site-packages/scipy/signal/_signaltools.py\u001b[0m in \u001b[0;36m_validate_pad\u001b[0;34m(padtype, padlen, x, axis, ntaps)\u001b[0m\n\u001b[1;32m   4121\u001b[0m     \u001b[0;31m# x's 'axis' dimension must be bigger than edge.\u001b[0m\u001b[0;34m\u001b[0m\u001b[0;34m\u001b[0m\u001b[0m\n\u001b[1;32m   4122\u001b[0m     \u001b[0;32mif\u001b[0m \u001b[0mx\u001b[0m\u001b[0;34m.\u001b[0m\u001b[0mshape\u001b[0m\u001b[0;34m[\u001b[0m\u001b[0maxis\u001b[0m\u001b[0;34m]\u001b[0m \u001b[0;34m<=\u001b[0m \u001b[0medge\u001b[0m\u001b[0;34m:\u001b[0m\u001b[0;34m\u001b[0m\u001b[0;34m\u001b[0m\u001b[0m\n\u001b[0;32m-> 4123\u001b[0;31m         raise ValueError(\"The length of the input vector x must be greater \"\n\u001b[0m\u001b[1;32m   4124\u001b[0m                          \"than padlen, which is %d.\" % edge)\n\u001b[1;32m   4125\u001b[0m \u001b[0;34m\u001b[0m\u001b[0m\n",
      "\u001b[0;31mValueError\u001b[0m: The length of the input vector x must be greater than padlen, which is 9."
     ]
    }
   ],
   "source": [
    "testdf_filterd = bandpass(testdf[[\"FC3\"]], 500, 1, 49, 3)"
   ]
  },
  {
   "cell_type": "code",
   "execution_count": null,
   "id": "221ada0e",
   "metadata": {},
   "outputs": [],
   "source": []
  },
  {
   "cell_type": "code",
   "execution_count": null,
   "id": "8a8f814f",
   "metadata": {},
   "outputs": [],
   "source": []
  },
  {
   "cell_type": "markdown",
   "id": "fff70eda",
   "metadata": {},
   "source": [
    "### フーリエ変換"
   ]
  },
  {
   "cell_type": "code",
   "execution_count": 28,
   "id": "b7952b8d",
   "metadata": {},
   "outputs": [
    {
     "data": {
      "text/plain": [
       "<BarContainer object of 75000 artists>"
      ]
     },
     "execution_count": 28,
     "metadata": {},
     "output_type": "execute_result"
    },
    {
     "data": {
      "image/png": "[encoded data removed]",
      "text/plain": [
       "<Figure size 640x480 with 1 Axes>"
      ]
     },
     "metadata": {},
     "output_type": "display_data"
    }
   ],
   "source": [
    "# 窓関数\n",
    "# hw = np.hamming(len(testdf*500)) #ハミング窓\n",
    "# windowData = hw * testdf[[\"FC3\"]]\n",
    "\n",
    "N = 500 * 300\n",
    "\n",
    "# フーリエ変換\n",
    "F = np.fft.fft(testdf[\"FC3\"])\n",
    "F_abs = np.abs(F)\n",
    "\n",
    "# プロット\n",
    "left = np.arange(int(N/2))\n",
    "height = F_abs[0:int(N/2)] / np.max(F_abs)\n",
    "plt.xlabel(\"Frequency\")\n",
    "plt.ylabel(\"Amplitude\")\n",
    "plt.bar(left, height)\n"
   ]
  },
  {
   "cell_type": "markdown",
   "id": "3f883da1",
   "metadata": {},
   "source": [
    "### 研究のための脳波知識\n",
    "https://www.miyuki-net.co.jp/jp/web_seminar/solveBrainfunc/"
   ]
  },
  {
   "cell_type": "markdown",
   "id": "f406a7b3",
   "metadata": {},
   "source": [
    "### 参考文献たち\n",
    "- [脳波データをフーリエ解析](https://mukai-lab.info/pages/tech/emotiv/emotiv3/)\n",
    "- [バンドパスフィルタはちゃんとかけましょう。相馬さんは1-49Hz](https://atatat.hatenablog.com/entry/data_proc_python5)"
   ]
  },
  {
   "cell_type": "code",
   "execution_count": null,
   "id": "f5e1997d",
   "metadata": {},
   "outputs": [],
   "source": []
  }
 ],
 "metadata": {
  "kernelspec": {
   "display_name": "Python 3 (ipykernel)",
   "language": "python",
   "name": "python3"
  },
  "language_info": {
   "codemirror_mode": {
    "name": "ipython",
    "version": 3
   },
   "file_extension": ".py",
   "mimetype": "text/x-python",
   "name": "python",
   "nbconvert_exporter": "python",
   "pygments_lexer": "ipython3",
   "version": "3.9.13"
  }
 },
 "nbformat": 4,
 "nbformat_minor": 5
}
