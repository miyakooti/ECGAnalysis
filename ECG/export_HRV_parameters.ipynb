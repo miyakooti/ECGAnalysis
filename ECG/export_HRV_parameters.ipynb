{
 "cells": [
  {
   "cell_type": "markdown",
   "id": "0d628fb8",
   "metadata": {},
   "source": [
    "- rest\n",
    "- practice\n",
    "- boredom\n",
    "- flow\n",
    "- ultra\n",
    "- overload"
   ]
  },
  {
   "cell_type": "markdown",
   "id": "2e2abd1b",
   "metadata": {},
   "source": [
    "### 手動で設定"
   ]
  },
  {
   "cell_type": "code",
   "execution_count": 9,
   "id": "f612184d",
   "metadata": {},
   "outputs": [],
   "source": [
    "subject_name_list = [\"kumakura\",\"kim\",\"souma\",\"fujii\",\"tubota\",\"toki\"]\n",
    "phase_name_list = [\"rest\", \"practice\", \"boredom\", \"flow\", \"ultra\", \"overload\"]"
   ]
  },
  {
   "cell_type": "markdown",
   "id": "a1dc28cf",
   "metadata": {},
   "source": [
    "### 分析\n"
   ]
  },
  {
   "cell_type": "code",
   "execution_count": 10,
   "id": "2b0c5a63",
   "metadata": {},
   "outputs": [],
   "source": [
    "import heartpy as hp\n",
    "import pandas as pd"
   ]
  },
  {
   "cell_type": "code",
   "execution_count": 19,
   "id": "3d4dcc8b",
   "metadata": {
    "scrolled": false
   },
   "outputs": [
    {
     "name": "stdout",
     "output_type": "stream",
     "text": [
      "kumakura さんの rest フェーズのデータを分析します。\n",
      "計測時間は312.716秒です\n",
      "\n",
      "Finished in 0.059417 sec\n"
     ]
    },
    {
     "name": "stderr",
     "output_type": "stream",
     "text": [
      "/Users/miyakooti/opt/anaconda3/lib/python3.9/site-packages/heartpy-1.2.7-py3.9.egg/heartpy/analysis.py:528: UserWarning: Short signal.\n",
      "\n",
      "---------Warning:---------\n",
      "too few peak-peak intervals for (reliable) frequency domain measure computation, frequency output measures are still computed but treat them with caution!\n",
      "\n",
      "HF is usually computed over a minimum of 1 minute of good signal. LF is usually computed over a minimum of 2 minutes of good signal.VLF is usually computed over a minimum of 5 minutes of good signal.The LF/HF ratio is usually computed over minimum 24 hours, although an absolute minimum of 5 min has also been suggested.\n",
      "\n",
      "For more info see: \n",
      "Shaffer, F., Ginsberg, J.P. (2017), An Overview of Heart Rate Variability Metrics and Norms.\n",
      "\n",
      "Task Force of Pacing and Electrophysiology (1996), Heart Rate Variability, in: European Heart Journal, vol.17, issue 3, pp354-381\n",
      "\n",
      "This warning will not repeat\n"
     ]
    },
    {
     "name": "stdout",
     "output_type": "stream",
     "text": [
      "kumakura さんの practice フェーズのデータを分析します。\n",
      "計測時間は223.348秒です\n",
      "\n",
      "Finished in 0.039434 sec\n"
     ]
    },
    {
     "name": "stderr",
     "output_type": "stream",
     "text": [
      "/Users/miyakooti/opt/anaconda3/lib/python3.9/site-packages/heartpy-1.2.7-py3.9.egg/heartpy/analysis.py:528: UserWarning: Short signal.\n",
      "\n",
      "---------Warning:---------\n",
      "too few peak-peak intervals for (reliable) frequency domain measure computation, frequency output measures are still computed but treat them with caution!\n",
      "\n",
      "HF is usually computed over a minimum of 1 minute of good signal. LF is usually computed over a minimum of 2 minutes of good signal.VLF is usually computed over a minimum of 5 minutes of good signal.The LF/HF ratio is usually computed over minimum 24 hours, although an absolute minimum of 5 min has also been suggested.\n",
      "\n",
      "For more info see: \n",
      "Shaffer, F., Ginsberg, J.P. (2017), An Overview of Heart Rate Variability Metrics and Norms.\n",
      "\n",
      "Task Force of Pacing and Electrophysiology (1996), Heart Rate Variability, in: European Heart Journal, vol.17, issue 3, pp354-381\n",
      "\n",
      "This warning will not repeat\n"
     ]
    },
    {
     "name": "stdout",
     "output_type": "stream",
     "text": [
      "kumakura さんの boredom フェーズのデータを分析します。\n",
      "計測時間は319.402秒です\n",
      "\n",
      "Finished in 0.074215 sec\n"
     ]
    },
    {
     "name": "stderr",
     "output_type": "stream",
     "text": [
      "/Users/miyakooti/opt/anaconda3/lib/python3.9/site-packages/heartpy-1.2.7-py3.9.egg/heartpy/analysis.py:528: UserWarning: Short signal.\n",
      "\n",
      "---------Warning:---------\n",
      "too few peak-peak intervals for (reliable) frequency domain measure computation, frequency output measures are still computed but treat them with caution!\n",
      "\n",
      "HF is usually computed over a minimum of 1 minute of good signal. LF is usually computed over a minimum of 2 minutes of good signal.VLF is usually computed over a minimum of 5 minutes of good signal.The LF/HF ratio is usually computed over minimum 24 hours, although an absolute minimum of 5 min has also been suggested.\n",
      "\n",
      "For more info see: \n",
      "Shaffer, F., Ginsberg, J.P. (2017), An Overview of Heart Rate Variability Metrics and Norms.\n",
      "\n",
      "Task Force of Pacing and Electrophysiology (1996), Heart Rate Variability, in: European Heart Journal, vol.17, issue 3, pp354-381\n",
      "\n",
      "This warning will not repeat\n"
     ]
    },
    {
     "name": "stdout",
     "output_type": "stream",
     "text": [
      "kumakura さんの flow フェーズのデータを分析します。\n",
      "計測時間は606.986秒です\n",
      "\n",
      "Finished in 0.225960 sec\n",
      "kumakura さんの ultra フェーズのデータを分析します。\n",
      "計測時間は196.186秒です\n"
     ]
    },
    {
     "name": "stderr",
     "output_type": "stream",
     "text": [
      "/Users/miyakooti/opt/anaconda3/lib/python3.9/site-packages/heartpy-1.2.7-py3.9.egg/heartpy/analysis.py:528: UserWarning: Short signal.\n",
      "\n",
      "---------Warning:---------\n",
      "too few peak-peak intervals for (reliable) frequency domain measure computation, frequency output measures are still computed but treat them with caution!\n",
      "\n",
      "HF is usually computed over a minimum of 1 minute of good signal. LF is usually computed over a minimum of 2 minutes of good signal.VLF is usually computed over a minimum of 5 minutes of good signal.The LF/HF ratio is usually computed over minimum 24 hours, although an absolute minimum of 5 min has also been suggested.\n",
      "\n",
      "For more info see: \n",
      "Shaffer, F., Ginsberg, J.P. (2017), An Overview of Heart Rate Variability Metrics and Norms.\n",
      "\n",
      "Task Force of Pacing and Electrophysiology (1996), Heart Rate Variability, in: European Heart Journal, vol.17, issue 3, pp354-381\n",
      "\n",
      "This warning will not repeat\n"
     ]
    },
    {
     "name": "stdout",
     "output_type": "stream",
     "text": [
      "\n",
      "Finished in 0.034112 sec\n",
      "kumakura さんの overload フェーズのデータを分析します。\n",
      "計測時間は324.99秒です\n",
      "\n",
      "Finished in 0.077628 sec\n"
     ]
    },
    {
     "name": "stderr",
     "output_type": "stream",
     "text": [
      "/Users/miyakooti/opt/anaconda3/lib/python3.9/site-packages/heartpy-1.2.7-py3.9.egg/heartpy/analysis.py:528: UserWarning: Short signal.\n",
      "\n",
      "---------Warning:---------\n",
      "too few peak-peak intervals for (reliable) frequency domain measure computation, frequency output measures are still computed but treat them with caution!\n",
      "\n",
      "HF is usually computed over a minimum of 1 minute of good signal. LF is usually computed over a minimum of 2 minutes of good signal.VLF is usually computed over a minimum of 5 minutes of good signal.The LF/HF ratio is usually computed over minimum 24 hours, although an absolute minimum of 5 min has also been suggested.\n",
      "\n",
      "For more info see: \n",
      "Shaffer, F., Ginsberg, J.P. (2017), An Overview of Heart Rate Variability Metrics and Norms.\n",
      "\n",
      "Task Force of Pacing and Electrophysiology (1996), Heart Rate Variability, in: European Heart Journal, vol.17, issue 3, pp354-381\n",
      "\n",
      "This warning will not repeat\n"
     ]
    },
    {
     "name": "stdout",
     "output_type": "stream",
     "text": [
      "kim さんの rest フェーズのデータを分析します。\n",
      "計測時間は314.558秒です\n",
      "\n",
      "Finished in 0.065379 sec\n"
     ]
    },
    {
     "name": "stderr",
     "output_type": "stream",
     "text": [
      "/Users/miyakooti/opt/anaconda3/lib/python3.9/site-packages/heartpy-1.2.7-py3.9.egg/heartpy/analysis.py:528: UserWarning: Short signal.\n",
      "\n",
      "---------Warning:---------\n",
      "too few peak-peak intervals for (reliable) frequency domain measure computation, frequency output measures are still computed but treat them with caution!\n",
      "\n",
      "HF is usually computed over a minimum of 1 minute of good signal. LF is usually computed over a minimum of 2 minutes of good signal.VLF is usually computed over a minimum of 5 minutes of good signal.The LF/HF ratio is usually computed over minimum 24 hours, although an absolute minimum of 5 min has also been suggested.\n",
      "\n",
      "For more info see: \n",
      "Shaffer, F., Ginsberg, J.P. (2017), An Overview of Heart Rate Variability Metrics and Norms.\n",
      "\n",
      "Task Force of Pacing and Electrophysiology (1996), Heart Rate Variability, in: European Heart Journal, vol.17, issue 3, pp354-381\n",
      "\n",
      "This warning will not repeat\n",
      "/Users/miyakooti/opt/anaconda3/lib/python3.9/site-packages/heartpy-1.2.7-py3.9.egg/heartpy/analysis.py:528: UserWarning: Short signal.\n",
      "\n",
      "---------Warning:---------\n",
      "too few peak-peak intervals for (reliable) frequency domain measure computation, frequency output measures are still computed but treat them with caution!\n",
      "\n",
      "HF is usually computed over a minimum of 1 minute of good signal. LF is usually computed over a minimum of 2 minutes of good signal.VLF is usually computed over a minimum of 5 minutes of good signal.The LF/HF ratio is usually computed over minimum 24 hours, although an absolute minimum of 5 min has also been suggested.\n",
      "\n",
      "For more info see: \n",
      "Shaffer, F., Ginsberg, J.P. (2017), An Overview of Heart Rate Variability Metrics and Norms.\n",
      "\n",
      "Task Force of Pacing and Electrophysiology (1996), Heart Rate Variability, in: European Heart Journal, vol.17, issue 3, pp354-381\n",
      "\n",
      "This warning will not repeat\n"
     ]
    },
    {
     "name": "stdout",
     "output_type": "stream",
     "text": [
      "kim さんの practice フェーズのデータを分析します。\n",
      "計測時間は175.96秒です\n",
      "\n",
      "Finished in 0.029890 sec\n",
      "kim さんの boredom フェーズのデータを分析します。\n",
      "計測時間は325.242秒です\n",
      "\n",
      "Finished in 0.073069 sec\n"
     ]
    },
    {
     "name": "stderr",
     "output_type": "stream",
     "text": [
      "/Users/miyakooti/opt/anaconda3/lib/python3.9/site-packages/heartpy-1.2.7-py3.9.egg/heartpy/analysis.py:528: UserWarning: Short signal.\n",
      "\n",
      "---------Warning:---------\n",
      "too few peak-peak intervals for (reliable) frequency domain measure computation, frequency output measures are still computed but treat them with caution!\n",
      "\n",
      "HF is usually computed over a minimum of 1 minute of good signal. LF is usually computed over a minimum of 2 minutes of good signal.VLF is usually computed over a minimum of 5 minutes of good signal.The LF/HF ratio is usually computed over minimum 24 hours, although an absolute minimum of 5 min has also been suggested.\n",
      "\n",
      "For more info see: \n",
      "Shaffer, F., Ginsberg, J.P. (2017), An Overview of Heart Rate Variability Metrics and Norms.\n",
      "\n",
      "Task Force of Pacing and Electrophysiology (1996), Heart Rate Variability, in: European Heart Journal, vol.17, issue 3, pp354-381\n",
      "\n",
      "This warning will not repeat\n"
     ]
    },
    {
     "name": "stdout",
     "output_type": "stream",
     "text": [
      "kim さんの flow フェーズのデータを分析します。\n",
      "計測時間は524.032秒です\n",
      "\n",
      "Finished in 0.193486 sec\n",
      "kim さんの ultra フェーズのデータを分析します。\n",
      "計測時間は201.86秒です\n",
      "\n",
      "Finished in 0.037472 sec\n"
     ]
    },
    {
     "name": "stderr",
     "output_type": "stream",
     "text": [
      "/Users/miyakooti/opt/anaconda3/lib/python3.9/site-packages/heartpy-1.2.7-py3.9.egg/heartpy/analysis.py:528: UserWarning: Short signal.\n",
      "\n",
      "---------Warning:---------\n",
      "too few peak-peak intervals for (reliable) frequency domain measure computation, frequency output measures are still computed but treat them with caution!\n",
      "\n",
      "HF is usually computed over a minimum of 1 minute of good signal. LF is usually computed over a minimum of 2 minutes of good signal.VLF is usually computed over a minimum of 5 minutes of good signal.The LF/HF ratio is usually computed over minimum 24 hours, although an absolute minimum of 5 min has also been suggested.\n",
      "\n",
      "For more info see: \n",
      "Shaffer, F., Ginsberg, J.P. (2017), An Overview of Heart Rate Variability Metrics and Norms.\n",
      "\n",
      "Task Force of Pacing and Electrophysiology (1996), Heart Rate Variability, in: European Heart Journal, vol.17, issue 3, pp354-381\n",
      "\n",
      "This warning will not repeat\n"
     ]
    },
    {
     "name": "stdout",
     "output_type": "stream",
     "text": [
      "kim さんの overload フェーズのデータを分析します。\n",
      "計測時間は333.118秒です\n",
      "\n",
      "Finished in 0.073372 sec\n"
     ]
    },
    {
     "name": "stderr",
     "output_type": "stream",
     "text": [
      "/Users/miyakooti/opt/anaconda3/lib/python3.9/site-packages/heartpy-1.2.7-py3.9.egg/heartpy/analysis.py:528: UserWarning: Short signal.\n",
      "\n",
      "---------Warning:---------\n",
      "too few peak-peak intervals for (reliable) frequency domain measure computation, frequency output measures are still computed but treat them with caution!\n",
      "\n",
      "HF is usually computed over a minimum of 1 minute of good signal. LF is usually computed over a minimum of 2 minutes of good signal.VLF is usually computed over a minimum of 5 minutes of good signal.The LF/HF ratio is usually computed over minimum 24 hours, although an absolute minimum of 5 min has also been suggested.\n",
      "\n",
      "For more info see: \n",
      "Shaffer, F., Ginsberg, J.P. (2017), An Overview of Heart Rate Variability Metrics and Norms.\n",
      "\n",
      "Task Force of Pacing and Electrophysiology (1996), Heart Rate Variability, in: European Heart Journal, vol.17, issue 3, pp354-381\n",
      "\n",
      "This warning will not repeat\n"
     ]
    },
    {
     "name": "stdout",
     "output_type": "stream",
     "text": [
      "souma さんの rest フェーズのデータを分析します。\n",
      "計測時間は316.288秒です\n",
      "\n",
      "Finished in 0.066373 sec\n"
     ]
    },
    {
     "name": "stderr",
     "output_type": "stream",
     "text": [
      "/Users/miyakooti/opt/anaconda3/lib/python3.9/site-packages/heartpy-1.2.7-py3.9.egg/heartpy/analysis.py:528: UserWarning: Short signal.\n",
      "\n",
      "---------Warning:---------\n",
      "too few peak-peak intervals for (reliable) frequency domain measure computation, frequency output measures are still computed but treat them with caution!\n",
      "\n",
      "HF is usually computed over a minimum of 1 minute of good signal. LF is usually computed over a minimum of 2 minutes of good signal.VLF is usually computed over a minimum of 5 minutes of good signal.The LF/HF ratio is usually computed over minimum 24 hours, although an absolute minimum of 5 min has also been suggested.\n",
      "\n",
      "For more info see: \n",
      "Shaffer, F., Ginsberg, J.P. (2017), An Overview of Heart Rate Variability Metrics and Norms.\n",
      "\n",
      "Task Force of Pacing and Electrophysiology (1996), Heart Rate Variability, in: European Heart Journal, vol.17, issue 3, pp354-381\n",
      "\n",
      "This warning will not repeat\n"
     ]
    },
    {
     "name": "stdout",
     "output_type": "stream",
     "text": [
      "souma さんの practice フェーズのデータを分析します。\n",
      "計測時間は359.038秒です\n",
      "\n",
      "Finished in 0.076576 sec\n"
     ]
    },
    {
     "name": "stderr",
     "output_type": "stream",
     "text": [
      "/Users/miyakooti/opt/anaconda3/lib/python3.9/site-packages/heartpy-1.2.7-py3.9.egg/heartpy/analysis.py:528: UserWarning: Short signal.\n",
      "\n",
      "---------Warning:---------\n",
      "too few peak-peak intervals for (reliable) frequency domain measure computation, frequency output measures are still computed but treat them with caution!\n",
      "\n",
      "HF is usually computed over a minimum of 1 minute of good signal. LF is usually computed over a minimum of 2 minutes of good signal.VLF is usually computed over a minimum of 5 minutes of good signal.The LF/HF ratio is usually computed over minimum 24 hours, although an absolute minimum of 5 min has also been suggested.\n",
      "\n",
      "For more info see: \n",
      "Shaffer, F., Ginsberg, J.P. (2017), An Overview of Heart Rate Variability Metrics and Norms.\n",
      "\n",
      "Task Force of Pacing and Electrophysiology (1996), Heart Rate Variability, in: European Heart Journal, vol.17, issue 3, pp354-381\n",
      "\n",
      "This warning will not repeat\n"
     ]
    },
    {
     "name": "stdout",
     "output_type": "stream",
     "text": [
      "souma さんの boredom フェーズのデータを分析します。\n",
      "計測時間は324.226秒です\n",
      "\n",
      "Finished in 0.066811 sec\n"
     ]
    },
    {
     "name": "stderr",
     "output_type": "stream",
     "text": [
      "/Users/miyakooti/opt/anaconda3/lib/python3.9/site-packages/heartpy-1.2.7-py3.9.egg/heartpy/analysis.py:528: UserWarning: Short signal.\n",
      "\n",
      "---------Warning:---------\n",
      "too few peak-peak intervals for (reliable) frequency domain measure computation, frequency output measures are still computed but treat them with caution!\n",
      "\n",
      "HF is usually computed over a minimum of 1 minute of good signal. LF is usually computed over a minimum of 2 minutes of good signal.VLF is usually computed over a minimum of 5 minutes of good signal.The LF/HF ratio is usually computed over minimum 24 hours, although an absolute minimum of 5 min has also been suggested.\n",
      "\n",
      "For more info see: \n",
      "Shaffer, F., Ginsberg, J.P. (2017), An Overview of Heart Rate Variability Metrics and Norms.\n",
      "\n",
      "Task Force of Pacing and Electrophysiology (1996), Heart Rate Variability, in: European Heart Journal, vol.17, issue 3, pp354-381\n",
      "\n",
      "This warning will not repeat\n"
     ]
    },
    {
     "name": "stdout",
     "output_type": "stream",
     "text": [
      "souma さんの flow フェーズのデータを分析します。\n",
      "計測時間は760.812秒です\n",
      "\n",
      "Finished in 0.303836 sec\n",
      "souma さんの ultra フェーズのデータを分析します。\n",
      "計測時間は200.168秒です\n"
     ]
    },
    {
     "name": "stderr",
     "output_type": "stream",
     "text": [
      "/Users/miyakooti/opt/anaconda3/lib/python3.9/site-packages/heartpy-1.2.7-py3.9.egg/heartpy/analysis.py:528: UserWarning: Short signal.\n",
      "\n",
      "---------Warning:---------\n",
      "too few peak-peak intervals for (reliable) frequency domain measure computation, frequency output measures are still computed but treat them with caution!\n",
      "\n",
      "HF is usually computed over a minimum of 1 minute of good signal. LF is usually computed over a minimum of 2 minutes of good signal.VLF is usually computed over a minimum of 5 minutes of good signal.The LF/HF ratio is usually computed over minimum 24 hours, although an absolute minimum of 5 min has also been suggested.\n",
      "\n",
      "For more info see: \n",
      "Shaffer, F., Ginsberg, J.P. (2017), An Overview of Heart Rate Variability Metrics and Norms.\n",
      "\n",
      "Task Force of Pacing and Electrophysiology (1996), Heart Rate Variability, in: European Heart Journal, vol.17, issue 3, pp354-381\n",
      "\n",
      "This warning will not repeat\n"
     ]
    },
    {
     "name": "stdout",
     "output_type": "stream",
     "text": [
      "\n",
      "Finished in 0.035930 sec\n",
      "souma さんの overload フェーズのデータを分析します。\n",
      "計測時間は324.518秒です\n",
      "\n",
      "Finished in 0.073980 sec\n"
     ]
    },
    {
     "name": "stderr",
     "output_type": "stream",
     "text": [
      "/Users/miyakooti/opt/anaconda3/lib/python3.9/site-packages/heartpy-1.2.7-py3.9.egg/heartpy/analysis.py:528: UserWarning: Short signal.\n",
      "\n",
      "---------Warning:---------\n",
      "too few peak-peak intervals for (reliable) frequency domain measure computation, frequency output measures are still computed but treat them with caution!\n",
      "\n",
      "HF is usually computed over a minimum of 1 minute of good signal. LF is usually computed over a minimum of 2 minutes of good signal.VLF is usually computed over a minimum of 5 minutes of good signal.The LF/HF ratio is usually computed over minimum 24 hours, although an absolute minimum of 5 min has also been suggested.\n",
      "\n",
      "For more info see: \n",
      "Shaffer, F., Ginsberg, J.P. (2017), An Overview of Heart Rate Variability Metrics and Norms.\n",
      "\n",
      "Task Force of Pacing and Electrophysiology (1996), Heart Rate Variability, in: European Heart Journal, vol.17, issue 3, pp354-381\n",
      "\n",
      "This warning will not repeat\n"
     ]
    },
    {
     "name": "stdout",
     "output_type": "stream",
     "text": [
      "fujii さんの rest フェーズのデータを分析します。\n",
      "計測時間は318.856秒です\n",
      "\n",
      "Finished in 0.066315 sec\n"
     ]
    },
    {
     "name": "stderr",
     "output_type": "stream",
     "text": [
      "/Users/miyakooti/opt/anaconda3/lib/python3.9/site-packages/heartpy-1.2.7-py3.9.egg/heartpy/analysis.py:528: UserWarning: Short signal.\n",
      "\n",
      "---------Warning:---------\n",
      "too few peak-peak intervals for (reliable) frequency domain measure computation, frequency output measures are still computed but treat them with caution!\n",
      "\n",
      "HF is usually computed over a minimum of 1 minute of good signal. LF is usually computed over a minimum of 2 minutes of good signal.VLF is usually computed over a minimum of 5 minutes of good signal.The LF/HF ratio is usually computed over minimum 24 hours, although an absolute minimum of 5 min has also been suggested.\n",
      "\n",
      "For more info see: \n",
      "Shaffer, F., Ginsberg, J.P. (2017), An Overview of Heart Rate Variability Metrics and Norms.\n",
      "\n",
      "Task Force of Pacing and Electrophysiology (1996), Heart Rate Variability, in: European Heart Journal, vol.17, issue 3, pp354-381\n",
      "\n",
      "This warning will not repeat\n"
     ]
    },
    {
     "name": "stdout",
     "output_type": "stream",
     "text": [
      "fujii さんの practice フェーズのデータを分析します。\n",
      "計測時間は273.968秒です\n",
      "\n",
      "Finished in 0.054160 sec\n"
     ]
    },
    {
     "name": "stderr",
     "output_type": "stream",
     "text": [
      "/Users/miyakooti/opt/anaconda3/lib/python3.9/site-packages/heartpy-1.2.7-py3.9.egg/heartpy/analysis.py:528: UserWarning: Short signal.\n",
      "\n",
      "---------Warning:---------\n",
      "too few peak-peak intervals for (reliable) frequency domain measure computation, frequency output measures are still computed but treat them with caution!\n",
      "\n",
      "HF is usually computed over a minimum of 1 minute of good signal. LF is usually computed over a minimum of 2 minutes of good signal.VLF is usually computed over a minimum of 5 minutes of good signal.The LF/HF ratio is usually computed over minimum 24 hours, although an absolute minimum of 5 min has also been suggested.\n",
      "\n",
      "For more info see: \n",
      "Shaffer, F., Ginsberg, J.P. (2017), An Overview of Heart Rate Variability Metrics and Norms.\n",
      "\n",
      "Task Force of Pacing and Electrophysiology (1996), Heart Rate Variability, in: European Heart Journal, vol.17, issue 3, pp354-381\n",
      "\n",
      "This warning will not repeat\n"
     ]
    },
    {
     "name": "stdout",
     "output_type": "stream",
     "text": [
      "fujii さんの boredom フェーズのデータを分析します。\n",
      "計測時間は321.372秒です\n",
      "\n",
      "Finished in 0.081984 sec\n"
     ]
    },
    {
     "name": "stderr",
     "output_type": "stream",
     "text": [
      "/Users/miyakooti/opt/anaconda3/lib/python3.9/site-packages/heartpy-1.2.7-py3.9.egg/heartpy/analysis.py:528: UserWarning: Short signal.\n",
      "\n",
      "---------Warning:---------\n",
      "too few peak-peak intervals for (reliable) frequency domain measure computation, frequency output measures are still computed but treat them with caution!\n",
      "\n",
      "HF is usually computed over a minimum of 1 minute of good signal. LF is usually computed over a minimum of 2 minutes of good signal.VLF is usually computed over a minimum of 5 minutes of good signal.The LF/HF ratio is usually computed over minimum 24 hours, although an absolute minimum of 5 min has also been suggested.\n",
      "\n",
      "For more info see: \n",
      "Shaffer, F., Ginsberg, J.P. (2017), An Overview of Heart Rate Variability Metrics and Norms.\n",
      "\n",
      "Task Force of Pacing and Electrophysiology (1996), Heart Rate Variability, in: European Heart Journal, vol.17, issue 3, pp354-381\n",
      "\n",
      "This warning will not repeat\n"
     ]
    },
    {
     "name": "stdout",
     "output_type": "stream",
     "text": [
      "fujii さんの flow フェーズのデータを分析します。\n",
      "計測時間は789.918秒です\n",
      "\n",
      "Finished in 0.328967 sec\n",
      "fujii さんの ultra フェーズのデータを分析します。\n",
      "計測時間は199.7秒です\n"
     ]
    },
    {
     "name": "stderr",
     "output_type": "stream",
     "text": [
      "/Users/miyakooti/opt/anaconda3/lib/python3.9/site-packages/heartpy-1.2.7-py3.9.egg/heartpy/analysis.py:528: UserWarning: Short signal.\n",
      "\n",
      "---------Warning:---------\n",
      "too few peak-peak intervals for (reliable) frequency domain measure computation, frequency output measures are still computed but treat them with caution!\n",
      "\n",
      "HF is usually computed over a minimum of 1 minute of good signal. LF is usually computed over a minimum of 2 minutes of good signal.VLF is usually computed over a minimum of 5 minutes of good signal.The LF/HF ratio is usually computed over minimum 24 hours, although an absolute minimum of 5 min has also been suggested.\n",
      "\n",
      "For more info see: \n",
      "Shaffer, F., Ginsberg, J.P. (2017), An Overview of Heart Rate Variability Metrics and Norms.\n",
      "\n",
      "Task Force of Pacing and Electrophysiology (1996), Heart Rate Variability, in: European Heart Journal, vol.17, issue 3, pp354-381\n",
      "\n",
      "This warning will not repeat\n"
     ]
    },
    {
     "name": "stdout",
     "output_type": "stream",
     "text": [
      "\n",
      "Finished in 0.031122 sec\n",
      "fujii さんの overload フェーズのデータを分析します。\n",
      "計測時間は322.972秒です\n",
      "\n",
      "Finished in 0.070512 sec\n"
     ]
    },
    {
     "name": "stderr",
     "output_type": "stream",
     "text": [
      "/Users/miyakooti/opt/anaconda3/lib/python3.9/site-packages/heartpy-1.2.7-py3.9.egg/heartpy/analysis.py:528: UserWarning: Short signal.\n",
      "\n",
      "---------Warning:---------\n",
      "too few peak-peak intervals for (reliable) frequency domain measure computation, frequency output measures are still computed but treat them with caution!\n",
      "\n",
      "HF is usually computed over a minimum of 1 minute of good signal. LF is usually computed over a minimum of 2 minutes of good signal.VLF is usually computed over a minimum of 5 minutes of good signal.The LF/HF ratio is usually computed over minimum 24 hours, although an absolute minimum of 5 min has also been suggested.\n",
      "\n",
      "For more info see: \n",
      "Shaffer, F., Ginsberg, J.P. (2017), An Overview of Heart Rate Variability Metrics and Norms.\n",
      "\n",
      "Task Force of Pacing and Electrophysiology (1996), Heart Rate Variability, in: European Heart Journal, vol.17, issue 3, pp354-381\n",
      "\n",
      "This warning will not repeat\n"
     ]
    },
    {
     "name": "stdout",
     "output_type": "stream",
     "text": [
      "tubota さんの rest フェーズのデータを分析します。\n",
      "計測時間は315.374秒です\n",
      "\n",
      "Finished in 0.074806 sec\n"
     ]
    },
    {
     "name": "stderr",
     "output_type": "stream",
     "text": [
      "/Users/miyakooti/opt/anaconda3/lib/python3.9/site-packages/heartpy-1.2.7-py3.9.egg/heartpy/analysis.py:528: UserWarning: Short signal.\n",
      "\n",
      "---------Warning:---------\n",
      "too few peak-peak intervals for (reliable) frequency domain measure computation, frequency output measures are still computed but treat them with caution!\n",
      "\n",
      "HF is usually computed over a minimum of 1 minute of good signal. LF is usually computed over a minimum of 2 minutes of good signal.VLF is usually computed over a minimum of 5 minutes of good signal.The LF/HF ratio is usually computed over minimum 24 hours, although an absolute minimum of 5 min has also been suggested.\n",
      "\n",
      "For more info see: \n",
      "Shaffer, F., Ginsberg, J.P. (2017), An Overview of Heart Rate Variability Metrics and Norms.\n",
      "\n",
      "Task Force of Pacing and Electrophysiology (1996), Heart Rate Variability, in: European Heart Journal, vol.17, issue 3, pp354-381\n",
      "\n",
      "This warning will not repeat\n"
     ]
    },
    {
     "name": "stdout",
     "output_type": "stream",
     "text": [
      "tubota さんの practice フェーズのデータを分析します。\n",
      "計測時間は268.654秒です\n",
      "\n",
      "Finished in 0.065714 sec\n"
     ]
    },
    {
     "name": "stderr",
     "output_type": "stream",
     "text": [
      "/Users/miyakooti/opt/anaconda3/lib/python3.9/site-packages/heartpy-1.2.7-py3.9.egg/heartpy/analysis.py:528: UserWarning: Short signal.\n",
      "\n",
      "---------Warning:---------\n",
      "too few peak-peak intervals for (reliable) frequency domain measure computation, frequency output measures are still computed but treat them with caution!\n",
      "\n",
      "HF is usually computed over a minimum of 1 minute of good signal. LF is usually computed over a minimum of 2 minutes of good signal.VLF is usually computed over a minimum of 5 minutes of good signal.The LF/HF ratio is usually computed over minimum 24 hours, although an absolute minimum of 5 min has also been suggested.\n",
      "\n",
      "For more info see: \n",
      "Shaffer, F., Ginsberg, J.P. (2017), An Overview of Heart Rate Variability Metrics and Norms.\n",
      "\n",
      "Task Force of Pacing and Electrophysiology (1996), Heart Rate Variability, in: European Heart Journal, vol.17, issue 3, pp354-381\n",
      "\n",
      "This warning will not repeat\n"
     ]
    },
    {
     "name": "stdout",
     "output_type": "stream",
     "text": [
      "tubota さんの boredom フェーズのデータを分析します。\n",
      "計測時間は320.646秒です\n",
      "\n",
      "Finished in 0.084246 sec\n"
     ]
    },
    {
     "name": "stderr",
     "output_type": "stream",
     "text": [
      "/Users/miyakooti/opt/anaconda3/lib/python3.9/site-packages/heartpy-1.2.7-py3.9.egg/heartpy/analysis.py:528: UserWarning: Short signal.\n",
      "\n",
      "---------Warning:---------\n",
      "too few peak-peak intervals for (reliable) frequency domain measure computation, frequency output measures are still computed but treat them with caution!\n",
      "\n",
      "HF is usually computed over a minimum of 1 minute of good signal. LF is usually computed over a minimum of 2 minutes of good signal.VLF is usually computed over a minimum of 5 minutes of good signal.The LF/HF ratio is usually computed over minimum 24 hours, although an absolute minimum of 5 min has also been suggested.\n",
      "\n",
      "For more info see: \n",
      "Shaffer, F., Ginsberg, J.P. (2017), An Overview of Heart Rate Variability Metrics and Norms.\n",
      "\n",
      "Task Force of Pacing and Electrophysiology (1996), Heart Rate Variability, in: European Heart Journal, vol.17, issue 3, pp354-381\n",
      "\n",
      "This warning will not repeat\n"
     ]
    },
    {
     "name": "stdout",
     "output_type": "stream",
     "text": [
      "tubota さんの flow フェーズのデータを分析します。\n",
      "計測時間は752.158秒です\n",
      "\n",
      "Finished in 0.384178 sec\n",
      "tubota さんの ultra フェーズのデータを分析します。\n",
      "計測時間は201.244秒です\n"
     ]
    },
    {
     "name": "stderr",
     "output_type": "stream",
     "text": [
      "/Users/miyakooti/opt/anaconda3/lib/python3.9/site-packages/heartpy-1.2.7-py3.9.egg/heartpy/analysis.py:528: UserWarning: Short signal.\n",
      "\n",
      "---------Warning:---------\n",
      "too few peak-peak intervals for (reliable) frequency domain measure computation, frequency output measures are still computed but treat them with caution!\n",
      "\n",
      "HF is usually computed over a minimum of 1 minute of good signal. LF is usually computed over a minimum of 2 minutes of good signal.VLF is usually computed over a minimum of 5 minutes of good signal.The LF/HF ratio is usually computed over minimum 24 hours, although an absolute minimum of 5 min has also been suggested.\n",
      "\n",
      "For more info see: \n",
      "Shaffer, F., Ginsberg, J.P. (2017), An Overview of Heart Rate Variability Metrics and Norms.\n",
      "\n",
      "Task Force of Pacing and Electrophysiology (1996), Heart Rate Variability, in: European Heart Journal, vol.17, issue 3, pp354-381\n",
      "\n",
      "This warning will not repeat\n"
     ]
    },
    {
     "name": "stdout",
     "output_type": "stream",
     "text": [
      "\n",
      "Finished in 0.036705 sec\n",
      "tubota さんの overload フェーズのデータを分析します。\n",
      "計測時間は320.388秒です\n",
      "\n",
      "Finished in 0.087862 sec\n"
     ]
    },
    {
     "name": "stderr",
     "output_type": "stream",
     "text": [
      "/Users/miyakooti/opt/anaconda3/lib/python3.9/site-packages/heartpy-1.2.7-py3.9.egg/heartpy/analysis.py:528: UserWarning: Short signal.\n",
      "\n",
      "---------Warning:---------\n",
      "too few peak-peak intervals for (reliable) frequency domain measure computation, frequency output measures are still computed but treat them with caution!\n",
      "\n",
      "HF is usually computed over a minimum of 1 minute of good signal. LF is usually computed over a minimum of 2 minutes of good signal.VLF is usually computed over a minimum of 5 minutes of good signal.The LF/HF ratio is usually computed over minimum 24 hours, although an absolute minimum of 5 min has also been suggested.\n",
      "\n",
      "For more info see: \n",
      "Shaffer, F., Ginsberg, J.P. (2017), An Overview of Heart Rate Variability Metrics and Norms.\n",
      "\n",
      "Task Force of Pacing and Electrophysiology (1996), Heart Rate Variability, in: European Heart Journal, vol.17, issue 3, pp354-381\n",
      "\n",
      "This warning will not repeat\n"
     ]
    },
    {
     "name": "stdout",
     "output_type": "stream",
     "text": [
      "toki さんの rest フェーズのデータを分析します。\n",
      "計測時間は318.822秒です\n",
      "\n",
      "Finished in 0.074452 sec\n"
     ]
    },
    {
     "name": "stderr",
     "output_type": "stream",
     "text": [
      "/Users/miyakooti/opt/anaconda3/lib/python3.9/site-packages/heartpy-1.2.7-py3.9.egg/heartpy/analysis.py:528: UserWarning: Short signal.\n",
      "\n",
      "---------Warning:---------\n",
      "too few peak-peak intervals for (reliable) frequency domain measure computation, frequency output measures are still computed but treat them with caution!\n",
      "\n",
      "HF is usually computed over a minimum of 1 minute of good signal. LF is usually computed over a minimum of 2 minutes of good signal.VLF is usually computed over a minimum of 5 minutes of good signal.The LF/HF ratio is usually computed over minimum 24 hours, although an absolute minimum of 5 min has also been suggested.\n",
      "\n",
      "For more info see: \n",
      "Shaffer, F., Ginsberg, J.P. (2017), An Overview of Heart Rate Variability Metrics and Norms.\n",
      "\n",
      "Task Force of Pacing and Electrophysiology (1996), Heart Rate Variability, in: European Heart Journal, vol.17, issue 3, pp354-381\n",
      "\n",
      "This warning will not repeat\n"
     ]
    },
    {
     "name": "stdout",
     "output_type": "stream",
     "text": [
      "toki さんの practice フェーズのデータを分析します。\n",
      "計測時間は221.752秒です\n",
      "\n",
      "Finished in 0.042250 sec\n"
     ]
    },
    {
     "name": "stderr",
     "output_type": "stream",
     "text": [
      "/Users/miyakooti/opt/anaconda3/lib/python3.9/site-packages/heartpy-1.2.7-py3.9.egg/heartpy/analysis.py:528: UserWarning: Short signal.\n",
      "\n",
      "---------Warning:---------\n",
      "too few peak-peak intervals for (reliable) frequency domain measure computation, frequency output measures are still computed but treat them with caution!\n",
      "\n",
      "HF is usually computed over a minimum of 1 minute of good signal. LF is usually computed over a minimum of 2 minutes of good signal.VLF is usually computed over a minimum of 5 minutes of good signal.The LF/HF ratio is usually computed over minimum 24 hours, although an absolute minimum of 5 min has also been suggested.\n",
      "\n",
      "For more info see: \n",
      "Shaffer, F., Ginsberg, J.P. (2017), An Overview of Heart Rate Variability Metrics and Norms.\n",
      "\n",
      "Task Force of Pacing and Electrophysiology (1996), Heart Rate Variability, in: European Heart Journal, vol.17, issue 3, pp354-381\n",
      "\n",
      "This warning will not repeat\n"
     ]
    },
    {
     "name": "stdout",
     "output_type": "stream",
     "text": [
      "toki さんの boredom フェーズのデータを分析します。\n",
      "計測時間は328.476秒です\n",
      "\n",
      "Finished in 0.067000 sec\n"
     ]
    },
    {
     "name": "stderr",
     "output_type": "stream",
     "text": [
      "/Users/miyakooti/opt/anaconda3/lib/python3.9/site-packages/heartpy-1.2.7-py3.9.egg/heartpy/analysis.py:528: UserWarning: Short signal.\n",
      "\n",
      "---------Warning:---------\n",
      "too few peak-peak intervals for (reliable) frequency domain measure computation, frequency output measures are still computed but treat them with caution!\n",
      "\n",
      "HF is usually computed over a minimum of 1 minute of good signal. LF is usually computed over a minimum of 2 minutes of good signal.VLF is usually computed over a minimum of 5 minutes of good signal.The LF/HF ratio is usually computed over minimum 24 hours, although an absolute minimum of 5 min has also been suggested.\n",
      "\n",
      "For more info see: \n",
      "Shaffer, F., Ginsberg, J.P. (2017), An Overview of Heart Rate Variability Metrics and Norms.\n",
      "\n",
      "Task Force of Pacing and Electrophysiology (1996), Heart Rate Variability, in: European Heart Journal, vol.17, issue 3, pp354-381\n",
      "\n",
      "This warning will not repeat\n"
     ]
    },
    {
     "name": "stdout",
     "output_type": "stream",
     "text": [
      "toki さんの flow フェーズのデータを分析します。\n",
      "計測時間は706.152秒です\n",
      "\n",
      "Finished in 0.254579 sec\n",
      "toki さんの ultra フェーズのデータを分析します。\n",
      "計測時間は203.742秒です\n"
     ]
    },
    {
     "name": "stderr",
     "output_type": "stream",
     "text": [
      "/Users/miyakooti/opt/anaconda3/lib/python3.9/site-packages/heartpy-1.2.7-py3.9.egg/heartpy/analysis.py:528: UserWarning: Short signal.\n",
      "\n",
      "---------Warning:---------\n",
      "too few peak-peak intervals for (reliable) frequency domain measure computation, frequency output measures are still computed but treat them with caution!\n",
      "\n",
      "HF is usually computed over a minimum of 1 minute of good signal. LF is usually computed over a minimum of 2 minutes of good signal.VLF is usually computed over a minimum of 5 minutes of good signal.The LF/HF ratio is usually computed over minimum 24 hours, although an absolute minimum of 5 min has also been suggested.\n",
      "\n",
      "For more info see: \n",
      "Shaffer, F., Ginsberg, J.P. (2017), An Overview of Heart Rate Variability Metrics and Norms.\n",
      "\n",
      "Task Force of Pacing and Electrophysiology (1996), Heart Rate Variability, in: European Heart Journal, vol.17, issue 3, pp354-381\n",
      "\n",
      "This warning will not repeat\n"
     ]
    },
    {
     "name": "stdout",
     "output_type": "stream",
     "text": [
      "\n",
      "Finished in 0.035975 sec\n",
      "toki さんの overload フェーズのデータを分析します。\n",
      "計測時間は328.838秒です\n",
      "\n",
      "Finished in 0.076878 sec\n"
     ]
    },
    {
     "name": "stderr",
     "output_type": "stream",
     "text": [
      "/Users/miyakooti/opt/anaconda3/lib/python3.9/site-packages/heartpy-1.2.7-py3.9.egg/heartpy/analysis.py:528: UserWarning: Short signal.\n",
      "\n",
      "---------Warning:---------\n",
      "too few peak-peak intervals for (reliable) frequency domain measure computation, frequency output measures are still computed but treat them with caution!\n",
      "\n",
      "HF is usually computed over a minimum of 1 minute of good signal. LF is usually computed over a minimum of 2 minutes of good signal.VLF is usually computed over a minimum of 5 minutes of good signal.The LF/HF ratio is usually computed over minimum 24 hours, although an absolute minimum of 5 min has also been suggested.\n",
      "\n",
      "For more info see: \n",
      "Shaffer, F., Ginsberg, J.P. (2017), An Overview of Heart Rate Variability Metrics and Norms.\n",
      "\n",
      "Task Force of Pacing and Electrophysiology (1996), Heart Rate Variability, in: European Heart Journal, vol.17, issue 3, pp354-381\n",
      "\n",
      "This warning will not repeat\n"
     ]
    }
   ],
   "source": [
    "fs = 500.0\n",
    "\n",
    "for i, subject_name in enumerate(subject_name_list):\n",
    "    for phase_name in phase_name_list:\n",
    "        hrdata = hp.get_data(f\"/Users/miyakooti/repositories/arai_MATLAB_program/csv/{i}_{subject_name}/ECG/ECG_{subject_name}_{phase_name}.csv\", delim = \",\", column_name = \"ECG\")\n",
    "        save_path = f'/Users/miyakooti/repositories/arai_MATLAB_program/csv/{i}_{subject_name}/ECG/{subject_name}_HRV.csv'\n",
    "        \n",
    "        if subject_name == \"kim\":\n",
    "            hrdata = hrdata*(-1)\n",
    "        \n",
    "        # debug-print -----------------------------------------------------------------\n",
    "        \n",
    "        print(f\"{subject_name} さんの {phase_name} フェーズのデータを分析します。\")\n",
    "        sec = len(hrdata)/500\n",
    "        print(f\"計測時間は{sec}秒です\")\n",
    "        \n",
    "        # / ---------------------------------------------------------------------------\n",
    "        \n",
    "        # 心拍変動パラメータの計算\n",
    "        working_data, measures = hp.process(hrdata[int(60*fs):], fs, report_time=True, calc_freq=True)\n",
    "        \n",
    "        # 差分パラメータの計算\n",
    "        \n",
    "        \n",
    "        \n",
    "        if phase_name == \"rest\":\n",
    "            \n",
    "            # 差分を計算するための基準値を保存\n",
    "            lf_rest = measures[\"lf\"]\n",
    "            hf_rest = measures[\"hf\"]\n",
    "            lfhf_rest = measures[\"lf/hf\"]\n",
    "            \n",
    "            # 差分の部分は0を入力して辞書に追加\n",
    "            measures[\"lf_diff\"] = 0\n",
    "            measures[\"hf_diff\"] = 0\n",
    "            measures[\"lfhf_diff\"] = 0\n",
    "            \n",
    "            # restだけヘッダーありで上書きエクスポート\n",
    "            df = pd.DataFrame(measures,index=[f\"{phase_name}\"])\n",
    "            df.to_csv(save_path, sep=',')\n",
    "        else:\n",
    "            \n",
    "            #　差分を計算して辞書に追加\n",
    "            measures[\"lf_diff\"] = lf_rest - measures[\"lf\"]\n",
    "            measures[\"hf_diff\"] = hf_rest - measures[\"hf\"]\n",
    "            measures[\"lfhf_diff\"] = lfhf_rest - measures[\"lf/hf\"]\n",
    "            \n",
    "            # mode=\"a\"で上書きではなく追記モード、ヘッダーなし\n",
    "            df = pd.DataFrame(measures,index=[f\"{phase_name}\"])\n",
    "            df.to_csv(save_path, sep=',', mode=\"a\", header=False)\n"
   ]
  },
  {
   "cell_type": "code",
   "execution_count": 5,
   "id": "d3db47bd",
   "metadata": {},
   "outputs": [
    {
     "name": "stdout",
     "output_type": "stream",
     "text": [
      "toki さんの overload フェーズのデータを分析します。\n",
      "計測時間は328.838秒です\n"
     ]
    }
   ],
   "source": [
    "print(f\"{name} さんの {phase} フェーズのデータを分析します。\")\n",
    "sec = len(hrdata)/500\n",
    "print(f\"計測時間は{sec}秒です\")"
   ]
  },
  {
   "cell_type": "markdown",
   "id": "dfbd2ef0",
   "metadata": {},
   "source": [
    "### ここで取得されたのは numpy.ndarray型"
   ]
  },
  {
   "cell_type": "code",
   "execution_count": 6,
   "id": "3b67e035",
   "metadata": {
    "scrolled": false
   },
   "outputs": [
    {
     "name": "stdout",
     "output_type": "stream",
     "text": [
      "\n",
      "Finished in 0.205078 sec\n"
     ]
    }
   ],
   "source": [
    "working_data, measures = hp.process(hrdata, fs, report_time=True, calc_freq=True)"
   ]
  },
  {
   "cell_type": "markdown",
   "id": "1f16f575",
   "metadata": {},
   "source": [
    "### データ数多すぎるので、論文とかで画像載っけるときは生データをスライスしてもイイかも"
   ]
  },
  {
   "cell_type": "markdown",
   "id": "21a28943",
   "metadata": {},
   "source": [
    "[参考文献](https://note.nkmk.me/python-numpy-ndarray-slice/)"
   ]
  },
  {
   "cell_type": "markdown",
   "id": "dfd7f05d",
   "metadata": {},
   "source": [
    "### plot"
   ]
  },
  {
   "cell_type": "code",
   "execution_count": 7,
   "id": "8fa3f7b5",
   "metadata": {},
   "outputs": [],
   "source": [
    "# hp.plotter(working_data, measures)"
   ]
  },
  {
   "cell_type": "code",
   "execution_count": 8,
   "id": "fab4864b",
   "metadata": {},
   "outputs": [
    {
     "data": {
      "text/plain": [
       "{'bpm': 71.61959189654542,\n",
       " 'ibi': 837.7595907928388,\n",
       " 'sdnn': 27.366107509869877,\n",
       " 'sdsd': 13.710948609362275,\n",
       " 'rmssd': 24.434947650172422,\n",
       " 'pnn20': 0.43333333333333335,\n",
       " 'pnn50': 0.01282051282051282,\n",
       " 'hr_mad': 18.0,\n",
       " 'sd1': 17.278103482748104,\n",
       " 'sd2': 34.60615717467661,\n",
       " 's': 1878.448614879234,\n",
       " 'sd1/sd2': 0.4992783045957938,\n",
       " 'breathingrate': 0.12211503236048357,\n",
       " 'vlf': 186.62412815868504,\n",
       " 'lf': 299.52183326734917,\n",
       " 'hf': 85.48393486582219,\n",
       " 'lf/hf': 3.503837694620474,\n",
       " 'p_total': 571.6298962918564,\n",
       " 'vlf_perc': 32.64772003166898,\n",
       " 'lf_perc': 52.397860085754274,\n",
       " 'hf_perc': 14.954419882576744,\n",
       " 'lf_nu': 77.79671320761776,\n",
       " 'hf_nu': 22.20328679238223}"
      ]
     },
     "execution_count": 8,
     "metadata": {},
     "output_type": "execute_result"
    }
   ],
   "source": [
    "measures"
   ]
  },
  {
   "cell_type": "code",
   "execution_count": 9,
   "id": "43788384",
   "metadata": {},
   "outputs": [],
   "source": [
    "# TSV形式でindexを出力しない場合\n",
    "# df.to_csv('output.tsv', sep='\\t', index=False)\n",
    " \n",
    "# TSV形式でindexを出力し、なおかつindexの列名をcol0と設定する場合\n",
    "# df = pd.DataFrame(measures,index=[f\"{phase}\"])"
   ]
  },
  {
   "cell_type": "code",
   "execution_count": 10,
   "id": "3884e92e",
   "metadata": {},
   "outputs": [],
   "source": [
    "# df.to_csv(f'{name}_rest.csv', sep=',', index=True, index_label='practice')"
   ]
  },
  {
   "cell_type": "code",
   "execution_count": 11,
   "id": "c6b88db5",
   "metadata": {},
   "outputs": [],
   "source": [
    "# if phase == \"rest\":\n",
    "#     # 最初だけヘッダーありで上書きエクスポート\n",
    "#     df.to_csv(f'csv/{folder_name}/{name}_HRV.csv', sep=',')\n",
    "# else:\n",
    "#     # mode=\"a\"で上書きではなく追記モード、ヘッダーなし\n",
    "#     df.to_csv(f'csv/{folder_name}/{name}_HRV.csv', sep=',', mode=\"a\", header=False)"
   ]
  },
  {
   "cell_type": "code",
   "execution_count": null,
   "id": "f9a00995",
   "metadata": {},
   "outputs": [],
   "source": []
  },
  {
   "cell_type": "code",
   "execution_count": null,
   "id": "3ed0d90b",
   "metadata": {},
   "outputs": [],
   "source": []
  },
  {
   "cell_type": "code",
   "execution_count": null,
   "id": "c54e1bf7",
   "metadata": {},
   "outputs": [],
   "source": []
  }
 ],
 "metadata": {
  "kernelspec": {
   "display_name": "Python 3 (ipykernel)",
   "language": "python",
   "name": "python3"
  },
  "language_info": {
   "codemirror_mode": {
    "name": "ipython",
    "version": 3
   },
   "file_extension": ".py",
   "mimetype": "text/x-python",
   "name": "python",
   "nbconvert_exporter": "python",
   "pygments_lexer": "ipython3",
   "version": "3.9.13"
  }
 },
 "nbformat": 4,
 "nbformat_minor": 5
}
