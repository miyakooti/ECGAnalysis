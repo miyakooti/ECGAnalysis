{
 "cells": [
  {
   "cell_type": "markdown",
   "id": "0d628fb8",
   "metadata": {},
   "source": [
    "# ②：心電図データからHRVパラメータを計算するプログラム"
   ]
  },
  {
   "cell_type": "code",
   "execution_count": 2,
   "id": "c77ca783",
   "metadata": {},
   "outputs": [],
   "source": [
    "import sys\n",
    "sys.path.append('..')\n",
    "from Constants import Constants\n",
    "\n",
    "import heartpy as hp\n",
    "import pandas as pd"
   ]
  },
  {
   "cell_type": "markdown",
   "id": "a1dc28cf",
   "metadata": {},
   "source": [
    "### 分析\n"
   ]
  },
  {
   "cell_type": "code",
   "execution_count": 3,
   "id": "3d4dcc8b",
   "metadata": {
    "scrolled": true
   },
   "outputs": [
    {
     "name": "stdout",
     "output_type": "stream",
     "text": [
      "kumakura さんの rest フェーズのデータを分析します。\n",
      "計測時間は312.716秒です\n",
      "\n",
      "Finished in 0.105545 sec\n"
     ]
    },
    {
     "name": "stderr",
     "output_type": "stream",
     "text": [
      "/Users/miyakooti/opt/anaconda3/lib/python3.9/site-packages/heartpy-1.2.7-py3.9.egg/heartpy/analysis.py:528: UserWarning: Short signal.\n",
      "\n",
      "---------Warning:---------\n",
      "too few peak-peak intervals for (reliable) frequency domain measure computation, frequency output measures are still computed but treat them with caution!\n",
      "\n",
      "HF is usually computed over a minimum of 1 minute of good signal. LF is usually computed over a minimum of 2 minutes of good signal.VLF is usually computed over a minimum of 5 minutes of good signal.The LF/HF ratio is usually computed over minimum 24 hours, although an absolute minimum of 5 min has also been suggested.\n",
      "\n",
      "For more info see: \n",
      "Shaffer, F., Ginsberg, J.P. (2017), An Overview of Heart Rate Variability Metrics and Norms.\n",
      "\n",
      "Task Force of Pacing and Electrophysiology (1996), Heart Rate Variability, in: European Heart Journal, vol.17, issue 3, pp354-381\n",
      "\n",
      "This warning will not repeat\n"
     ]
    },
    {
     "name": "stdout",
     "output_type": "stream",
     "text": [
      "kumakura さんの boredom フェーズのデータを分析します。\n",
      "計測時間は319.402秒です\n",
      "\n",
      "Finished in 0.122823 sec\n"
     ]
    },
    {
     "name": "stderr",
     "output_type": "stream",
     "text": [
      "/Users/miyakooti/opt/anaconda3/lib/python3.9/site-packages/heartpy-1.2.7-py3.9.egg/heartpy/analysis.py:528: UserWarning: Short signal.\n",
      "\n",
      "---------Warning:---------\n",
      "too few peak-peak intervals for (reliable) frequency domain measure computation, frequency output measures are still computed but treat them with caution!\n",
      "\n",
      "HF is usually computed over a minimum of 1 minute of good signal. LF is usually computed over a minimum of 2 minutes of good signal.VLF is usually computed over a minimum of 5 minutes of good signal.The LF/HF ratio is usually computed over minimum 24 hours, although an absolute minimum of 5 min has also been suggested.\n",
      "\n",
      "For more info see: \n",
      "Shaffer, F., Ginsberg, J.P. (2017), An Overview of Heart Rate Variability Metrics and Norms.\n",
      "\n",
      "Task Force of Pacing and Electrophysiology (1996), Heart Rate Variability, in: European Heart Journal, vol.17, issue 3, pp354-381\n",
      "\n",
      "This warning will not repeat\n"
     ]
    },
    {
     "name": "stdout",
     "output_type": "stream",
     "text": [
      "kumakura さんの flow フェーズのデータを分析します。\n",
      "計測時間は606.986秒です\n",
      "\n",
      "Finished in 0.376689 sec\n",
      "kumakura さんの ultra フェーズのデータを分析します。\n",
      "計測時間は196.186秒です\n",
      "\n",
      "Finished in 0.056185 sec\n"
     ]
    },
    {
     "name": "stderr",
     "output_type": "stream",
     "text": [
      "/Users/miyakooti/opt/anaconda3/lib/python3.9/site-packages/heartpy-1.2.7-py3.9.egg/heartpy/analysis.py:528: UserWarning: Short signal.\n",
      "\n",
      "---------Warning:---------\n",
      "too few peak-peak intervals for (reliable) frequency domain measure computation, frequency output measures are still computed but treat them with caution!\n",
      "\n",
      "HF is usually computed over a minimum of 1 minute of good signal. LF is usually computed over a minimum of 2 minutes of good signal.VLF is usually computed over a minimum of 5 minutes of good signal.The LF/HF ratio is usually computed over minimum 24 hours, although an absolute minimum of 5 min has also been suggested.\n",
      "\n",
      "For more info see: \n",
      "Shaffer, F., Ginsberg, J.P. (2017), An Overview of Heart Rate Variability Metrics and Norms.\n",
      "\n",
      "Task Force of Pacing and Electrophysiology (1996), Heart Rate Variability, in: European Heart Journal, vol.17, issue 3, pp354-381\n",
      "\n",
      "This warning will not repeat\n"
     ]
    },
    {
     "name": "stdout",
     "output_type": "stream",
     "text": [
      "kumakura さんの overload フェーズのデータを分析します。\n",
      "計測時間は324.99秒です\n",
      "\n",
      "Finished in 0.126811 sec\n"
     ]
    },
    {
     "name": "stderr",
     "output_type": "stream",
     "text": [
      "/Users/miyakooti/opt/anaconda3/lib/python3.9/site-packages/heartpy-1.2.7-py3.9.egg/heartpy/analysis.py:528: UserWarning: Short signal.\n",
      "\n",
      "---------Warning:---------\n",
      "too few peak-peak intervals for (reliable) frequency domain measure computation, frequency output measures are still computed but treat them with caution!\n",
      "\n",
      "HF is usually computed over a minimum of 1 minute of good signal. LF is usually computed over a minimum of 2 minutes of good signal.VLF is usually computed over a minimum of 5 minutes of good signal.The LF/HF ratio is usually computed over minimum 24 hours, although an absolute minimum of 5 min has also been suggested.\n",
      "\n",
      "For more info see: \n",
      "Shaffer, F., Ginsberg, J.P. (2017), An Overview of Heart Rate Variability Metrics and Norms.\n",
      "\n",
      "Task Force of Pacing and Electrophysiology (1996), Heart Rate Variability, in: European Heart Journal, vol.17, issue 3, pp354-381\n",
      "\n",
      "This warning will not repeat\n"
     ]
    },
    {
     "name": "stdout",
     "output_type": "stream",
     "text": [
      "kim さんの rest フェーズのデータを分析します。\n",
      "計測時間は314.558秒です\n",
      "\n",
      "Finished in 0.108976 sec\n"
     ]
    },
    {
     "name": "stderr",
     "output_type": "stream",
     "text": [
      "/Users/miyakooti/opt/anaconda3/lib/python3.9/site-packages/heartpy-1.2.7-py3.9.egg/heartpy/analysis.py:528: UserWarning: Short signal.\n",
      "\n",
      "---------Warning:---------\n",
      "too few peak-peak intervals for (reliable) frequency domain measure computation, frequency output measures are still computed but treat them with caution!\n",
      "\n",
      "HF is usually computed over a minimum of 1 minute of good signal. LF is usually computed over a minimum of 2 minutes of good signal.VLF is usually computed over a minimum of 5 minutes of good signal.The LF/HF ratio is usually computed over minimum 24 hours, although an absolute minimum of 5 min has also been suggested.\n",
      "\n",
      "For more info see: \n",
      "Shaffer, F., Ginsberg, J.P. (2017), An Overview of Heart Rate Variability Metrics and Norms.\n",
      "\n",
      "Task Force of Pacing and Electrophysiology (1996), Heart Rate Variability, in: European Heart Journal, vol.17, issue 3, pp354-381\n",
      "\n",
      "This warning will not repeat\n"
     ]
    },
    {
     "name": "stdout",
     "output_type": "stream",
     "text": [
      "kim さんの boredom フェーズのデータを分析します。\n",
      "計測時間は325.242秒です\n",
      "\n",
      "Finished in 0.115289 sec\n"
     ]
    },
    {
     "name": "stderr",
     "output_type": "stream",
     "text": [
      "/Users/miyakooti/opt/anaconda3/lib/python3.9/site-packages/heartpy-1.2.7-py3.9.egg/heartpy/analysis.py:528: UserWarning: Short signal.\n",
      "\n",
      "---------Warning:---------\n",
      "too few peak-peak intervals for (reliable) frequency domain measure computation, frequency output measures are still computed but treat them with caution!\n",
      "\n",
      "HF is usually computed over a minimum of 1 minute of good signal. LF is usually computed over a minimum of 2 minutes of good signal.VLF is usually computed over a minimum of 5 minutes of good signal.The LF/HF ratio is usually computed over minimum 24 hours, although an absolute minimum of 5 min has also been suggested.\n",
      "\n",
      "For more info see: \n",
      "Shaffer, F., Ginsberg, J.P. (2017), An Overview of Heart Rate Variability Metrics and Norms.\n",
      "\n",
      "Task Force of Pacing and Electrophysiology (1996), Heart Rate Variability, in: European Heart Journal, vol.17, issue 3, pp354-381\n",
      "\n",
      "This warning will not repeat\n"
     ]
    },
    {
     "name": "stdout",
     "output_type": "stream",
     "text": [
      "kim さんの flow フェーズのデータを分析します。\n",
      "計測時間は524.032秒です\n",
      "\n",
      "Finished in 0.326147 sec\n",
      "kim さんの ultra フェーズのデータを分析します。\n",
      "計測時間は201.86秒です\n",
      "\n",
      "Finished in 0.061053 sec\n"
     ]
    },
    {
     "name": "stderr",
     "output_type": "stream",
     "text": [
      "/Users/miyakooti/opt/anaconda3/lib/python3.9/site-packages/heartpy-1.2.7-py3.9.egg/heartpy/analysis.py:528: UserWarning: Short signal.\n",
      "\n",
      "---------Warning:---------\n",
      "too few peak-peak intervals for (reliable) frequency domain measure computation, frequency output measures are still computed but treat them with caution!\n",
      "\n",
      "HF is usually computed over a minimum of 1 minute of good signal. LF is usually computed over a minimum of 2 minutes of good signal.VLF is usually computed over a minimum of 5 minutes of good signal.The LF/HF ratio is usually computed over minimum 24 hours, although an absolute minimum of 5 min has also been suggested.\n",
      "\n",
      "For more info see: \n",
      "Shaffer, F., Ginsberg, J.P. (2017), An Overview of Heart Rate Variability Metrics and Norms.\n",
      "\n",
      "Task Force of Pacing and Electrophysiology (1996), Heart Rate Variability, in: European Heart Journal, vol.17, issue 3, pp354-381\n",
      "\n",
      "This warning will not repeat\n"
     ]
    },
    {
     "name": "stdout",
     "output_type": "stream",
     "text": [
      "kim さんの overload フェーズのデータを分析します。\n",
      "計測時間は333.118秒です\n",
      "\n",
      "Finished in 0.116545 sec\n"
     ]
    },
    {
     "name": "stderr",
     "output_type": "stream",
     "text": [
      "/Users/miyakooti/opt/anaconda3/lib/python3.9/site-packages/heartpy-1.2.7-py3.9.egg/heartpy/analysis.py:528: UserWarning: Short signal.\n",
      "\n",
      "---------Warning:---------\n",
      "too few peak-peak intervals for (reliable) frequency domain measure computation, frequency output measures are still computed but treat them with caution!\n",
      "\n",
      "HF is usually computed over a minimum of 1 minute of good signal. LF is usually computed over a minimum of 2 minutes of good signal.VLF is usually computed over a minimum of 5 minutes of good signal.The LF/HF ratio is usually computed over minimum 24 hours, although an absolute minimum of 5 min has also been suggested.\n",
      "\n",
      "For more info see: \n",
      "Shaffer, F., Ginsberg, J.P. (2017), An Overview of Heart Rate Variability Metrics and Norms.\n",
      "\n",
      "Task Force of Pacing and Electrophysiology (1996), Heart Rate Variability, in: European Heart Journal, vol.17, issue 3, pp354-381\n",
      "\n",
      "This warning will not repeat\n"
     ]
    },
    {
     "name": "stdout",
     "output_type": "stream",
     "text": [
      "souma さんの rest フェーズのデータを分析します。\n",
      "計測時間は316.288秒です\n",
      "\n",
      "Finished in 0.106911 sec\n"
     ]
    },
    {
     "name": "stderr",
     "output_type": "stream",
     "text": [
      "/Users/miyakooti/opt/anaconda3/lib/python3.9/site-packages/heartpy-1.2.7-py3.9.egg/heartpy/analysis.py:528: UserWarning: Short signal.\n",
      "\n",
      "---------Warning:---------\n",
      "too few peak-peak intervals for (reliable) frequency domain measure computation, frequency output measures are still computed but treat them with caution!\n",
      "\n",
      "HF is usually computed over a minimum of 1 minute of good signal. LF is usually computed over a minimum of 2 minutes of good signal.VLF is usually computed over a minimum of 5 minutes of good signal.The LF/HF ratio is usually computed over minimum 24 hours, although an absolute minimum of 5 min has also been suggested.\n",
      "\n",
      "For more info see: \n",
      "Shaffer, F., Ginsberg, J.P. (2017), An Overview of Heart Rate Variability Metrics and Norms.\n",
      "\n",
      "Task Force of Pacing and Electrophysiology (1996), Heart Rate Variability, in: European Heart Journal, vol.17, issue 3, pp354-381\n",
      "\n",
      "This warning will not repeat\n"
     ]
    },
    {
     "name": "stdout",
     "output_type": "stream",
     "text": [
      "souma さんの boredom フェーズのデータを分析します。\n",
      "計測時間は324.226秒です\n",
      "\n",
      "Finished in 0.109341 sec\n"
     ]
    },
    {
     "name": "stderr",
     "output_type": "stream",
     "text": [
      "/Users/miyakooti/opt/anaconda3/lib/python3.9/site-packages/heartpy-1.2.7-py3.9.egg/heartpy/analysis.py:528: UserWarning: Short signal.\n",
      "\n",
      "---------Warning:---------\n",
      "too few peak-peak intervals for (reliable) frequency domain measure computation, frequency output measures are still computed but treat them with caution!\n",
      "\n",
      "HF is usually computed over a minimum of 1 minute of good signal. LF is usually computed over a minimum of 2 minutes of good signal.VLF is usually computed over a minimum of 5 minutes of good signal.The LF/HF ratio is usually computed over minimum 24 hours, although an absolute minimum of 5 min has also been suggested.\n",
      "\n",
      "For more info see: \n",
      "Shaffer, F., Ginsberg, J.P. (2017), An Overview of Heart Rate Variability Metrics and Norms.\n",
      "\n",
      "Task Force of Pacing and Electrophysiology (1996), Heart Rate Variability, in: European Heart Journal, vol.17, issue 3, pp354-381\n",
      "\n",
      "This warning will not repeat\n"
     ]
    },
    {
     "name": "stdout",
     "output_type": "stream",
     "text": [
      "souma さんの flow フェーズのデータを分析します。\n",
      "計測時間は760.812秒です\n",
      "\n",
      "Finished in 0.519139 sec\n",
      "souma さんの ultra フェーズのデータを分析します。\n",
      "計測時間は200.168秒です\n",
      "\n",
      "Finished in 0.057480 sec\n"
     ]
    },
    {
     "name": "stderr",
     "output_type": "stream",
     "text": [
      "/Users/miyakooti/opt/anaconda3/lib/python3.9/site-packages/heartpy-1.2.7-py3.9.egg/heartpy/analysis.py:528: UserWarning: Short signal.\n",
      "\n",
      "---------Warning:---------\n",
      "too few peak-peak intervals for (reliable) frequency domain measure computation, frequency output measures are still computed but treat them with caution!\n",
      "\n",
      "HF is usually computed over a minimum of 1 minute of good signal. LF is usually computed over a minimum of 2 minutes of good signal.VLF is usually computed over a minimum of 5 minutes of good signal.The LF/HF ratio is usually computed over minimum 24 hours, although an absolute minimum of 5 min has also been suggested.\n",
      "\n",
      "For more info see: \n",
      "Shaffer, F., Ginsberg, J.P. (2017), An Overview of Heart Rate Variability Metrics and Norms.\n",
      "\n",
      "Task Force of Pacing and Electrophysiology (1996), Heart Rate Variability, in: European Heart Journal, vol.17, issue 3, pp354-381\n",
      "\n",
      "This warning will not repeat\n"
     ]
    },
    {
     "name": "stdout",
     "output_type": "stream",
     "text": [
      "souma さんの overload フェーズのデータを分析します。\n",
      "計測時間は324.518秒です\n",
      "\n",
      "Finished in 0.121482 sec\n"
     ]
    },
    {
     "name": "stderr",
     "output_type": "stream",
     "text": [
      "/Users/miyakooti/opt/anaconda3/lib/python3.9/site-packages/heartpy-1.2.7-py3.9.egg/heartpy/analysis.py:528: UserWarning: Short signal.\n",
      "\n",
      "---------Warning:---------\n",
      "too few peak-peak intervals for (reliable) frequency domain measure computation, frequency output measures are still computed but treat them with caution!\n",
      "\n",
      "HF is usually computed over a minimum of 1 minute of good signal. LF is usually computed over a minimum of 2 minutes of good signal.VLF is usually computed over a minimum of 5 minutes of good signal.The LF/HF ratio is usually computed over minimum 24 hours, although an absolute minimum of 5 min has also been suggested.\n",
      "\n",
      "For more info see: \n",
      "Shaffer, F., Ginsberg, J.P. (2017), An Overview of Heart Rate Variability Metrics and Norms.\n",
      "\n",
      "Task Force of Pacing and Electrophysiology (1996), Heart Rate Variability, in: European Heart Journal, vol.17, issue 3, pp354-381\n",
      "\n",
      "This warning will not repeat\n"
     ]
    },
    {
     "name": "stdout",
     "output_type": "stream",
     "text": [
      "fujii さんの rest フェーズのデータを分析します。\n",
      "計測時間は318.856秒です\n",
      "\n",
      "Finished in 0.121386 sec\n"
     ]
    },
    {
     "name": "stderr",
     "output_type": "stream",
     "text": [
      "/Users/miyakooti/opt/anaconda3/lib/python3.9/site-packages/heartpy-1.2.7-py3.9.egg/heartpy/analysis.py:528: UserWarning: Short signal.\n",
      "\n",
      "---------Warning:---------\n",
      "too few peak-peak intervals for (reliable) frequency domain measure computation, frequency output measures are still computed but treat them with caution!\n",
      "\n",
      "HF is usually computed over a minimum of 1 minute of good signal. LF is usually computed over a minimum of 2 minutes of good signal.VLF is usually computed over a minimum of 5 minutes of good signal.The LF/HF ratio is usually computed over minimum 24 hours, although an absolute minimum of 5 min has also been suggested.\n",
      "\n",
      "For more info see: \n",
      "Shaffer, F., Ginsberg, J.P. (2017), An Overview of Heart Rate Variability Metrics and Norms.\n",
      "\n",
      "Task Force of Pacing and Electrophysiology (1996), Heart Rate Variability, in: European Heart Journal, vol.17, issue 3, pp354-381\n",
      "\n",
      "This warning will not repeat\n"
     ]
    },
    {
     "name": "stdout",
     "output_type": "stream",
     "text": [
      "fujii さんの boredom フェーズのデータを分析します。\n",
      "計測時間は321.372秒です\n",
      "\n",
      "Finished in 0.165858 sec\n"
     ]
    },
    {
     "name": "stderr",
     "output_type": "stream",
     "text": [
      "/Users/miyakooti/opt/anaconda3/lib/python3.9/site-packages/heartpy-1.2.7-py3.9.egg/heartpy/analysis.py:528: UserWarning: Short signal.\n",
      "\n",
      "---------Warning:---------\n",
      "too few peak-peak intervals for (reliable) frequency domain measure computation, frequency output measures are still computed but treat them with caution!\n",
      "\n",
      "HF is usually computed over a minimum of 1 minute of good signal. LF is usually computed over a minimum of 2 minutes of good signal.VLF is usually computed over a minimum of 5 minutes of good signal.The LF/HF ratio is usually computed over minimum 24 hours, although an absolute minimum of 5 min has also been suggested.\n",
      "\n",
      "For more info see: \n",
      "Shaffer, F., Ginsberg, J.P. (2017), An Overview of Heart Rate Variability Metrics and Norms.\n",
      "\n",
      "Task Force of Pacing and Electrophysiology (1996), Heart Rate Variability, in: European Heart Journal, vol.17, issue 3, pp354-381\n",
      "\n",
      "This warning will not repeat\n"
     ]
    },
    {
     "name": "stdout",
     "output_type": "stream",
     "text": [
      "fujii さんの flow フェーズのデータを分析します。\n",
      "計測時間は789.918秒です\n",
      "\n",
      "Finished in 0.546474 sec\n",
      "fujii さんの ultra フェーズのデータを分析します。\n",
      "計測時間は199.7秒です\n",
      "\n",
      "Finished in 0.057801 sec\n"
     ]
    },
    {
     "name": "stderr",
     "output_type": "stream",
     "text": [
      "/Users/miyakooti/opt/anaconda3/lib/python3.9/site-packages/heartpy-1.2.7-py3.9.egg/heartpy/analysis.py:528: UserWarning: Short signal.\n",
      "\n",
      "---------Warning:---------\n",
      "too few peak-peak intervals for (reliable) frequency domain measure computation, frequency output measures are still computed but treat them with caution!\n",
      "\n",
      "HF is usually computed over a minimum of 1 minute of good signal. LF is usually computed over a minimum of 2 minutes of good signal.VLF is usually computed over a minimum of 5 minutes of good signal.The LF/HF ratio is usually computed over minimum 24 hours, although an absolute minimum of 5 min has also been suggested.\n",
      "\n",
      "For more info see: \n",
      "Shaffer, F., Ginsberg, J.P. (2017), An Overview of Heart Rate Variability Metrics and Norms.\n",
      "\n",
      "Task Force of Pacing and Electrophysiology (1996), Heart Rate Variability, in: European Heart Journal, vol.17, issue 3, pp354-381\n",
      "\n",
      "This warning will not repeat\n"
     ]
    },
    {
     "name": "stdout",
     "output_type": "stream",
     "text": [
      "fujii さんの overload フェーズのデータを分析します。\n",
      "計測時間は322.972秒です\n",
      "\n",
      "Finished in 0.113772 sec\n"
     ]
    },
    {
     "name": "stderr",
     "output_type": "stream",
     "text": [
      "/Users/miyakooti/opt/anaconda3/lib/python3.9/site-packages/heartpy-1.2.7-py3.9.egg/heartpy/analysis.py:528: UserWarning: Short signal.\n",
      "\n",
      "---------Warning:---------\n",
      "too few peak-peak intervals for (reliable) frequency domain measure computation, frequency output measures are still computed but treat them with caution!\n",
      "\n",
      "HF is usually computed over a minimum of 1 minute of good signal. LF is usually computed over a minimum of 2 minutes of good signal.VLF is usually computed over a minimum of 5 minutes of good signal.The LF/HF ratio is usually computed over minimum 24 hours, although an absolute minimum of 5 min has also been suggested.\n",
      "\n",
      "For more info see: \n",
      "Shaffer, F., Ginsberg, J.P. (2017), An Overview of Heart Rate Variability Metrics and Norms.\n",
      "\n",
      "Task Force of Pacing and Electrophysiology (1996), Heart Rate Variability, in: European Heart Journal, vol.17, issue 3, pp354-381\n",
      "\n",
      "This warning will not repeat\n"
     ]
    },
    {
     "name": "stdout",
     "output_type": "stream",
     "text": [
      "tubota さんの rest フェーズのデータを分析します。\n",
      "計測時間は315.374秒です\n",
      "\n",
      "Finished in 0.123847 sec\n"
     ]
    },
    {
     "name": "stderr",
     "output_type": "stream",
     "text": [
      "/Users/miyakooti/opt/anaconda3/lib/python3.9/site-packages/heartpy-1.2.7-py3.9.egg/heartpy/analysis.py:528: UserWarning: Short signal.\n",
      "\n",
      "---------Warning:---------\n",
      "too few peak-peak intervals for (reliable) frequency domain measure computation, frequency output measures are still computed but treat them with caution!\n",
      "\n",
      "HF is usually computed over a minimum of 1 minute of good signal. LF is usually computed over a minimum of 2 minutes of good signal.VLF is usually computed over a minimum of 5 minutes of good signal.The LF/HF ratio is usually computed over minimum 24 hours, although an absolute minimum of 5 min has also been suggested.\n",
      "\n",
      "For more info see: \n",
      "Shaffer, F., Ginsberg, J.P. (2017), An Overview of Heart Rate Variability Metrics and Norms.\n",
      "\n",
      "Task Force of Pacing and Electrophysiology (1996), Heart Rate Variability, in: European Heart Journal, vol.17, issue 3, pp354-381\n",
      "\n",
      "This warning will not repeat\n"
     ]
    },
    {
     "name": "stdout",
     "output_type": "stream",
     "text": [
      "tubota さんの boredom フェーズのデータを分析します。\n",
      "計測時間は320.646秒です\n",
      "\n",
      "Finished in 0.137211 sec\n"
     ]
    },
    {
     "name": "stderr",
     "output_type": "stream",
     "text": [
      "/Users/miyakooti/opt/anaconda3/lib/python3.9/site-packages/heartpy-1.2.7-py3.9.egg/heartpy/analysis.py:528: UserWarning: Short signal.\n",
      "\n",
      "---------Warning:---------\n",
      "too few peak-peak intervals for (reliable) frequency domain measure computation, frequency output measures are still computed but treat them with caution!\n",
      "\n",
      "HF is usually computed over a minimum of 1 minute of good signal. LF is usually computed over a minimum of 2 minutes of good signal.VLF is usually computed over a minimum of 5 minutes of good signal.The LF/HF ratio is usually computed over minimum 24 hours, although an absolute minimum of 5 min has also been suggested.\n",
      "\n",
      "For more info see: \n",
      "Shaffer, F., Ginsberg, J.P. (2017), An Overview of Heart Rate Variability Metrics and Norms.\n",
      "\n",
      "Task Force of Pacing and Electrophysiology (1996), Heart Rate Variability, in: European Heart Journal, vol.17, issue 3, pp354-381\n",
      "\n",
      "This warning will not repeat\n"
     ]
    },
    {
     "name": "stdout",
     "output_type": "stream",
     "text": [
      "tubota さんの flow フェーズのデータを分析します。\n",
      "計測時間は752.158秒です\n",
      "\n",
      "Finished in 0.644407 sec\n",
      "tubota さんの ultra フェーズのデータを分析します。\n",
      "計測時間は201.244秒です\n",
      "\n",
      "Finished in 0.059975 sec\n"
     ]
    },
    {
     "name": "stderr",
     "output_type": "stream",
     "text": [
      "/Users/miyakooti/opt/anaconda3/lib/python3.9/site-packages/heartpy-1.2.7-py3.9.egg/heartpy/analysis.py:528: UserWarning: Short signal.\n",
      "\n",
      "---------Warning:---------\n",
      "too few peak-peak intervals for (reliable) frequency domain measure computation, frequency output measures are still computed but treat them with caution!\n",
      "\n",
      "HF is usually computed over a minimum of 1 minute of good signal. LF is usually computed over a minimum of 2 minutes of good signal.VLF is usually computed over a minimum of 5 minutes of good signal.The LF/HF ratio is usually computed over minimum 24 hours, although an absolute minimum of 5 min has also been suggested.\n",
      "\n",
      "For more info see: \n",
      "Shaffer, F., Ginsberg, J.P. (2017), An Overview of Heart Rate Variability Metrics and Norms.\n",
      "\n",
      "Task Force of Pacing and Electrophysiology (1996), Heart Rate Variability, in: European Heart Journal, vol.17, issue 3, pp354-381\n",
      "\n",
      "This warning will not repeat\n"
     ]
    },
    {
     "name": "stdout",
     "output_type": "stream",
     "text": [
      "tubota さんの overload フェーズのデータを分析します。\n",
      "計測時間は320.388秒です\n",
      "\n",
      "Finished in 0.144866 sec\n"
     ]
    },
    {
     "name": "stderr",
     "output_type": "stream",
     "text": [
      "/Users/miyakooti/opt/anaconda3/lib/python3.9/site-packages/heartpy-1.2.7-py3.9.egg/heartpy/analysis.py:528: UserWarning: Short signal.\n",
      "\n",
      "---------Warning:---------\n",
      "too few peak-peak intervals for (reliable) frequency domain measure computation, frequency output measures are still computed but treat them with caution!\n",
      "\n",
      "HF is usually computed over a minimum of 1 minute of good signal. LF is usually computed over a minimum of 2 minutes of good signal.VLF is usually computed over a minimum of 5 minutes of good signal.The LF/HF ratio is usually computed over minimum 24 hours, although an absolute minimum of 5 min has also been suggested.\n",
      "\n",
      "For more info see: \n",
      "Shaffer, F., Ginsberg, J.P. (2017), An Overview of Heart Rate Variability Metrics and Norms.\n",
      "\n",
      "Task Force of Pacing and Electrophysiology (1996), Heart Rate Variability, in: European Heart Journal, vol.17, issue 3, pp354-381\n",
      "\n",
      "This warning will not repeat\n"
     ]
    },
    {
     "name": "stdout",
     "output_type": "stream",
     "text": [
      "toki さんの rest フェーズのデータを分析します。\n",
      "計測時間は318.822秒です\n",
      "\n",
      "Finished in 0.119416 sec\n"
     ]
    },
    {
     "name": "stderr",
     "output_type": "stream",
     "text": [
      "/Users/miyakooti/opt/anaconda3/lib/python3.9/site-packages/heartpy-1.2.7-py3.9.egg/heartpy/analysis.py:528: UserWarning: Short signal.\n",
      "\n",
      "---------Warning:---------\n",
      "too few peak-peak intervals for (reliable) frequency domain measure computation, frequency output measures are still computed but treat them with caution!\n",
      "\n",
      "HF is usually computed over a minimum of 1 minute of good signal. LF is usually computed over a minimum of 2 minutes of good signal.VLF is usually computed over a minimum of 5 minutes of good signal.The LF/HF ratio is usually computed over minimum 24 hours, although an absolute minimum of 5 min has also been suggested.\n",
      "\n",
      "For more info see: \n",
      "Shaffer, F., Ginsberg, J.P. (2017), An Overview of Heart Rate Variability Metrics and Norms.\n",
      "\n",
      "Task Force of Pacing and Electrophysiology (1996), Heart Rate Variability, in: European Heart Journal, vol.17, issue 3, pp354-381\n",
      "\n",
      "This warning will not repeat\n"
     ]
    },
    {
     "name": "stdout",
     "output_type": "stream",
     "text": [
      "toki さんの boredom フェーズのデータを分析します。\n",
      "計測時間は328.476秒です\n",
      "\n",
      "Finished in 0.115031 sec\n"
     ]
    },
    {
     "name": "stderr",
     "output_type": "stream",
     "text": [
      "/Users/miyakooti/opt/anaconda3/lib/python3.9/site-packages/heartpy-1.2.7-py3.9.egg/heartpy/analysis.py:528: UserWarning: Short signal.\n",
      "\n",
      "---------Warning:---------\n",
      "too few peak-peak intervals for (reliable) frequency domain measure computation, frequency output measures are still computed but treat them with caution!\n",
      "\n",
      "HF is usually computed over a minimum of 1 minute of good signal. LF is usually computed over a minimum of 2 minutes of good signal.VLF is usually computed over a minimum of 5 minutes of good signal.The LF/HF ratio is usually computed over minimum 24 hours, although an absolute minimum of 5 min has also been suggested.\n",
      "\n",
      "For more info see: \n",
      "Shaffer, F., Ginsberg, J.P. (2017), An Overview of Heart Rate Variability Metrics and Norms.\n",
      "\n",
      "Task Force of Pacing and Electrophysiology (1996), Heart Rate Variability, in: European Heart Journal, vol.17, issue 3, pp354-381\n",
      "\n",
      "This warning will not repeat\n"
     ]
    },
    {
     "name": "stdout",
     "output_type": "stream",
     "text": [
      "toki さんの flow フェーズのデータを分析します。\n",
      "計測時間は706.152秒です\n",
      "\n",
      "Finished in 0.413805 sec\n",
      "toki さんの ultra フェーズのデータを分析します。\n",
      "計測時間は203.742秒です\n",
      "\n",
      "Finished in 0.058004 sec\n"
     ]
    },
    {
     "name": "stderr",
     "output_type": "stream",
     "text": [
      "/Users/miyakooti/opt/anaconda3/lib/python3.9/site-packages/heartpy-1.2.7-py3.9.egg/heartpy/analysis.py:528: UserWarning: Short signal.\n",
      "\n",
      "---------Warning:---------\n",
      "too few peak-peak intervals for (reliable) frequency domain measure computation, frequency output measures are still computed but treat them with caution!\n",
      "\n",
      "HF is usually computed over a minimum of 1 minute of good signal. LF is usually computed over a minimum of 2 minutes of good signal.VLF is usually computed over a minimum of 5 minutes of good signal.The LF/HF ratio is usually computed over minimum 24 hours, although an absolute minimum of 5 min has also been suggested.\n",
      "\n",
      "For more info see: \n",
      "Shaffer, F., Ginsberg, J.P. (2017), An Overview of Heart Rate Variability Metrics and Norms.\n",
      "\n",
      "Task Force of Pacing and Electrophysiology (1996), Heart Rate Variability, in: European Heart Journal, vol.17, issue 3, pp354-381\n",
      "\n",
      "This warning will not repeat\n"
     ]
    },
    {
     "name": "stdout",
     "output_type": "stream",
     "text": [
      "toki さんの overload フェーズのデータを分析します。\n",
      "計測時間は328.838秒です\n",
      "\n",
      "Finished in 0.125494 sec\n"
     ]
    },
    {
     "name": "stderr",
     "output_type": "stream",
     "text": [
      "/Users/miyakooti/opt/anaconda3/lib/python3.9/site-packages/heartpy-1.2.7-py3.9.egg/heartpy/analysis.py:528: UserWarning: Short signal.\n",
      "\n",
      "---------Warning:---------\n",
      "too few peak-peak intervals for (reliable) frequency domain measure computation, frequency output measures are still computed but treat them with caution!\n",
      "\n",
      "HF is usually computed over a minimum of 1 minute of good signal. LF is usually computed over a minimum of 2 minutes of good signal.VLF is usually computed over a minimum of 5 minutes of good signal.The LF/HF ratio is usually computed over minimum 24 hours, although an absolute minimum of 5 min has also been suggested.\n",
      "\n",
      "For more info see: \n",
      "Shaffer, F., Ginsberg, J.P. (2017), An Overview of Heart Rate Variability Metrics and Norms.\n",
      "\n",
      "Task Force of Pacing and Electrophysiology (1996), Heart Rate Variability, in: European Heart Journal, vol.17, issue 3, pp354-381\n",
      "\n",
      "This warning will not repeat\n"
     ]
    }
   ],
   "source": [
    "for i, subject_name in enumerate(Constants.subject_name_list):\n",
    "    \n",
    "    for phase_name in Constants.phase_name_list:\n",
    "        \n",
    "        hrdata = hp.get_data(f\"/Users/miyakooti/repositories/arai_MATLAB_program/csv/{i}_{subject_name}/ECG/ECG_{subject_name}_{phase_name}.csv\", delim = \",\", column_name = \"ECG\")\n",
    "        save_path = f'/Users/miyakooti/repositories/arai_MATLAB_program/csv/{i}_{subject_name}/ECG/{subject_name}_HRV.csv'\n",
    "        \n",
    "        # 心電図が逆向きになってしまっていたので、特例措置\n",
    "        if subject_name == \"kim\":\n",
    "            hrdata = hrdata*(-1)\n",
    "        \n",
    "        # debug-print -----------------------------------------------------------------\n",
    "        \n",
    "        print(f\"{subject_name} さんの {phase_name} フェーズのデータを分析します。\")\n",
    "        sec = len(hrdata)/500\n",
    "        print(f\"計測時間は{sec}秒です\")\n",
    "        \n",
    "        # / ---------------------------------------------------------------------------\n",
    "        \n",
    "        # 心拍変動パラメータの計算\n",
    "        working_data, measures = hp.process(hrdata[int(60*Constants.fs):], Constants.fs, report_time=True, calc_freq=True)\n",
    "        \n",
    "        if phase_name == \"rest\":\n",
    "            \n",
    "            # 差分を計算するための基準値を保存\n",
    "            lf_rest = measures[\"lf\"]\n",
    "            hf_rest = measures[\"hf\"]\n",
    "            lfhf_rest = measures[\"lf/hf\"]\n",
    "            \n",
    "            # 差分の部分は0を入力して辞書に追加\n",
    "            measures[\"lf_diff\"] = 0\n",
    "            measures[\"hf_diff\"] = 0\n",
    "            measures[\"lfhf_diff\"] = 0\n",
    "            \n",
    "            # restだけヘッダーありで上書きエクスポート\n",
    "            df = pd.DataFrame(measures,index=[f\"{phase_name}\"])\n",
    "            df.to_csv(save_path, sep=',')\n",
    "        else:\n",
    "            \n",
    "            #　差分を計算して辞書に追加\n",
    "            measures[\"lf_diff\"] = lf_rest - measures[\"lf\"]\n",
    "            measures[\"hf_diff\"] = hf_rest - measures[\"hf\"]\n",
    "            measures[\"lfhf_diff\"] = lfhf_rest - measures[\"lf/hf\"]\n",
    "            \n",
    "            # mode=\"a\"で上書きではなく追記モード、ヘッダーなし\n",
    "            df = pd.DataFrame(measures,index=[f\"{phase_name}\"])\n",
    "            df.to_csv(save_path, sep=',', mode=\"a\", header=False)\n"
   ]
  },
  {
   "cell_type": "code",
   "execution_count": null,
   "id": "0c3aec16",
   "metadata": {},
   "outputs": [],
   "source": []
  }
 ],
 "metadata": {
  "kernelspec": {
   "display_name": "Python 3 (ipykernel)",
   "language": "python",
   "name": "python3"
  },
  "language_info": {
   "codemirror_mode": {
    "name": "ipython",
    "version": 3
   },
   "file_extension": ".py",
   "mimetype": "text/x-python",
   "name": "python",
   "nbconvert_exporter": "python",
   "pygments_lexer": "ipython3",
   "version": "3.9.13"
  }
 },
 "nbformat": 4,
 "nbformat_minor": 5
}
