{
 "cells": [
  {
   "cell_type": "markdown",
   "id": "035233c4",
   "metadata": {},
   "source": [
    "# 心電図からrr間隔を出力するプログラム"
   ]
  },
  {
   "cell_type": "code",
   "execution_count": 3,
   "id": "cfea6f89",
   "metadata": {},
   "outputs": [],
   "source": [
    "import sys\n",
    "sys.path.append('..')\n",
    "from Constants import Constants"
   ]
  },
  {
   "cell_type": "code",
   "execution_count": 4,
   "id": "3d4dcc8b",
   "metadata": {},
   "outputs": [],
   "source": [
    "import numpy as np\n",
    "import pandas as pd\n",
    "import heartpy as hp\n",
    "from matplotlib import pyplot as plt"
   ]
  },
  {
   "cell_type": "code",
   "execution_count": 5,
   "id": "26b2d300",
   "metadata": {},
   "outputs": [
    {
     "name": "stdout",
     "output_type": "stream",
     "text": [
      "kumakuraさんのrestフェーズ：\n",
      "\n",
      "Finished in 0.105050 sec\n",
      "kumakuraさんのboredomフェーズ：\n",
      "\n",
      "Finished in 0.111152 sec\n",
      "kumakuraさんのflowフェーズ：\n",
      "\n",
      "Finished in 0.270641 sec\n",
      "kumakuraさんのultraフェーズ：\n"
     ]
    },
    {
     "name": "stderr",
     "output_type": "stream",
     "text": [
      "/Users/miyakooti/opt/anaconda3/lib/python3.9/site-packages/heartpy-1.2.7-py3.9.egg/heartpy/analysis.py:528: UserWarning: Short signal.\n",
      "\n",
      "---------Warning:---------\n",
      "too few peak-peak intervals for (reliable) frequency domain measure computation, frequency output measures are still computed but treat them with caution!\n",
      "\n",
      "HF is usually computed over a minimum of 1 minute of good signal. LF is usually computed over a minimum of 2 minutes of good signal.VLF is usually computed over a minimum of 5 minutes of good signal.The LF/HF ratio is usually computed over minimum 24 hours, although an absolute minimum of 5 min has also been suggested.\n",
      "\n",
      "For more info see: \n",
      "Shaffer, F., Ginsberg, J.P. (2017), An Overview of Heart Rate Variability Metrics and Norms.\n",
      "\n",
      "Task Force of Pacing and Electrophysiology (1996), Heart Rate Variability, in: European Heart Journal, vol.17, issue 3, pp354-381\n",
      "\n",
      "This warning will not repeat\n"
     ]
    },
    {
     "name": "stdout",
     "output_type": "stream",
     "text": [
      "\n",
      "Finished in 0.057194 sec\n",
      "kumakuraさんのoverloadフェーズ：\n",
      "\n",
      "Finished in 0.118987 sec\n",
      "kimさんのrestフェーズ：\n",
      "\n",
      "Finished in 0.065427 sec\n",
      "kimさんのboredomフェーズ：\n",
      "\n",
      "Finished in 0.049147 sec\n",
      "kimさんのflowフェーズ：\n",
      "\n",
      "Finished in 0.082855 sec\n",
      "kimさんのultraフェーズ：\n"
     ]
    },
    {
     "name": "stderr",
     "output_type": "stream",
     "text": [
      "/Users/miyakooti/opt/anaconda3/lib/python3.9/site-packages/scipy/interpolate/_fitpack2.py:280: UserWarning: \n",
      "The maximal number of iterations maxit (set to 20 by the program)\n",
      "allowed for finding a smoothing spline with fp=s has been reached: s\n",
      "too small.\n",
      "There is an approximation returned but the corresponding weighted sum\n",
      "of squared residuals does not satisfy the condition abs(fp-s)/s < tol.\n",
      "  warnings.warn(message)\n"
     ]
    },
    {
     "name": "stdout",
     "output_type": "stream",
     "text": [
      "\n",
      "Finished in 0.025308 sec\n",
      "kimさんのoverloadフェーズ：\n",
      "\n",
      "Finished in 0.032868 sec\n",
      "soumaさんのrestフェーズ：\n",
      "\n",
      "Finished in 0.091760 sec\n",
      "soumaさんのboredomフェーズ：\n",
      "\n",
      "Finished in 0.085315 sec\n",
      "soumaさんのflowフェーズ：\n",
      "\n",
      "Finished in 0.338264 sec\n",
      "soumaさんのultraフェーズ：\n",
      "\n",
      "Finished in 0.050732 sec\n",
      "soumaさんのoverloadフェーズ：\n",
      "\n",
      "Finished in 0.112356 sec\n",
      "fujiiさんのrestフェーズ：\n",
      "\n",
      "Finished in 0.097073 sec\n",
      "fujiiさんのboredomフェーズ：\n",
      "\n",
      "Finished in 0.112226 sec\n",
      "fujiiさんのflowフェーズ：\n",
      "\n",
      "Finished in 0.362282 sec\n",
      "fujiiさんのultraフェーズ：\n",
      "\n",
      "Finished in 0.051515 sec\n",
      "fujiiさんのoverloadフェーズ：\n",
      "\n",
      "Finished in 0.106382 sec\n",
      "tubotaさんのrestフェーズ：\n",
      "\n",
      "Finished in 0.118257 sec\n",
      "tubotaさんのboredomフェーズ：\n",
      "\n",
      "Finished in 0.109709 sec\n",
      "tubotaさんのflowフェーズ：\n",
      "\n",
      "Finished in 0.400845 sec\n",
      "tubotaさんのultraフェーズ：\n",
      "\n",
      "Finished in 0.060439 sec\n",
      "tubotaさんのoverloadフェーズ：\n",
      "\n",
      "Finished in 0.107276 sec\n",
      "tokiさんのrestフェーズ：\n",
      "\n",
      "Finished in 0.107565 sec\n",
      "tokiさんのboredomフェーズ：\n",
      "\n",
      "Finished in 0.102407 sec\n",
      "tokiさんのflowフェーズ：\n",
      "\n",
      "Finished in 0.359151 sec\n",
      "tokiさんのultraフェーズ：\n",
      "\n",
      "Finished in 0.052524 sec\n",
      "tokiさんのoverloadフェーズ：\n",
      "\n",
      "Finished in 0.121991 sec\n"
     ]
    }
   ],
   "source": [
    "for i, subject in enumerate(Constants.subject_name_list):\n",
    "    \n",
    "    for j, phase in enumerate(Constants.phase_name_list):\n",
    "        \n",
    "        print(f\"{subject}さんの{phase}フェーズ：\")\n",
    "        \n",
    "        path = f\"{Constants.path_to_matlab_repository_folder}/csv/{i}_{subject}/ECG/ECG_{subject}_{phase}.csv\"\n",
    "        hrdata = hp.get_data(path, delim=\",\", column_name=\"ECG\")        \n",
    "\n",
    "        working_data, measures = hp.process(hrdata, Constants.fs, report_time=True, calc_freq=True)\n",
    "            \n",
    "        # 卒論の図用スライス\n",
    "        # hrdata = hrdata[int(15*Constants.fs):int(30*Constants.fs)\n",
    "    \n",
    "        # R波を検知している様子\n",
    "        #hp.plotter(working_data, measures, figsize=(20,5))\n",
    "        \n",
    "        rr_interval = pd.DataFrame(working_data[\"RR_list\"])\n",
    "        rr_interval.to_csv(f\"{Constants.path_to_matlab_repository_folder}/csv/{i}_{subject}/ECG/rr_interval/rr_interval_{subject}_{j}_{phase}.csv\")"
   ]
  },
  {
   "cell_type": "code",
   "execution_count": null,
   "id": "8d73d561",
   "metadata": {},
   "outputs": [],
   "source": []
  }
 ],
 "metadata": {
  "kernelspec": {
   "display_name": "Python 3 (ipykernel)",
   "language": "python",
   "name": "python3"
  },
  "language_info": {
   "codemirror_mode": {
    "name": "ipython",
    "version": 3
   },
   "file_extension": ".py",
   "mimetype": "text/x-python",
   "name": "python",
   "nbconvert_exporter": "python",
   "pygments_lexer": "ipython3",
   "version": "3.9.13"
  }
 },
 "nbformat": 4,
 "nbformat_minor": 5
}
