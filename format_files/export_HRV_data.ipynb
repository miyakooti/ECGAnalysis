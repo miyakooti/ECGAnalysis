{
 "cells": [
  {
   "cell_type": "markdown",
   "id": "0d628fb8",
   "metadata": {},
   "source": [
    "- rest\n",
    "- practice\n",
    "- boredom\n",
    "- flow\n",
    "- ultra\n",
    "- overload"
   ]
  },
  {
   "cell_type": "markdown",
   "id": "2e2abd1b",
   "metadata": {},
   "source": [
    "### 手動で設定"
   ]
  },
  {
   "cell_type": "code",
   "execution_count": 1,
   "id": "f612184d",
   "metadata": {},
   "outputs": [],
   "source": [
    "name = \"toki\"\n",
    "order = \"5\"\n",
    "phase = \"overload\"\n",
    "\n",
    "\n",
    "subject_name_list = [\"kumakura\",\"kim\",\"souma\",\"fujii\",\"tubota\",\"toki\"]\n",
    "phase_name_list = [\"rest\", \"practice\", \"boredom\", \"flow\", \"ultra\", \"overload\"]\n",
    "target_columns = [\"bpm\", \"ibi\", \"lf\", \"hf\",\"lf/hf\",\"FC3\",\"FC4\",\"FCz\",\"mean_3ch\",\"concentration_FC3\",\"concentration_FC4\",\"concentration_FCz\",\"concentration_mean\"]\n",
    "target_phases = [\"boredom\", \"flow\",\"ultra\",\"overload\"]"
   ]
  },
  {
   "cell_type": "markdown",
   "id": "a1dc28cf",
   "metadata": {},
   "source": [
    "### 分析\n"
   ]
  },
  {
   "cell_type": "code",
   "execution_count": 2,
   "id": "2b0c5a63",
   "metadata": {},
   "outputs": [],
   "source": [
    "import heartpy as hp\n",
    "import pandas as pd"
   ]
  },
  {
   "cell_type": "code",
   "execution_count": 3,
   "id": "79821022",
   "metadata": {},
   "outputs": [],
   "source": [
    "folder_name = f\"{order}_{name}\""
   ]
  },
  {
   "cell_type": "code",
   "execution_count": 4,
   "id": "3d4dcc8b",
   "metadata": {},
   "outputs": [],
   "source": [
    "\n",
    "\n",
    "hrdata = hp.get_data(f\"csv/{folder_name}/ECG_{name}_{phase}.csv\", delim = \",\", column_name = \"ECG\") # numpy.ndarray\n",
    "fs = 500.0"
   ]
  },
  {
   "cell_type": "code",
   "execution_count": 5,
   "id": "d3db47bd",
   "metadata": {},
   "outputs": [
    {
     "name": "stdout",
     "output_type": "stream",
     "text": [
      "toki さんの overload フェーズのデータを分析します。\n",
      "計測時間は328.838秒です\n"
     ]
    }
   ],
   "source": [
    "print(f\"{name} さんの {phase} フェーズのデータを分析します。\")\n",
    "sec = len(hrdata)/500\n",
    "print(f\"計測時間は{sec}秒です\")"
   ]
  },
  {
   "cell_type": "markdown",
   "id": "dfbd2ef0",
   "metadata": {},
   "source": [
    "### ここで取得されたのは numpy.ndarray型"
   ]
  },
  {
   "cell_type": "code",
   "execution_count": 6,
   "id": "3b67e035",
   "metadata": {
    "scrolled": false
   },
   "outputs": [
    {
     "name": "stdout",
     "output_type": "stream",
     "text": [
      "\n",
      "Finished in 0.205078 sec\n"
     ]
    }
   ],
   "source": [
    "working_data, measures = hp.process(hrdata, fs, report_time=True, calc_freq=True)"
   ]
  },
  {
   "cell_type": "markdown",
   "id": "1f16f575",
   "metadata": {},
   "source": [
    "### データ数多すぎるので、論文とかで画像載っけるときは生データをスライスしてもイイかも"
   ]
  },
  {
   "cell_type": "markdown",
   "id": "21a28943",
   "metadata": {},
   "source": [
    "[参考文献](https://note.nkmk.me/python-numpy-ndarray-slice/)"
   ]
  },
  {
   "cell_type": "markdown",
   "id": "dfd7f05d",
   "metadata": {},
   "source": [
    "### plot"
   ]
  },
  {
   "cell_type": "code",
   "execution_count": 7,
   "id": "8fa3f7b5",
   "metadata": {},
   "outputs": [],
   "source": [
    "# hp.plotter(working_data, measures)"
   ]
  },
  {
   "cell_type": "code",
   "execution_count": 8,
   "id": "fab4864b",
   "metadata": {},
   "outputs": [
    {
     "data": {
      "text/plain": [
       "{'bpm': 71.61959189654542,\n",
       " 'ibi': 837.7595907928388,\n",
       " 'sdnn': 27.366107509869877,\n",
       " 'sdsd': 13.710948609362275,\n",
       " 'rmssd': 24.434947650172422,\n",
       " 'pnn20': 0.43333333333333335,\n",
       " 'pnn50': 0.01282051282051282,\n",
       " 'hr_mad': 18.0,\n",
       " 'sd1': 17.278103482748104,\n",
       " 'sd2': 34.60615717467661,\n",
       " 's': 1878.448614879234,\n",
       " 'sd1/sd2': 0.4992783045957938,\n",
       " 'breathingrate': 0.12211503236048357,\n",
       " 'vlf': 186.62412815868504,\n",
       " 'lf': 299.52183326734917,\n",
       " 'hf': 85.48393486582219,\n",
       " 'lf/hf': 3.503837694620474,\n",
       " 'p_total': 571.6298962918564,\n",
       " 'vlf_perc': 32.64772003166898,\n",
       " 'lf_perc': 52.397860085754274,\n",
       " 'hf_perc': 14.954419882576744,\n",
       " 'lf_nu': 77.79671320761776,\n",
       " 'hf_nu': 22.20328679238223}"
      ]
     },
     "execution_count": 8,
     "metadata": {},
     "output_type": "execute_result"
    }
   ],
   "source": [
    "measures"
   ]
  },
  {
   "cell_type": "code",
   "execution_count": 9,
   "id": "43788384",
   "metadata": {},
   "outputs": [],
   "source": [
    "# TSV形式でindexを出力しない場合\n",
    "# df.to_csv('output.tsv', sep='\\t', index=False)\n",
    " \n",
    "# TSV形式でindexを出力し、なおかつindexの列名をcol0と設定する場合\n",
    "df = pd.DataFrame(measures,index=[f\"{phase}\"])"
   ]
  },
  {
   "cell_type": "code",
   "execution_count": 10,
   "id": "3884e92e",
   "metadata": {},
   "outputs": [],
   "source": [
    "# df.to_csv(f'{name}_rest.csv', sep=',', index=True, index_label='practice')"
   ]
  },
  {
   "cell_type": "code",
   "execution_count": 11,
   "id": "c6b88db5",
   "metadata": {},
   "outputs": [],
   "source": [
    "if phase == \"rest\":\n",
    "    # 最初だけヘッダーありで上書きエクスポート\n",
    "    df.to_csv(f'csv/{folder_name}/{name}_HRV.csv', sep=',')\n",
    "else:\n",
    "    # mode=\"a\"で上書きではなく追記モード、ヘッダーなし\n",
    "    df.to_csv(f'csv/{folder_name}/{name}_HRV.csv', sep=',', mode=\"a\", header=False)"
   ]
  },
  {
   "cell_type": "code",
   "execution_count": null,
   "id": "f9a00995",
   "metadata": {},
   "outputs": [],
   "source": []
  },
  {
   "cell_type": "code",
   "execution_count": null,
   "id": "3ed0d90b",
   "metadata": {},
   "outputs": [],
   "source": []
  },
  {
   "cell_type": "code",
   "execution_count": null,
   "id": "c54e1bf7",
   "metadata": {},
   "outputs": [],
   "source": []
  }
 ],
 "metadata": {
  "kernelspec": {
   "display_name": "Python 3 (ipykernel)",
   "language": "python",
   "name": "python3"
  },
  "language_info": {
   "codemirror_mode": {
    "name": "ipython",
    "version": 3
   },
   "file_extension": ".py",
   "mimetype": "text/x-python",
   "name": "python",
   "nbconvert_exporter": "python",
   "pygments_lexer": "ipython3",
   "version": "3.9.13"
  }
 },
 "nbformat": 4,
 "nbformat_minor": 5
}
