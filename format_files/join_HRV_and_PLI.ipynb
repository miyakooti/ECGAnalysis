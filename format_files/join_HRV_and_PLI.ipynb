{
 "cells": [
  {
   "cell_type": "code",
   "execution_count": 1,
   "id": "510761f2",
   "metadata": {},
   "outputs": [],
   "source": [
    "import numpy as np\n",
    "import pandas as pd\n",
    "import matplotlib.pyplot as plt\n",
    "%matplotlib inline\n",
    "import glob\n",
    "import re"
   ]
  },
  {
   "cell_type": "code",
   "execution_count": 5,
   "id": "58e49c55",
   "metadata": {},
   "outputs": [
    {
     "data": {
      "text/plain": [
       "['/Users/miyakooti/repositories/arai_MATLAB_program/csv/0_kumakura/ECG/kumakura_HRV.csv',\n",
       " '/Users/miyakooti/repositories/arai_MATLAB_program/csv/1_kim/ECG/kim_HRV.csv',\n",
       " '/Users/miyakooti/repositories/arai_MATLAB_program/csv/2_souma/ECG/souma_HRV.csv',\n",
       " '/Users/miyakooti/repositories/arai_MATLAB_program/csv/3_fujii/ECG/fujii_HRV.csv',\n",
       " '/Users/miyakooti/repositories/arai_MATLAB_program/csv/4_tubota/ECG/tubota_HRV.csv',\n",
       " '/Users/miyakooti/repositories/arai_MATLAB_program/csv/5_toki/ECG/toki_HRV.csv']"
      ]
     },
     "execution_count": 5,
     "metadata": {},
     "output_type": "execute_result"
    }
   ],
   "source": [
    "HRV_pathes = glob.glob(\"/Users/miyakooti/repositories/arai_MATLAB_program/csv/?_*/ECG/*_HRV.csv\")\n",
    "HRV_pathes.sort()\n",
    "HRV_pathes\n",
    "\n",
    "PLI_pathes = glob.glob(\"/Users/miyakooti/repositories/arai_MATLAB_program/csv/?_*/PLIdata/mean_PLI_HRV.csv\")\n",
    "PLI_pathes.sort()\n",
    "PLI_pathes"
   ]
  },
  {
   "cell_type": "code",
   "execution_count": null,
   "id": "4e8adcc6",
   "metadata": {},
   "outputs": [],
   "source": []
  }
 ],
 "metadata": {
  "kernelspec": {
   "display_name": "Python 3 (ipykernel)",
   "language": "python",
   "name": "python3"
  },
  "language_info": {
   "codemirror_mode": {
    "name": "ipython",
    "version": 3
   },
   "file_extension": ".py",
   "mimetype": "text/x-python",
   "name": "python",
   "nbconvert_exporter": "python",
   "pygments_lexer": "ipython3",
   "version": "3.9.13"
  }
 },
 "nbformat": 4,
 "nbformat_minor": 5
}
