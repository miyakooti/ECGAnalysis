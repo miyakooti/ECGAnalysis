{
 "cells": [
  {
   "cell_type": "code",
   "execution_count": 3,
   "id": "95929130",
   "metadata": {},
   "outputs": [],
   "source": [
    "import heartpy as hp\n",
    "\n",
    "# option command v でフルパスをコピー\n",
    "# hrdata = hp.get_data('/Users/miyakooti/repositories/arai_MATLAB_program/data/20221220_kumakura/SSSEP_20221220T152825_kumakura_rest_good.mat')\n",
    "hrdata = hp.get_data(\"data/ECG_kumakura_rest.csv\")"
   ]
  },
  {
   "cell_type": "code",
   "execution_count": null,
   "id": "6086726b",
   "metadata": {},
   "outputs": [],
   "source": []
  }
 ],
 "metadata": {
  "kernelspec": {
   "display_name": "Python 3 (ipykernel)",
   "language": "python",
   "name": "python3"
  },
  "language_info": {
   "codemirror_mode": {
    "name": "ipython",
    "version": 3
   },
   "file_extension": ".py",
   "mimetype": "text/x-python",
   "name": "python",
   "nbconvert_exporter": "python",
   "pygments_lexer": "ipython3",
   "version": "3.7.15"
  }
 },
 "nbformat": 4,
 "nbformat_minor": 5
}
