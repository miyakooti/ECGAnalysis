{
 "cells": [
  {
   "cell_type": "markdown",
   "id": "0d628fb8",
   "metadata": {},
   "source": [
    "- rest\n",
    "- practice\n",
    "- boredom\n",
    "- flow\n",
    "- ultra\n",
    "- overload"
   ]
  },
  {
   "cell_type": "code",
   "execution_count": 1,
   "id": "3c292989",
   "metadata": {},
   "outputs": [],
   "source": [
    "import heartpy as hp\n",
    "import pandas as pd"
   ]
  },
  {
   "cell_type": "code",
   "execution_count": 2,
   "id": "f612184d",
   "metadata": {},
   "outputs": [],
   "source": [
    "name = \"kumakura\"\n",
    "phase = \"overload\"\n",
    "folder_name = f\"0_{name}\""
   ]
  },
  {
   "cell_type": "code",
   "execution_count": 3,
   "id": "3d4dcc8b",
   "metadata": {},
   "outputs": [],
   "source": [
    "# option command v でフルパスをコピー\n",
    "# hrdata = hp.get_data('/Users/miyakooti/repositories/arai_MATLAB_program/data/20221220_kumakura/SSSEP_20221220T152825_kumakura_rest_good.mat')\n",
    "hrdata = hp.get_data(f\"csv/{folder_name}/ECG_{name}_{phase}.csv\", delim = \",\", column_name = \"ECG\") # numpy.ndarray\n",
    "fs = 500.0"
   ]
  },
  {
   "cell_type": "code",
   "execution_count": 4,
   "id": "d3db47bd",
   "metadata": {},
   "outputs": [
    {
     "name": "stdout",
     "output_type": "stream",
     "text": [
      "kumakura さんの overload フェーズのデータを分析します。\n",
      "計測時間は324.99秒です\n"
     ]
    }
   ],
   "source": [
    "print(f\"{name} さんの {phase} フェーズのデータを分析します。\")\n",
    "sec = len(hrdata)/500\n",
    "print(f\"計測時間は{sec}秒です\")"
   ]
  },
  {
   "cell_type": "markdown",
   "id": "dfbd2ef0",
   "metadata": {},
   "source": [
    "### ここで取得されたのは numpy.ndarray型"
   ]
  },
  {
   "cell_type": "code",
   "execution_count": 5,
   "id": "3b67e035",
   "metadata": {
    "scrolled": false
   },
   "outputs": [
    {
     "name": "stdout",
     "output_type": "stream",
     "text": [
      "\n",
      "Finished in 0.191517 sec\n"
     ]
    }
   ],
   "source": [
    "working_data, measures = hp.process(hrdata, fs, report_time=True, calc_freq=True)"
   ]
  },
  {
   "cell_type": "markdown",
   "id": "1f16f575",
   "metadata": {},
   "source": [
    "### データ数多すぎるので、論文とかで画像載っけるときは生データをスライスしてもイイかも"
   ]
  },
  {
   "cell_type": "markdown",
   "id": "21a28943",
   "metadata": {},
   "source": [
    "[参考文献](https://note.nkmk.me/python-numpy-ndarray-slice/)"
   ]
  },
  {
   "cell_type": "markdown",
   "id": "dfd7f05d",
   "metadata": {},
   "source": [
    "### plot"
   ]
  },
  {
   "cell_type": "code",
   "execution_count": 6,
   "id": "8fa3f7b5",
   "metadata": {},
   "outputs": [],
   "source": [
    "# hp.plotter(working_data, measures)"
   ]
  },
  {
   "cell_type": "code",
   "execution_count": 7,
   "id": "fab4864b",
   "metadata": {},
   "outputs": [
    {
     "data": {
      "text/plain": [
       "{'bpm': 75.99149486918739,\n",
       " 'ibi': 789.5620437956204,\n",
       " 'sdnn': 39.822757187109524,\n",
       " 'sdsd': 19.241337119193243,\n",
       " 'rmssd': 33.16654205965889,\n",
       " 'pnn20': 0.551219512195122,\n",
       " 'pnn50': 0.12439024390243902,\n",
       " 'hr_mad': 30.0,\n",
       " 'sd1': 23.45228578426506,\n",
       " 'sd2': 51.274383616275976,\n",
       " 's': 3777.7698719876503,\n",
       " 'sd1/sd2': 0.4573879612044839,\n",
       " 'breathingrate': 0.12326276540014175,\n",
       " 'vlf': 682.8926758551914,\n",
       " 'lf': 308.79285363923105,\n",
       " 'hf': 115.23770573100155,\n",
       " 'lf/hf': 2.6796164647710334,\n",
       " 'p_total': 1106.9232352254242,\n",
       " 'vlf_perc': 61.69286668881974,\n",
       " 'lf_perc': 27.89650120374839,\n",
       " 'hf_perc': 10.410632107431866,\n",
       " 'lf_nu': 72.82325455454158,\n",
       " 'hf_nu': 27.176745445458423}"
      ]
     },
     "execution_count": 7,
     "metadata": {},
     "output_type": "execute_result"
    }
   ],
   "source": [
    "measures"
   ]
  },
  {
   "cell_type": "code",
   "execution_count": 8,
   "id": "43788384",
   "metadata": {},
   "outputs": [],
   "source": [
    "# TSV形式でindexを出力しない場合\n",
    "# df.to_csv('output.tsv', sep='\\t', index=False)\n",
    " \n",
    "# TSV形式でindexを出力し、なおかつindexの列名をcol0と設定する場合\n",
    "df = pd.DataFrame(measures,index=[f\"{phase}\"])"
   ]
  },
  {
   "cell_type": "code",
   "execution_count": 9,
   "id": "3884e92e",
   "metadata": {},
   "outputs": [],
   "source": [
    "# df.to_csv(f'{name}_rest.csv', sep=',', index=True, index_label='practice')"
   ]
  },
  {
   "cell_type": "code",
   "execution_count": 10,
   "id": "c6b88db5",
   "metadata": {},
   "outputs": [],
   "source": [
    "if phase == \"rest\":\n",
    "    df.to_csv(f'{name}_HRV.csv', sep=',')\n",
    "else:\n",
    "    # mode=\"a\"で上書きではなく追記モード、ヘッダーなし\n",
    "    df.to_csv(f'{name}_HRV.csv', sep=',', mode=\"a\", header=False)"
   ]
  },
  {
   "cell_type": "code",
   "execution_count": null,
   "id": "f9a00995",
   "metadata": {},
   "outputs": [],
   "source": []
  },
  {
   "cell_type": "code",
   "execution_count": null,
   "id": "3ed0d90b",
   "metadata": {},
   "outputs": [],
   "source": []
  }
 ],
 "metadata": {
  "kernelspec": {
   "display_name": "Python 3 (ipykernel)",
   "language": "python",
   "name": "python3"
  },
  "language_info": {
   "codemirror_mode": {
    "name": "ipython",
    "version": 3
   },
   "file_extension": ".py",
   "mimetype": "text/x-python",
   "name": "python",
   "nbconvert_exporter": "python",
   "pygments_lexer": "ipython3",
   "version": "3.9.13"
  }
 },
 "nbformat": 4,
 "nbformat_minor": 5
}
